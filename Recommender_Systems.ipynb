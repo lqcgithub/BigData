{
  "nbformat": 4,
  "nbformat_minor": 0,
  "metadata": {
    "colab": {
      "name": "Recommender Systems.ipynb",
      "provenance": [],
      "collapsed_sections": [],
      "mount_file_id": "1wpkoi5_FyJwplnWjHyjkWrjX-shXkowr",
      "authorship_tag": "ABX9TyMMPwWVgPfQV3+dnSVDrGEZ",
      "include_colab_link": true
    },
    "kernelspec": {
      "name": "python3",
      "display_name": "Python 3"
    },
    "language_info": {
      "name": "python"
    }
  },
  "cells": [
    {
      "cell_type": "markdown",
      "metadata": {
        "id": "view-in-github",
        "colab_type": "text"
      },
      "source": [
        "<a href=\"https://colab.research.google.com/github/lqcgithub/MiningofMassiveDatasets/blob/main/Recommender_Systems.ipynb\" target=\"_parent\"><img src=\"https://colab.research.google.com/assets/colab-badge.svg\" alt=\"Open In Colab\"/></a>"
      ]
    },
    {
      "cell_type": "markdown",
      "metadata": {
        "id": "U4HpagqUcIOT"
      },
      "source": [
        "# **Recommendation system.**\n"
      ]
    },
    {
      "cell_type": "markdown",
      "metadata": {
        "id": "uyrvWmethF5A"
      },
      "source": [
        "# I. Tổng quát \n",
        "\n",
        "\n",
        "---\n",
        "\n",
        "\n",
        "Recommender System (RS) là một hệ thống khuyến nghị. Nhiệm vụ của RS là dự đoán mức độ quan tâm của người dùng với một sản phẩm nào đó thông qua các mô hình khuyến nghị thích hợp.\n",
        "\n",
        "Cần quan tâm: users, items, ratings.\n",
        "# II. Mô hình khuyến nghị\n",
        "\n",
        "\n",
        "---\n",
        "\n",
        "\n",
        "a. Content-based System\n",
        "\n",
        "Khuyến nghị dựa trên đặc tính sản phẩm. Dễ thấy nhất là các hệ thống sử dụng loại, thể loại sản phẩm mà user tiêu thụ để khuyến nghị cho họ những sản phẩm có loại, thể loại tương tự. \n",
        "\n",
        "--> những sản phẩm không rõ phân loại, hay quá nhiều phân loại sẽ ảnh hưởng đến acuracy của mô hình.\n",
        "\n",
        "b. Collaborative Filtering\n",
        "\n",
        "Khuyến nghị dựa trên sự tương quan giữa users vs users, items vs items, hoặc cả 2. Ví dụ một nhóm user A, B, C thích item I và dữ liệu cho thấy B, C cũng thích item I2. Hệ thống sẽ khuyến nghị item I2 cho A vì có khả năng A cũng thích I2.\n",
        "\n",
        "--> hoàn thiện hơn Content-based System.\n",
        "\n",
        "\n"
      ]
    },
    {
      "cell_type": "code",
      "metadata": {
        "colab": {
          "base_uri": "https://localhost:8080/"
        },
        "id": "nQoTlCI84M5r",
        "outputId": "14a98afe-7838-4f13-8124-c9bdb9c60107"
      },
      "source": [
        "from google.colab import drive\n",
        "drive.mount('/content/drive')"
      ],
      "execution_count": null,
      "outputs": [
        {
          "output_type": "stream",
          "text": [
            "Drive already mounted at /content/drive; to attempt to forcibly remount, call drive.mount(\"/content/drive\", force_remount=True).\n"
          ],
          "name": "stdout"
        }
      ]
    },
    {
      "cell_type": "code",
      "metadata": {
        "id": "SCX33maM4nC8"
      },
      "source": [
        "import pandas as pd\n",
        "import numpy as np"
      ],
      "execution_count": null,
      "outputs": []
    },
    {
      "cell_type": "code",
      "metadata": {
        "id": "mDmdVVVLC1C5"
      },
      "source": [
        "from sklearn.metrics.pairwise import cosine_similarity\n",
        "from scipy import sparse"
      ],
      "execution_count": null,
      "outputs": []
    },
    {
      "cell_type": "code",
      "metadata": {
        "id": "EMDinN6zb72g"
      },
      "source": [
        "metadata = pd.read_csv('/content/drive/MyDrive/sample-datasets/ratings.csv');"
      ],
      "execution_count": null,
      "outputs": []
    },
    {
      "cell_type": "code",
      "metadata": {
        "colab": {
          "base_uri": "https://localhost:8080/"
        },
        "id": "leNLbrAZ530n",
        "outputId": "53d91dfb-0906-41f2-c56a-4ff08166cb33"
      },
      "source": [
        "metadata.head(5)"
      ],
      "execution_count": null,
      "outputs": [
        {
          "output_type": "execute_result",
          "data": {
            "text/html": [
              "<div>\n",
              "<style scoped>\n",
              "    .dataframe tbody tr th:only-of-type {\n",
              "        vertical-align: middle;\n",
              "    }\n",
              "\n",
              "    .dataframe tbody tr th {\n",
              "        vertical-align: top;\n",
              "    }\n",
              "\n",
              "    .dataframe thead th {\n",
              "        text-align: right;\n",
              "    }\n",
              "</style>\n",
              "<table border=\"1\" class=\"dataframe\">\n",
              "  <thead>\n",
              "    <tr style=\"text-align: right;\">\n",
              "      <th></th>\n",
              "      <th>userId</th>\n",
              "      <th>movieId</th>\n",
              "      <th>rating</th>\n",
              "      <th>timestamp</th>\n",
              "    </tr>\n",
              "  </thead>\n",
              "  <tbody>\n",
              "    <tr>\n",
              "      <th>0</th>\n",
              "      <td>1</td>\n",
              "      <td>296</td>\n",
              "      <td>5.0</td>\n",
              "      <td>1147880044</td>\n",
              "    </tr>\n",
              "    <tr>\n",
              "      <th>1</th>\n",
              "      <td>1</td>\n",
              "      <td>306</td>\n",
              "      <td>3.5</td>\n",
              "      <td>1147868817</td>\n",
              "    </tr>\n",
              "    <tr>\n",
              "      <th>2</th>\n",
              "      <td>1</td>\n",
              "      <td>307</td>\n",
              "      <td>5.0</td>\n",
              "      <td>1147868828</td>\n",
              "    </tr>\n",
              "    <tr>\n",
              "      <th>3</th>\n",
              "      <td>1</td>\n",
              "      <td>665</td>\n",
              "      <td>5.0</td>\n",
              "      <td>1147878820</td>\n",
              "    </tr>\n",
              "    <tr>\n",
              "      <th>4</th>\n",
              "      <td>1</td>\n",
              "      <td>899</td>\n",
              "      <td>3.5</td>\n",
              "      <td>1147868510</td>\n",
              "    </tr>\n",
              "  </tbody>\n",
              "</table>\n",
              "</div>"
            ],
            "text/plain": [
              "   userId  movieId  rating   timestamp\n",
              "0       1      296     5.0  1147880044\n",
              "1       1      306     3.5  1147868817\n",
              "2       1      307     5.0  1147868828\n",
              "3       1      665     5.0  1147878820\n",
              "4       1      899     3.5  1147868510"
            ]
          },
          "metadata": {
            "tags": []
          },
          "execution_count": 6
        }
      ]
    },
    {
      "cell_type": "code",
      "metadata": {
        "colab": {
          "base_uri": "https://localhost:8080/"
        },
        "id": "hE76KJhL6dDF",
        "outputId": "d54e7ff4-2daa-4616-aeca-801031e9e147"
      },
      "source": [
        "len(metadata)"
      ],
      "execution_count": null,
      "outputs": [
        {
          "output_type": "execute_result",
          "data": {
            "text/plain": [
              "25000095"
            ]
          },
          "metadata": {
            "tags": []
          },
          "execution_count": 7
        }
      ]
    },
    {
      "cell_type": "code",
      "metadata": {
        "id": "8ZHD6WnB66p2"
      },
      "source": [
        "users = metadata['userId']\n",
        "movies = metadata['movieId']\n",
        "ratings = metadata['rating']"
      ],
      "execution_count": null,
      "outputs": []
    },
    {
      "cell_type": "code",
      "metadata": {
        "id": "73FGue2p9dLm"
      },
      "source": [
        "class CF(object):\n",
        "    def __init__(self, Y_data, k, dist_func = cosine_similarity, uuCF = 1):\n",
        "        self.uuCF = uuCF \n",
        "        self.Y_data = Y_data if uuCF else Y_data[:, [1, 0, 2]]\n",
        "        self.k = k\n",
        "        self.dist_func = dist_func\n",
        "        self.Ybar_data = None\n",
        "        self.n_users = int(np.max(self.Y_data[:, 0])) + 1 \n",
        "        self.n_items = int(np.max(self.Y_data[:, 1])) + 1\n",
        "    def add(self, new_data):\n",
        "        self.Y_data = np.concatenate((self.Y_data, new_data), axis = 0)\n",
        "    def normalize_Y(self):\n",
        "        users = self.Y_data[:, 0]\n",
        "        self.Ybar_data = self.Y_data.copy()\n",
        "        self.mu = np.zeros((self.n_users,))\n",
        "        for n in range(self.n_users):         \n",
        "            ids = np.where(users == n)[0].astype(np.int32)\n",
        "            item_ids = self.Y_data[ids, 1] \n",
        "            ratings = self.Y_data[ids, 2]\n",
        "            m = np.mean(ratings) \n",
        "            if np.isnan(m):\n",
        "                m = 0\n",
        "            self.Ybar_data[ids, 2] = ratings - self.mu[n]\n",
        "        self.Ybar = sparse.coo_matrix((self.Ybar_data[:, 2],\n",
        "            (self.Ybar_data[:, 1], self.Ybar_data[:, 0])), (self.n_items, self.n_users))\n",
        "        self.Ybar = self.Ybar.tocsr()\n",
        "\n",
        "    def similarity(self):\n",
        "        self.S = self.dist_func(self.Ybar.T, self.Ybar.T)\n",
        "    def refresh(self):\n",
        "      \n",
        "        self.normalize_Y()\n",
        "        self.similarity() \n",
        "        \n",
        "    def fit(self):\n",
        "        self.refresh()\n",
        "    def __pred(self, u, i, normalized = 1):\n",
        "        \"\"\" \n",
        "        predict the rating of user u for item i (normalized)\n",
        "        if you need the un\n",
        "        \"\"\"\n",
        "        # Step 1: find all users who rated i\n",
        "        ids = np.where(self.Y_data[:, 1] == i)[0].astype(np.int32)\n",
        "        # Step 2: \n",
        "        users_rated_i = (self.Y_data[ids, 0]).astype(np.int32)\n",
        "        # Step 3: find similarity btw the current user and others \n",
        "        # who already rated i\n",
        "        sim = self.S[u, users_rated_i]\n",
        "        # Step 4: find the k most similarity users\n",
        "        a = np.argsort(sim)[-self.k:] \n",
        "        # and the corresponding similarity levels\n",
        "        nearest_s = sim[a]\n",
        "        # How did each of 'near' users rated item i\n",
        "        r = self.Ybar[i, users_rated_i[a]]\n",
        "        if normalized:\n",
        "            # add a small number, for instance, 1e-8, to avoid dividing by 0\n",
        "            return (r*nearest_s)[0]/(np.abs(nearest_s).sum() + 1e-8)\n",
        "\n",
        "        return (r*nearest_s)[0]/(np.abs(nearest_s).sum() + 1e-8) + self.mu[u]\n",
        "    \n",
        "    \n",
        "    def pred(self, u, i, normalized = 1):\n",
        "        \"\"\" \n",
        "        predict the rating of user u for item i (normalized)\n",
        "        if you need the un\n",
        "        \"\"\"\n",
        "        if self.uuCF: return self.__pred(u, i, normalize)\n",
        "        return self.__pred(i, u, normalize)\n",
        "    def recommend(self, u, normalized = 1):\n",
        "        \"\"\"\n",
        "        Determine all items should be recommended for user u. (uuCF =1)\n",
        "        or all users who might have interest on item u (uuCF = 0)\n",
        "        The decision is made based on all i such that:\n",
        "        self.pred(u, i) > 0. Suppose we are considering items which \n",
        "        have not been rated by u yet. \n",
        "        \"\"\"\n",
        "        ids = np.where(self.Y_data[:, 0] == u)[0]\n",
        "        items_rated_by_u = self.Y_data[ids, 1].tolist()              \n",
        "        recommended_items = []\n",
        "        for i in xrange(self.n_items):\n",
        "            if i not in items_rated_by_u:\n",
        "                rating = self.__pred(u, i)\n",
        "                if rating > 0: \n",
        "                    recommended_items.append(i)\n",
        "        \n",
        "        return recommended_items \n",
        "    def print_recommendation(self):\n",
        "        \"\"\"\n",
        "        print all items which should be recommended for each user \n",
        "        \"\"\"\n",
        "        print ('Recommendation: ')\n",
        "        for u in range(self.n_users):\n",
        "            recommended_items = self.recommend(u)\n",
        "            if self.uuCF:\n",
        "                print ('Recommend item(s):', recommended_items, 'to user', u)\n",
        "            else: \n",
        "                print ('Recommend item', u, 'to user(s) : ', recommended_items)       "
      ],
      "execution_count": null,
      "outputs": []
    },
    {
      "cell_type": "code",
      "metadata": {
        "colab": {
          "base_uri": "https://localhost:8080/"
        },
        "id": "A0gZlCTB_j4F",
        "outputId": "e3b28cd9-8d05-4c7e-fc8e-d43cad0c1f23"
      },
      "source": [
        "Y_data = metadata[['userId', 'movieId', 'rating']].to_numpy()\n",
        "\n",
        "rs = CF(Y_data, k = 2, uuCF = 1)\n",
        "rs.fit()\n",
        "rs.print_recommendation()"
      ],
      "execution_count": null,
      "outputs": [
        {
          "output_type": "stream",
          "text": [
            "/usr/local/lib/python3.7/dist-packages/numpy/core/fromnumeric.py:3373: RuntimeWarning: Mean of empty slice.\n",
            "  out=out, **kwargs)\n",
            "/usr/local/lib/python3.7/dist-packages/numpy/core/_methods.py:170: RuntimeWarning: invalid value encountered in double_scalars\n",
            "  ret = ret.dtype.type(ret / rcount)\n"
          ],
          "name": "stderr"
        }
      ]
    }
  ]
}