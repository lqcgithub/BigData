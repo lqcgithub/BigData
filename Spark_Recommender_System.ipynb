{
  "nbformat": 4,
  "nbformat_minor": 0,
  "metadata": {
    "colab": {
      "name": "Spark Recommender System.ipynb",
      "provenance": [],
      "collapsed_sections": [],
      "mount_file_id": "1FRKm-1J89CLwSGnlGPjZWwDLDrunoNxQ",
      "authorship_tag": "ABX9TyN+XCh6D97jm25KV7UShtPz",
      "include_colab_link": true
    },
    "kernelspec": {
      "name": "python3",
      "display_name": "Python 3"
    },
    "language_info": {
      "name": "python"
    }
  },
  "cells": [
    {
      "cell_type": "markdown",
      "metadata": {
        "id": "view-in-github",
        "colab_type": "text"
      },
      "source": [
        "<a href=\"https://colab.research.google.com/github/lqcgithub/MiningofMassiveDatasets/blob/main/Spark_Recommender_System.ipynb\" target=\"_parent\"><img src=\"https://colab.research.google.com/assets/colab-badge.svg\" alt=\"Open In Colab\"/></a>"
      ]
    },
    {
      "cell_type": "code",
      "metadata": {
        "colab": {
          "base_uri": "https://localhost:8080/"
        },
        "id": "BQD4nvOAO3Wf",
        "outputId": "948de42c-fe3b-4708-c4c3-98ea6c870a02"
      },
      "source": [
        "pip install pyspark"
      ],
      "execution_count": 41,
      "outputs": [
        {
          "output_type": "stream",
          "text": [
            "Requirement already satisfied: pyspark in /usr/local/lib/python3.7/dist-packages (3.1.1)\n",
            "Requirement already satisfied: py4j==0.10.9 in /usr/local/lib/python3.7/dist-packages (from pyspark) (0.10.9)\n"
          ],
          "name": "stdout"
        }
      ]
    },
    {
      "cell_type": "code",
      "metadata": {
        "id": "HmjmO7ScOkbX"
      },
      "source": [
        "import pandas as pd\n",
        "import time\n",
        "from pyspark.sql import SparkSession\n",
        "spark = SparkSession.builder.appName('RS').getOrCreate()"
      ],
      "execution_count": 42,
      "outputs": []
    },
    {
      "cell_type": "code",
      "metadata": {
        "id": "QdfT7u8RSNbI"
      },
      "source": [
        "from pyspark.ml.evaluation import RegressionEvaluator\n",
        "from pyspark.ml.recommendation import ALS\n",
        "from pyspark.sql.functions import col"
      ],
      "execution_count": 43,
      "outputs": []
    },
    {
      "cell_type": "code",
      "metadata": {
        "id": "AyV95R0qPWIn",
        "colab": {
          "base_uri": "https://localhost:8080/"
        },
        "outputId": "8f7b58a2-80b0-453f-e9dd-15407a9665b6"
      },
      "source": [
        "from google.colab import drive\n",
        "drive.mount('/content/drive')"
      ],
      "execution_count": 44,
      "outputs": [
        {
          "output_type": "stream",
          "text": [
            "Drive already mounted at /content/drive; to attempt to forcibly remount, call drive.mount(\"/content/drive\", force_remount=True).\n"
          ],
          "name": "stdout"
        }
      ]
    },
    {
      "cell_type": "code",
      "metadata": {
        "id": "8HrokHytO9c2"
      },
      "source": [
        "metadata = spark.read.option(\"header\",True).csv(\"/content/drive/MyDrive/sample-datasets/ratings.csv\")"
      ],
      "execution_count": 45,
      "outputs": []
    },
    {
      "cell_type": "code",
      "metadata": {
        "colab": {
          "base_uri": "https://localhost:8080/"
        },
        "id": "Ea7EcI64PuaK",
        "outputId": "c50e67af-907c-4af9-cf00-9f5a728e9192"
      },
      "source": [
        "metadata.head(5)"
      ],
      "execution_count": 46,
      "outputs": [
        {
          "output_type": "execute_result",
          "data": {
            "text/plain": [
              "[Row(userId='1', movieId='296', rating='5.0', timestamp='1147880044'),\n",
              " Row(userId='1', movieId='306', rating='3.5', timestamp='1147868817'),\n",
              " Row(userId='1', movieId='307', rating='5.0', timestamp='1147868828'),\n",
              " Row(userId='1', movieId='665', rating='5.0', timestamp='1147878820'),\n",
              " Row(userId='1', movieId='899', rating='3.5', timestamp='1147868510')]"
            ]
          },
          "metadata": {
            "tags": []
          },
          "execution_count": 46
        }
      ]
    },
    {
      "cell_type": "code",
      "metadata": {
        "colab": {
          "base_uri": "https://localhost:8080/"
        },
        "id": "fp40A_SMP5Lg",
        "outputId": "bcbf524b-4259-4073-f79b-9dde11eeb556"
      },
      "source": [
        "metadata.show()"
      ],
      "execution_count": 47,
      "outputs": [
        {
          "output_type": "stream",
          "text": [
            "+------+-------+------+----------+\n",
            "|userId|movieId|rating| timestamp|\n",
            "+------+-------+------+----------+\n",
            "|     1|    296|   5.0|1147880044|\n",
            "|     1|    306|   3.5|1147868817|\n",
            "|     1|    307|   5.0|1147868828|\n",
            "|     1|    665|   5.0|1147878820|\n",
            "|     1|    899|   3.5|1147868510|\n",
            "|     1|   1088|   4.0|1147868495|\n",
            "|     1|   1175|   3.5|1147868826|\n",
            "|     1|   1217|   3.5|1147878326|\n",
            "|     1|   1237|   5.0|1147868839|\n",
            "|     1|   1250|   4.0|1147868414|\n",
            "|     1|   1260|   3.5|1147877857|\n",
            "|     1|   1653|   4.0|1147868097|\n",
            "|     1|   2011|   2.5|1147868079|\n",
            "|     1|   2012|   2.5|1147868068|\n",
            "|     1|   2068|   2.5|1147869044|\n",
            "|     1|   2161|   3.5|1147868609|\n",
            "|     1|   2351|   4.5|1147877957|\n",
            "|     1|   2573|   4.0|1147878923|\n",
            "|     1|   2632|   5.0|1147878248|\n",
            "|     1|   2692|   5.0|1147869100|\n",
            "+------+-------+------+----------+\n",
            "only showing top 20 rows\n",
            "\n"
          ],
          "name": "stdout"
        }
      ]
    },
    {
      "cell_type": "code",
      "metadata": {
        "id": "kY4Y4p9kTHGJ"
      },
      "source": [
        "metadata = metadata.withColumn(\"userId\",col(\"userId\").cast(\"int\")).withColumn(\"movieId\",col(\"movieId\").cast(\"int\")).withColumn(\"rating\",col(\"rating\").cast(\"float\")).withColumn(\"timestamp\",col(\"timestamp\").cast(\"double\"))"
      ],
      "execution_count": 48,
      "outputs": []
    },
    {
      "cell_type": "code",
      "metadata": {
        "id": "LGCDswOFQJ_b"
      },
      "source": [
        "(training, test) = metadata.randomSplit([0.8, 0.2])"
      ],
      "execution_count": 49,
      "outputs": []
    },
    {
      "cell_type": "code",
      "metadata": {
        "id": "leLR86WeSDOG",
        "colab": {
          "base_uri": "https://localhost:8080/"
        },
        "outputId": "6e6c8401-1300-4051-fa6c-65e475216c92"
      },
      "source": [
        "start = time.time()\n",
        "als = ALS(maxIter=5, regParam=0.01, userCol=\"userId\", itemCol=\"movieId\", ratingCol=\"rating\")\n",
        "model = als.fit(training)\n",
        "recomendations = model.recommendForAllUsers(10)\n",
        "end = time.time()\n",
        "print(\"ALS completed in {:.4f} seconds\" .format(end-start))"
      ],
      "execution_count": 50,
      "outputs": [
        {
          "output_type": "stream",
          "text": [
            "ALS completed in 182.2160 seconds\n"
          ],
          "name": "stdout"
        }
      ]
    },
    {
      "cell_type": "code",
      "metadata": {
        "id": "PinFzGSwredR",
        "colab": {
          "base_uri": "https://localhost:8080/"
        },
        "outputId": "305debd0-577f-46ff-a872-e932e23922f0"
      },
      "source": [
        "\n",
        "recomendations.show(5)"
      ],
      "execution_count": 51,
      "outputs": [
        {
          "output_type": "stream",
          "text": [
            "+------+--------------------+\n",
            "|userId|     recommendations|\n",
            "+------+--------------------+\n",
            "|   148|[{177657, 11.4261...|\n",
            "|   463|[{188225, 18.2845...|\n",
            "|   471|[{176459, 12.5576...|\n",
            "|   496|[{160557, 14.2247...|\n",
            "|   833|[{177657, 12.6587...|\n",
            "+------+--------------------+\n",
            "only showing top 5 rows\n",
            "\n"
          ],
          "name": "stdout"
        }
      ]
    },
    {
      "cell_type": "code",
      "metadata": {
        "id": "CctzMNaLqpq6"
      },
      "source": [
        "predictions = model.transform(test)"
      ],
      "execution_count": 52,
      "outputs": []
    },
    {
      "cell_type": "code",
      "metadata": {
        "colab": {
          "base_uri": "https://localhost:8080/"
        },
        "id": "v7rlvCJurObs",
        "outputId": "ebfac7a3-e26e-4f6f-9627-42b3c9b15bb5"
      },
      "source": [
        "predictions.show()"
      ],
      "execution_count": 53,
      "outputs": [
        {
          "output_type": "stream",
          "text": [
            "+------+-------+------+-------------+----------+\n",
            "|userId|movieId|rating|    timestamp|prediction|\n",
            "+------+-------+------+-------------+----------+\n",
            "|124207|    148|   3.0| 8.47246861E8| 1.3863465|\n",
            "|  8249|    148|   3.0| 8.35454413E8| 2.7297518|\n",
            "|159730|    148|   3.0| 8.42162037E8| 2.4039497|\n",
            "| 21531|    148|   3.0| 8.34035555E8|  2.691166|\n",
            "| 54331|    148|   2.0| 9.54702916E8|  3.294952|\n",
            "| 14831|    148|   3.0| 9.44148276E8| 2.7285526|\n",
            "| 66907|    148|   4.0| 8.44353203E8| 3.8418221|\n",
            "| 31171|    148|   2.0| 8.55003432E8| 2.4895992|\n",
            "| 98520|    148|   4.0|1.034547175E9|  3.052722|\n",
            "| 66440|    148|   2.5|1.099143605E9| 2.7752597|\n",
            "| 49403|    148|   2.0|1.505584741E9| 1.5442522|\n",
            "|135438|    148|   2.0| 9.45010495E8|  3.247229|\n",
            "| 25664|    148|   3.0| 8.35559154E8| 3.1376905|\n",
            "| 66358|    148|   3.5|1.064853335E9|  2.358512|\n",
            "| 81091|    148|   1.0|   8.347245E8|  2.608543|\n",
            "|132310|    148|   3.0| 8.36248537E8| 1.8244994|\n",
            "|115095|    148|   4.0|  9.4493074E8| 3.1624346|\n",
            "| 74598|    148|   3.0| 9.45456963E8| 2.7977517|\n",
            "| 73925|    148|   2.5|1.451016292E9|  3.217993|\n",
            "|110863|    148|   3.0| 8.32312374E8|  3.000399|\n",
            "+------+-------+------+-------------+----------+\n",
            "only showing top 20 rows\n",
            "\n"
          ],
          "name": "stdout"
        }
      ]
    },
    {
      "cell_type": "code",
      "metadata": {
        "id": "-rWnMJX03VRv",
        "colab": {
          "base_uri": "https://localhost:8080/"
        },
        "outputId": "6851ba97-582b-4143-c4a6-3c11caecdb5c"
      },
      "source": [
        "from pyspark.ml.evaluation import RegressionEvaluator\n",
        "evaluator = RegressionEvaluator(metricName=\"rmse\", labelCol=\"rating\",predictionCol=\"prediction\")\n",
        "rmse = evaluator.evaluate(predictions)\n",
        "print(\"Root-mean-square error = \" + str(rmse))"
      ],
      "execution_count": 59,
      "outputs": [
        {
          "output_type": "stream",
          "text": [
            "Root-mean-square error = nan\n"
          ],
          "name": "stdout"
        }
      ]
    }
  ]
}