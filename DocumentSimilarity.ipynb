{
  "nbformat": 4,
  "nbformat_minor": 0,
  "metadata": {
    "colab": {
      "name": "DocumentSimilarity.ipynb",
      "provenance": [],
      "collapsed_sections": [],
      "toc_visible": true,
      "mount_file_id": "1RuPd21Zsg-5GuI14JcwRoaOoMMfmGUEb",
      "authorship_tag": "ABX9TyPzwBM6SJPsd7V/weELKqMo",
      "include_colab_link": true
    },
    "kernelspec": {
      "name": "python3",
      "display_name": "Python 3"
    },
    "language_info": {
      "name": "python"
    }
  },
  "cells": [
    {
      "cell_type": "markdown",
      "metadata": {
        "id": "view-in-github",
        "colab_type": "text"
      },
      "source": [
        "<a href=\"https://colab.research.google.com/github/lqcgithub/MiningofMassiveDatasets/blob/main/DocumentSimilarity.ipynb\" target=\"_parent\"><img src=\"https://colab.research.google.com/assets/colab-badge.svg\" alt=\"Open In Colab\"/></a>"
      ]
    },
    {
      "cell_type": "code",
      "metadata": {
        "colab": {
          "base_uri": "https://localhost:8080/"
        },
        "id": "dgmVnJjGyHZi",
        "outputId": "ee117a43-cc3b-442c-b90c-f0ed3a58763c"
      },
      "source": [
        "!pip install selenium\n",
        "!apt-get update # to update ubuntu to correctly run apt install\n",
        "!apt install chromium-chromedriver\n",
        "!cp /usr/lib/chromium-browser/chromedriver /usr/bin\n",
        "import sys\n",
        "sys.path.insert(0,'/usr/lib/chromium-browser/chromedriver')\n",
        "from selenium import webdriver\n",
        "chrome_options = webdriver.ChromeOptions()\n",
        "chrome_options.add_argument('--headless')\n",
        "chrome_options.add_argument('--no-sandbox')\n",
        "chrome_options.add_argument('--disable-dev-shm-usage')"
      ],
      "execution_count": null,
      "outputs": [
        {
          "output_type": "stream",
          "text": [
            "Requirement already satisfied: selenium in /usr/local/lib/python3.7/dist-packages (3.141.0)\n",
            "Requirement already satisfied: urllib3 in /usr/local/lib/python3.7/dist-packages (from selenium) (1.24.3)\n",
            "Hit:1 https://cloud.r-project.org/bin/linux/ubuntu bionic-cran40/ InRelease\n",
            "Ign:2 https://developer.download.nvidia.com/compute/cuda/repos/ubuntu1804/x86_64  InRelease\n",
            "Hit:3 http://security.ubuntu.com/ubuntu bionic-security InRelease\n",
            "Ign:4 https://developer.download.nvidia.com/compute/machine-learning/repos/ubuntu1804/x86_64  InRelease\n",
            "Hit:5 https://developer.download.nvidia.com/compute/cuda/repos/ubuntu1804/x86_64  Release\n",
            "Hit:6 https://developer.download.nvidia.com/compute/machine-learning/repos/ubuntu1804/x86_64  Release\n",
            "Hit:7 http://ppa.launchpad.net/c2d4u.team/c2d4u4.0+/ubuntu bionic InRelease\n",
            "Hit:8 http://archive.ubuntu.com/ubuntu bionic InRelease\n",
            "Get:10 http://archive.ubuntu.com/ubuntu bionic-updates InRelease [88.7 kB]\n",
            "Hit:11 http://ppa.launchpad.net/cran/libgit2/ubuntu bionic InRelease\n",
            "Hit:13 http://ppa.launchpad.net/deadsnakes/ppa/ubuntu bionic InRelease\n",
            "Get:14 http://archive.ubuntu.com/ubuntu bionic-backports InRelease [74.6 kB]\n",
            "Hit:15 http://ppa.launchpad.net/graphics-drivers/ppa/ubuntu bionic InRelease\n",
            "Get:16 http://archive.ubuntu.com/ubuntu bionic-updates/universe amd64 Packages [2,170 kB]\n",
            "Get:17 http://archive.ubuntu.com/ubuntu bionic-updates/main amd64 Packages [2,475 kB]\n",
            "Fetched 4,808 kB in 4s (1,191 kB/s)\n",
            "Reading package lists... Done\n",
            "Reading package lists... Done\n",
            "Building dependency tree       \n",
            "Reading state information... Done\n",
            "chromium-chromedriver is already the newest version (89.0.4389.90-0ubuntu0.18.04.2).\n",
            "0 upgraded, 0 newly installed, 0 to remove and 48 not upgraded.\n",
            "cp: '/usr/lib/chromium-browser/chromedriver' and '/usr/bin/chromedriver' are the same file\n"
          ],
          "name": "stdout"
        }
      ]
    },
    {
      "cell_type": "code",
      "metadata": {
        "colab": {
          "base_uri": "https://localhost:8080/"
        },
        "id": "W0t-c9Mj0NTY",
        "outputId": "f128bc22-0682-493e-e5fb-20ac012dede2"
      },
      "source": [
        "pip install beautifulsoup4"
      ],
      "execution_count": null,
      "outputs": [
        {
          "output_type": "stream",
          "text": [
            "Requirement already satisfied: beautifulsoup4 in /usr/local/lib/python3.7/dist-packages (4.6.3)\n"
          ],
          "name": "stdout"
        }
      ]
    },
    {
      "cell_type": "code",
      "metadata": {
        "colab": {
          "base_uri": "https://localhost:8080/"
        },
        "id": "ykB0iTAC5k61",
        "outputId": "049fa585-311f-4f8d-de48-81d4b94c04fe"
      },
      "source": [
        "pip install pyspark"
      ],
      "execution_count": null,
      "outputs": [
        {
          "output_type": "stream",
          "text": [
            "Collecting pyspark\n",
            "\u001b[?25l  Downloading https://files.pythonhosted.org/packages/45/b0/9d6860891ab14a39d4bddf80ba26ce51c2f9dc4805e5c6978ac0472c120a/pyspark-3.1.1.tar.gz (212.3MB)\n",
            "\u001b[K     |████████████████████████████████| 212.3MB 49kB/s \n",
            "\u001b[?25hCollecting py4j==0.10.9\n",
            "\u001b[?25l  Downloading https://files.pythonhosted.org/packages/9e/b6/6a4fb90cd235dc8e265a6a2067f2a2c99f0d91787f06aca4bcf7c23f3f80/py4j-0.10.9-py2.py3-none-any.whl (198kB)\n",
            "\u001b[K     |████████████████████████████████| 204kB 36.4MB/s \n",
            "\u001b[?25hBuilding wheels for collected packages: pyspark\n",
            "  Building wheel for pyspark (setup.py) ... \u001b[?25l\u001b[?25hdone\n",
            "  Created wheel for pyspark: filename=pyspark-3.1.1-py2.py3-none-any.whl size=212767604 sha256=717fec4d6671bad3e800b238213ef2ecbe91b4d5edf49a22fcb405660e57be4a\n",
            "  Stored in directory: /root/.cache/pip/wheels/0b/90/c0/01de724414ef122bd05f056541fb6a0ecf47c7ca655f8b3c0f\n",
            "Successfully built pyspark\n",
            "Installing collected packages: py4j, pyspark\n",
            "Successfully installed py4j-0.10.9 pyspark-3.1.1\n"
          ],
          "name": "stdout"
        }
      ]
    },
    {
      "cell_type": "code",
      "metadata": {
        "colab": {
          "base_uri": "https://localhost:8080/"
        },
        "id": "3gUU5uBf5qJE",
        "outputId": "8320fde0-e120-42ba-9537-763d7dbda475"
      },
      "source": [
        "pip install mmh3"
      ],
      "execution_count": null,
      "outputs": [
        {
          "output_type": "stream",
          "text": [
            "Collecting mmh3\n",
            "\u001b[?25l  Downloading https://files.pythonhosted.org/packages/d9/46/0e568554c7f70ebc3de0c2b2effd3f7b25e66e0e4e0eacaeb7c9145949f2/mmh3-3.0.0-cp37-cp37m-manylinux2010_x86_64.whl (50kB)\n",
            "\r\u001b[K     |██████▍                         | 10kB 10.9MB/s eta 0:00:01\r\u001b[K     |████████████▉                   | 20kB 16.1MB/s eta 0:00:01\r\u001b[K     |███████████████████▎            | 30kB 12.9MB/s eta 0:00:01\r\u001b[K     |█████████████████████████▊      | 40kB 7.8MB/s eta 0:00:01\r\u001b[K     |████████████████████████████████| 51kB 2.6MB/s \n",
            "\u001b[?25hInstalling collected packages: mmh3\n",
            "Successfully installed mmh3-3.0.0\n"
          ],
          "name": "stdout"
        }
      ]
    },
    {
      "cell_type": "code",
      "metadata": {
        "id": "1mc98oDg51X6"
      },
      "source": [
        "import re\n",
        "import numpy as np\n",
        "import collections\n",
        "import random\n",
        "from operator import itemgetter"
      ],
      "execution_count": null,
      "outputs": []
    },
    {
      "cell_type": "code",
      "metadata": {
        "id": "o2d5d_1Q5xRG"
      },
      "source": [
        "import nltk\n",
        "from nltk import ngrams\n",
        "import mmh3"
      ],
      "execution_count": null,
      "outputs": []
    },
    {
      "cell_type": "code",
      "metadata": {
        "id": "uzF1_cCy5hoO"
      },
      "source": [
        "import pyspark\n",
        "from pyspark import SparkConf, SparkContext"
      ],
      "execution_count": null,
      "outputs": []
    },
    {
      "cell_type": "code",
      "metadata": {
        "id": "BaIzNtO80TVF"
      },
      "source": [
        "from bs4 import BeautifulSoup"
      ],
      "execution_count": null,
      "outputs": []
    },
    {
      "cell_type": "code",
      "metadata": {
        "id": "Z56h-9FWzJvX"
      },
      "source": [
        "import time\n",
        "import json\n"
      ],
      "execution_count": null,
      "outputs": []
    },
    {
      "cell_type": "code",
      "metadata": {
        "colab": {
          "base_uri": "https://localhost:8080/"
        },
        "id": "0C5qlli81jgV",
        "outputId": "93bce9fd-fa13-415c-85ed-03185346771d"
      },
      "source": [
        "from google.colab import drive\n",
        "drive.mount('/content/drive')"
      ],
      "execution_count": null,
      "outputs": [
        {
          "output_type": "stream",
          "text": [
            "Drive already mounted at /content/drive; to attempt to forcibly remount, call drive.mount(\"/content/drive\", force_remount=True).\n"
          ],
          "name": "stdout"
        }
      ]
    },
    {
      "cell_type": "code",
      "metadata": {
        "colab": {
          "base_uri": "https://localhost:8080/"
        },
        "id": "s1raK7EGyIM2",
        "outputId": "fbe4956c-1708-4bbb-8445-077470240895"
      },
      "source": [
        "driver = webdriver.Chrome('chromedriver',chrome_options=chrome_options)\n",
        "def getUrls(baseUrl):\n",
        "  driver.get(baseUrl)\n",
        "  time.sleep(3)\n",
        "  previous_height = driver.execute_script(\"return document.body.scrollHeight;\") \n",
        "  while True:\n",
        "      driver.execute_script(\"window.scrollTo(0, document.body.scrollHeight);\")  \n",
        "      time.sleep(3)\n",
        "      new_height = driver.execute_script(\"return document.body.scrollHeight;\")\n",
        "      if new_height == previous_height:\n",
        "          break \n",
        "      previous_height = new_height\n",
        "      time.sleep(3)\n",
        "      driver.execute_script(\"document.querySelector('.view-more-detail a').click();\")\n",
        "      time.sleep(3)\n",
        "      driver.execute_script(\"window.scrollTo(0, document.body.scrollHeight);\")  \n",
        "      time.sleep(3)\n",
        "      new_height = driver.execute_script(\"return document.body.scrollHeight;\")\n",
        "      if new_height == previous_height:\n",
        "          break \n",
        "      previous_height = new_height\n",
        "            \n",
        "  elements = driver.find_elements_by_css_selector(\"h3[class$='-title'] a\")\n",
        "\n",
        "  elementUrls = [el.get_attribute(\"href\") for el in elements]\n",
        "  return elementUrls\n",
        "\n"
      ],
      "execution_count": null,
      "outputs": [
        {
          "output_type": "stream",
          "text": [
            "/usr/local/lib/python3.7/dist-packages/ipykernel_launcher.py:1: DeprecationWarning: use options instead of chrome_options\n",
            "  \"\"\"Entry point for launching an IPython kernel.\n"
          ],
          "name": "stderr"
        }
      ]
    },
    {
      "cell_type": "code",
      "metadata": {
        "id": "ESVSn1Q1FiNW"
      },
      "source": [
        "links = []\n",
        "\n",
        "baseUrls = [\"https://kenh14.vn/star.chn\", \n",
        "            \"https://kenh14.vn/tv-show.chn\", \n",
        "            \"https://kenh14.vn/cine.chn\", \n",
        "            \"https://kenh14.vn/musik.chn\",\n",
        "            \"https://kenh14.vn/beauty-fashion.chn\",\n",
        "            \"https://kenh14.vn/xem-mua-luon.chn\",\n",
        "            \"https://kenh14.vn/doi-song.chn\",\n",
        "            \"https://kenh14.vn/xa-hoi.chn\",\n",
        "            \"https://kenh14.vn/the-gioi.chn\",\n",
        "            \"https://kenh14.vn/sport.chn\",\n",
        "            \"https://kenh14.vn/hoc-duong.chn\"]\n",
        "\n",
        "for baseUrl in baseUrls:\n",
        "  link = getUrls(baseUrl)\n",
        "  links.extend(link)"
      ],
      "execution_count": null,
      "outputs": []
    },
    {
      "cell_type": "code",
      "metadata": {
        "id": "GTynYI-BhUx8",
        "colab": {
          "base_uri": "https://localhost:8080/"
        },
        "outputId": "ffc9f7d3-9e7d-4da8-f408-f69a4d512a30"
      },
      "source": [
        "print(len(links))\n",
        "for link in links:\n",
        "  if link == 'javascript:void(0);':\n",
        "    links.remove(link)"
      ],
      "execution_count": null,
      "outputs": [
        {
          "output_type": "stream",
          "text": [
            "2338\n"
          ],
          "name": "stdout"
        }
      ]
    },
    {
      "cell_type": "code",
      "metadata": {
        "id": "pXSNhSRC_aek",
        "colab": {
          "base_uri": "https://localhost:8080/",
          "height": 471
        },
        "outputId": "7b37d909-7414-43ff-b317-fc7eb9ef7791"
      },
      "source": [
        "data = []\n",
        "driver2 = webdriver.Chrome('chromedriver',chrome_options=chrome_options)\n",
        "for link in links:\n",
        "  driver2.get(link)\n",
        "  title = driver2.find_elements_by_css_selector(\".kbwc-title\")\n",
        "  if len(title) == 0:\n",
        "    title = ''\n",
        "  else:\n",
        "    title = driver2.find_elements_by_css_selector(\".kbwc-title\")[0].text\n",
        "  \n",
        "  sapo = driver2.find_elements_by_css_selector(\".knc-sapo\")\n",
        "  if len(sapo) == 0:\n",
        "    abstract = ''\n",
        "  else:\n",
        "    abstract = driver2.find_elements_by_css_selector(\".knc-sapo\")[0].text\n",
        "  contents = driver2.find_elements_by_css_selector(\".knc-content p\")\n",
        "  contents = [content.text for content in contents]\n",
        "  content = ('').join(contents)   \n",
        "  data.append({\n",
        "      \"title\": title,\n",
        "      \"abstract\": abstract,\n",
        "      \"content\": content,\n",
        "  })"
      ],
      "execution_count": null,
      "outputs": [
        {
          "output_type": "stream",
          "text": [
            "/usr/local/lib/python3.7/dist-packages/ipykernel_launcher.py:2: DeprecationWarning: use options instead of chrome_options\n",
            "  \n"
          ],
          "name": "stderr"
        },
        {
          "output_type": "error",
          "ename": "KeyboardInterrupt",
          "evalue": "ignored",
          "traceback": [
            "\u001b[0;31m---------------------------------------------------------------------------\u001b[0m",
            "\u001b[0;31mTypeError\u001b[0m                                 Traceback (most recent call last)",
            "\u001b[0;32m/usr/local/lib/python3.7/dist-packages/urllib3/connectionpool.py\u001b[0m in \u001b[0;36m_make_request\u001b[0;34m(self, conn, method, url, timeout, chunked, **httplib_request_kw)\u001b[0m\n\u001b[1;32m    376\u001b[0m             \u001b[0;32mtry\u001b[0m\u001b[0;34m:\u001b[0m  \u001b[0;31m# Python 2.7, use buffering of HTTP responses\u001b[0m\u001b[0;34m\u001b[0m\u001b[0;34m\u001b[0m\u001b[0m\n\u001b[0;32m--> 377\u001b[0;31m                 \u001b[0mhttplib_response\u001b[0m \u001b[0;34m=\u001b[0m \u001b[0mconn\u001b[0m\u001b[0;34m.\u001b[0m\u001b[0mgetresponse\u001b[0m\u001b[0;34m(\u001b[0m\u001b[0mbuffering\u001b[0m\u001b[0;34m=\u001b[0m\u001b[0;32mTrue\u001b[0m\u001b[0;34m)\u001b[0m\u001b[0;34m\u001b[0m\u001b[0;34m\u001b[0m\u001b[0m\n\u001b[0m\u001b[1;32m    378\u001b[0m             \u001b[0;32mexcept\u001b[0m \u001b[0mTypeError\u001b[0m\u001b[0;34m:\u001b[0m  \u001b[0;31m# Python 3\u001b[0m\u001b[0;34m\u001b[0m\u001b[0;34m\u001b[0m\u001b[0m\n",
            "\u001b[0;31mTypeError\u001b[0m: getresponse() got an unexpected keyword argument 'buffering'",
            "\nDuring handling of the above exception, another exception occurred:\n",
            "\u001b[0;31mKeyboardInterrupt\u001b[0m                         Traceback (most recent call last)",
            "\u001b[0;32m<ipython-input-16-8a09173ccdd8>\u001b[0m in \u001b[0;36m<module>\u001b[0;34m()\u001b[0m\n\u001b[1;32m      2\u001b[0m \u001b[0mdriver2\u001b[0m \u001b[0;34m=\u001b[0m \u001b[0mwebdriver\u001b[0m\u001b[0;34m.\u001b[0m\u001b[0mChrome\u001b[0m\u001b[0;34m(\u001b[0m\u001b[0;34m'chromedriver'\u001b[0m\u001b[0;34m,\u001b[0m\u001b[0mchrome_options\u001b[0m\u001b[0;34m=\u001b[0m\u001b[0mchrome_options\u001b[0m\u001b[0;34m)\u001b[0m\u001b[0;34m\u001b[0m\u001b[0;34m\u001b[0m\u001b[0m\n\u001b[1;32m      3\u001b[0m \u001b[0;32mfor\u001b[0m \u001b[0mlink\u001b[0m \u001b[0;32min\u001b[0m \u001b[0mlinks\u001b[0m\u001b[0;34m:\u001b[0m\u001b[0;34m\u001b[0m\u001b[0;34m\u001b[0m\u001b[0m\n\u001b[0;32m----> 4\u001b[0;31m   \u001b[0mdriver2\u001b[0m\u001b[0;34m.\u001b[0m\u001b[0mget\u001b[0m\u001b[0;34m(\u001b[0m\u001b[0mlink\u001b[0m\u001b[0;34m)\u001b[0m\u001b[0;34m\u001b[0m\u001b[0;34m\u001b[0m\u001b[0m\n\u001b[0m\u001b[1;32m      5\u001b[0m   \u001b[0mtitle\u001b[0m \u001b[0;34m=\u001b[0m \u001b[0mdriver2\u001b[0m\u001b[0;34m.\u001b[0m\u001b[0mfind_elements_by_css_selector\u001b[0m\u001b[0;34m(\u001b[0m\u001b[0;34m\".kbwc-title\"\u001b[0m\u001b[0;34m)\u001b[0m\u001b[0;34m\u001b[0m\u001b[0;34m\u001b[0m\u001b[0m\n\u001b[1;32m      6\u001b[0m   \u001b[0;32mif\u001b[0m \u001b[0mlen\u001b[0m\u001b[0;34m(\u001b[0m\u001b[0mtitle\u001b[0m\u001b[0;34m)\u001b[0m \u001b[0;34m==\u001b[0m \u001b[0;36m0\u001b[0m\u001b[0;34m:\u001b[0m\u001b[0;34m\u001b[0m\u001b[0;34m\u001b[0m\u001b[0m\n",
            "\u001b[0;32m/usr/local/lib/python3.7/dist-packages/selenium/webdriver/remote/webdriver.py\u001b[0m in \u001b[0;36mget\u001b[0;34m(self, url)\u001b[0m\n\u001b[1;32m    331\u001b[0m         \u001b[0mLoads\u001b[0m \u001b[0ma\u001b[0m \u001b[0mweb\u001b[0m \u001b[0mpage\u001b[0m \u001b[0;32min\u001b[0m \u001b[0mthe\u001b[0m \u001b[0mcurrent\u001b[0m \u001b[0mbrowser\u001b[0m \u001b[0msession\u001b[0m\u001b[0;34m.\u001b[0m\u001b[0;34m\u001b[0m\u001b[0;34m\u001b[0m\u001b[0m\n\u001b[1;32m    332\u001b[0m         \"\"\"\n\u001b[0;32m--> 333\u001b[0;31m         \u001b[0mself\u001b[0m\u001b[0;34m.\u001b[0m\u001b[0mexecute\u001b[0m\u001b[0;34m(\u001b[0m\u001b[0mCommand\u001b[0m\u001b[0;34m.\u001b[0m\u001b[0mGET\u001b[0m\u001b[0;34m,\u001b[0m \u001b[0;34m{\u001b[0m\u001b[0;34m'url'\u001b[0m\u001b[0;34m:\u001b[0m \u001b[0murl\u001b[0m\u001b[0;34m}\u001b[0m\u001b[0;34m)\u001b[0m\u001b[0;34m\u001b[0m\u001b[0;34m\u001b[0m\u001b[0m\n\u001b[0m\u001b[1;32m    334\u001b[0m \u001b[0;34m\u001b[0m\u001b[0m\n\u001b[1;32m    335\u001b[0m     \u001b[0;34m@\u001b[0m\u001b[0mproperty\u001b[0m\u001b[0;34m\u001b[0m\u001b[0;34m\u001b[0m\u001b[0m\n",
            "\u001b[0;32m/usr/local/lib/python3.7/dist-packages/selenium/webdriver/remote/webdriver.py\u001b[0m in \u001b[0;36mexecute\u001b[0;34m(self, driver_command, params)\u001b[0m\n\u001b[1;32m    317\u001b[0m \u001b[0;34m\u001b[0m\u001b[0m\n\u001b[1;32m    318\u001b[0m         \u001b[0mparams\u001b[0m \u001b[0;34m=\u001b[0m \u001b[0mself\u001b[0m\u001b[0;34m.\u001b[0m\u001b[0m_wrap_value\u001b[0m\u001b[0;34m(\u001b[0m\u001b[0mparams\u001b[0m\u001b[0;34m)\u001b[0m\u001b[0;34m\u001b[0m\u001b[0;34m\u001b[0m\u001b[0m\n\u001b[0;32m--> 319\u001b[0;31m         \u001b[0mresponse\u001b[0m \u001b[0;34m=\u001b[0m \u001b[0mself\u001b[0m\u001b[0;34m.\u001b[0m\u001b[0mcommand_executor\u001b[0m\u001b[0;34m.\u001b[0m\u001b[0mexecute\u001b[0m\u001b[0;34m(\u001b[0m\u001b[0mdriver_command\u001b[0m\u001b[0;34m,\u001b[0m \u001b[0mparams\u001b[0m\u001b[0;34m)\u001b[0m\u001b[0;34m\u001b[0m\u001b[0;34m\u001b[0m\u001b[0m\n\u001b[0m\u001b[1;32m    320\u001b[0m         \u001b[0;32mif\u001b[0m \u001b[0mresponse\u001b[0m\u001b[0;34m:\u001b[0m\u001b[0;34m\u001b[0m\u001b[0;34m\u001b[0m\u001b[0m\n\u001b[1;32m    321\u001b[0m             \u001b[0mself\u001b[0m\u001b[0;34m.\u001b[0m\u001b[0merror_handler\u001b[0m\u001b[0;34m.\u001b[0m\u001b[0mcheck_response\u001b[0m\u001b[0;34m(\u001b[0m\u001b[0mresponse\u001b[0m\u001b[0;34m)\u001b[0m\u001b[0;34m\u001b[0m\u001b[0;34m\u001b[0m\u001b[0m\n",
            "\u001b[0;32m/usr/local/lib/python3.7/dist-packages/selenium/webdriver/remote/remote_connection.py\u001b[0m in \u001b[0;36mexecute\u001b[0;34m(self, command, params)\u001b[0m\n\u001b[1;32m    372\u001b[0m         \u001b[0mdata\u001b[0m \u001b[0;34m=\u001b[0m \u001b[0mutils\u001b[0m\u001b[0;34m.\u001b[0m\u001b[0mdump_json\u001b[0m\u001b[0;34m(\u001b[0m\u001b[0mparams\u001b[0m\u001b[0;34m)\u001b[0m\u001b[0;34m\u001b[0m\u001b[0;34m\u001b[0m\u001b[0m\n\u001b[1;32m    373\u001b[0m         \u001b[0murl\u001b[0m \u001b[0;34m=\u001b[0m \u001b[0;34m'%s%s'\u001b[0m \u001b[0;34m%\u001b[0m \u001b[0;34m(\u001b[0m\u001b[0mself\u001b[0m\u001b[0;34m.\u001b[0m\u001b[0m_url\u001b[0m\u001b[0;34m,\u001b[0m \u001b[0mpath\u001b[0m\u001b[0;34m)\u001b[0m\u001b[0;34m\u001b[0m\u001b[0;34m\u001b[0m\u001b[0m\n\u001b[0;32m--> 374\u001b[0;31m         \u001b[0;32mreturn\u001b[0m \u001b[0mself\u001b[0m\u001b[0;34m.\u001b[0m\u001b[0m_request\u001b[0m\u001b[0;34m(\u001b[0m\u001b[0mcommand_info\u001b[0m\u001b[0;34m[\u001b[0m\u001b[0;36m0\u001b[0m\u001b[0;34m]\u001b[0m\u001b[0;34m,\u001b[0m \u001b[0murl\u001b[0m\u001b[0;34m,\u001b[0m \u001b[0mbody\u001b[0m\u001b[0;34m=\u001b[0m\u001b[0mdata\u001b[0m\u001b[0;34m)\u001b[0m\u001b[0;34m\u001b[0m\u001b[0;34m\u001b[0m\u001b[0m\n\u001b[0m\u001b[1;32m    375\u001b[0m \u001b[0;34m\u001b[0m\u001b[0m\n\u001b[1;32m    376\u001b[0m     \u001b[0;32mdef\u001b[0m \u001b[0m_request\u001b[0m\u001b[0;34m(\u001b[0m\u001b[0mself\u001b[0m\u001b[0;34m,\u001b[0m \u001b[0mmethod\u001b[0m\u001b[0;34m,\u001b[0m \u001b[0murl\u001b[0m\u001b[0;34m,\u001b[0m \u001b[0mbody\u001b[0m\u001b[0;34m=\u001b[0m\u001b[0;32mNone\u001b[0m\u001b[0;34m)\u001b[0m\u001b[0;34m:\u001b[0m\u001b[0;34m\u001b[0m\u001b[0;34m\u001b[0m\u001b[0m\n",
            "\u001b[0;32m/usr/local/lib/python3.7/dist-packages/selenium/webdriver/remote/remote_connection.py\u001b[0m in \u001b[0;36m_request\u001b[0;34m(self, method, url, body)\u001b[0m\n\u001b[1;32m    395\u001b[0m \u001b[0;34m\u001b[0m\u001b[0m\n\u001b[1;32m    396\u001b[0m         \u001b[0;32mif\u001b[0m \u001b[0mself\u001b[0m\u001b[0;34m.\u001b[0m\u001b[0mkeep_alive\u001b[0m\u001b[0;34m:\u001b[0m\u001b[0;34m\u001b[0m\u001b[0;34m\u001b[0m\u001b[0m\n\u001b[0;32m--> 397\u001b[0;31m             \u001b[0mresp\u001b[0m \u001b[0;34m=\u001b[0m \u001b[0mself\u001b[0m\u001b[0;34m.\u001b[0m\u001b[0m_conn\u001b[0m\u001b[0;34m.\u001b[0m\u001b[0mrequest\u001b[0m\u001b[0;34m(\u001b[0m\u001b[0mmethod\u001b[0m\u001b[0;34m,\u001b[0m \u001b[0murl\u001b[0m\u001b[0;34m,\u001b[0m \u001b[0mbody\u001b[0m\u001b[0;34m=\u001b[0m\u001b[0mbody\u001b[0m\u001b[0;34m,\u001b[0m \u001b[0mheaders\u001b[0m\u001b[0;34m=\u001b[0m\u001b[0mheaders\u001b[0m\u001b[0;34m)\u001b[0m\u001b[0;34m\u001b[0m\u001b[0;34m\u001b[0m\u001b[0m\n\u001b[0m\u001b[1;32m    398\u001b[0m \u001b[0;34m\u001b[0m\u001b[0m\n\u001b[1;32m    399\u001b[0m             \u001b[0mstatuscode\u001b[0m \u001b[0;34m=\u001b[0m \u001b[0mresp\u001b[0m\u001b[0;34m.\u001b[0m\u001b[0mstatus\u001b[0m\u001b[0;34m\u001b[0m\u001b[0;34m\u001b[0m\u001b[0m\n",
            "\u001b[0;32m/usr/local/lib/python3.7/dist-packages/urllib3/request.py\u001b[0m in \u001b[0;36mrequest\u001b[0;34m(self, method, url, fields, headers, **urlopen_kw)\u001b[0m\n\u001b[1;32m     70\u001b[0m             return self.request_encode_body(method, url, fields=fields,\n\u001b[1;32m     71\u001b[0m                                             \u001b[0mheaders\u001b[0m\u001b[0;34m=\u001b[0m\u001b[0mheaders\u001b[0m\u001b[0;34m,\u001b[0m\u001b[0;34m\u001b[0m\u001b[0;34m\u001b[0m\u001b[0m\n\u001b[0;32m---> 72\u001b[0;31m                                             **urlopen_kw)\n\u001b[0m\u001b[1;32m     73\u001b[0m \u001b[0;34m\u001b[0m\u001b[0m\n\u001b[1;32m     74\u001b[0m     def request_encode_url(self, method, url, fields=None, headers=None,\n",
            "\u001b[0;32m/usr/local/lib/python3.7/dist-packages/urllib3/request.py\u001b[0m in \u001b[0;36mrequest_encode_body\u001b[0;34m(self, method, url, fields, headers, encode_multipart, multipart_boundary, **urlopen_kw)\u001b[0m\n\u001b[1;32m    148\u001b[0m         \u001b[0mextra_kw\u001b[0m\u001b[0;34m.\u001b[0m\u001b[0mupdate\u001b[0m\u001b[0;34m(\u001b[0m\u001b[0murlopen_kw\u001b[0m\u001b[0;34m)\u001b[0m\u001b[0;34m\u001b[0m\u001b[0;34m\u001b[0m\u001b[0m\n\u001b[1;32m    149\u001b[0m \u001b[0;34m\u001b[0m\u001b[0m\n\u001b[0;32m--> 150\u001b[0;31m         \u001b[0;32mreturn\u001b[0m \u001b[0mself\u001b[0m\u001b[0;34m.\u001b[0m\u001b[0murlopen\u001b[0m\u001b[0;34m(\u001b[0m\u001b[0mmethod\u001b[0m\u001b[0;34m,\u001b[0m \u001b[0murl\u001b[0m\u001b[0;34m,\u001b[0m \u001b[0;34m**\u001b[0m\u001b[0mextra_kw\u001b[0m\u001b[0;34m)\u001b[0m\u001b[0;34m\u001b[0m\u001b[0;34m\u001b[0m\u001b[0m\n\u001b[0m",
            "\u001b[0;32m/usr/local/lib/python3.7/dist-packages/urllib3/poolmanager.py\u001b[0m in \u001b[0;36murlopen\u001b[0;34m(self, method, url, redirect, **kw)\u001b[0m\n\u001b[1;32m    322\u001b[0m             \u001b[0mresponse\u001b[0m \u001b[0;34m=\u001b[0m \u001b[0mconn\u001b[0m\u001b[0;34m.\u001b[0m\u001b[0murlopen\u001b[0m\u001b[0;34m(\u001b[0m\u001b[0mmethod\u001b[0m\u001b[0;34m,\u001b[0m \u001b[0murl\u001b[0m\u001b[0;34m,\u001b[0m \u001b[0;34m**\u001b[0m\u001b[0mkw\u001b[0m\u001b[0;34m)\u001b[0m\u001b[0;34m\u001b[0m\u001b[0;34m\u001b[0m\u001b[0m\n\u001b[1;32m    323\u001b[0m         \u001b[0;32melse\u001b[0m\u001b[0;34m:\u001b[0m\u001b[0;34m\u001b[0m\u001b[0;34m\u001b[0m\u001b[0m\n\u001b[0;32m--> 324\u001b[0;31m             \u001b[0mresponse\u001b[0m \u001b[0;34m=\u001b[0m \u001b[0mconn\u001b[0m\u001b[0;34m.\u001b[0m\u001b[0murlopen\u001b[0m\u001b[0;34m(\u001b[0m\u001b[0mmethod\u001b[0m\u001b[0;34m,\u001b[0m \u001b[0mu\u001b[0m\u001b[0;34m.\u001b[0m\u001b[0mrequest_uri\u001b[0m\u001b[0;34m,\u001b[0m \u001b[0;34m**\u001b[0m\u001b[0mkw\u001b[0m\u001b[0;34m)\u001b[0m\u001b[0;34m\u001b[0m\u001b[0;34m\u001b[0m\u001b[0m\n\u001b[0m\u001b[1;32m    325\u001b[0m \u001b[0;34m\u001b[0m\u001b[0m\n\u001b[1;32m    326\u001b[0m         \u001b[0mredirect_location\u001b[0m \u001b[0;34m=\u001b[0m \u001b[0mredirect\u001b[0m \u001b[0;32mand\u001b[0m \u001b[0mresponse\u001b[0m\u001b[0;34m.\u001b[0m\u001b[0mget_redirect_location\u001b[0m\u001b[0;34m(\u001b[0m\u001b[0;34m)\u001b[0m\u001b[0;34m\u001b[0m\u001b[0;34m\u001b[0m\u001b[0m\n",
            "\u001b[0;32m/usr/local/lib/python3.7/dist-packages/urllib3/connectionpool.py\u001b[0m in \u001b[0;36murlopen\u001b[0;34m(self, method, url, body, headers, retries, redirect, assert_same_host, timeout, pool_timeout, release_conn, chunked, body_pos, **response_kw)\u001b[0m\n\u001b[1;32m    598\u001b[0m                                                   \u001b[0mtimeout\u001b[0m\u001b[0;34m=\u001b[0m\u001b[0mtimeout_obj\u001b[0m\u001b[0;34m,\u001b[0m\u001b[0;34m\u001b[0m\u001b[0;34m\u001b[0m\u001b[0m\n\u001b[1;32m    599\u001b[0m                                                   \u001b[0mbody\u001b[0m\u001b[0;34m=\u001b[0m\u001b[0mbody\u001b[0m\u001b[0;34m,\u001b[0m \u001b[0mheaders\u001b[0m\u001b[0;34m=\u001b[0m\u001b[0mheaders\u001b[0m\u001b[0;34m,\u001b[0m\u001b[0;34m\u001b[0m\u001b[0;34m\u001b[0m\u001b[0m\n\u001b[0;32m--> 600\u001b[0;31m                                                   chunked=chunked)\n\u001b[0m\u001b[1;32m    601\u001b[0m \u001b[0;34m\u001b[0m\u001b[0m\n\u001b[1;32m    602\u001b[0m             \u001b[0;31m# If we're going to release the connection in ``finally:``, then\u001b[0m\u001b[0;34m\u001b[0m\u001b[0;34m\u001b[0m\u001b[0;34m\u001b[0m\u001b[0m\n",
            "\u001b[0;32m/usr/local/lib/python3.7/dist-packages/urllib3/connectionpool.py\u001b[0m in \u001b[0;36m_make_request\u001b[0;34m(self, conn, method, url, timeout, chunked, **httplib_request_kw)\u001b[0m\n\u001b[1;32m    378\u001b[0m             \u001b[0;32mexcept\u001b[0m \u001b[0mTypeError\u001b[0m\u001b[0;34m:\u001b[0m  \u001b[0;31m# Python 3\u001b[0m\u001b[0;34m\u001b[0m\u001b[0;34m\u001b[0m\u001b[0m\n\u001b[1;32m    379\u001b[0m                 \u001b[0;32mtry\u001b[0m\u001b[0;34m:\u001b[0m\u001b[0;34m\u001b[0m\u001b[0;34m\u001b[0m\u001b[0m\n\u001b[0;32m--> 380\u001b[0;31m                     \u001b[0mhttplib_response\u001b[0m \u001b[0;34m=\u001b[0m \u001b[0mconn\u001b[0m\u001b[0;34m.\u001b[0m\u001b[0mgetresponse\u001b[0m\u001b[0;34m(\u001b[0m\u001b[0;34m)\u001b[0m\u001b[0;34m\u001b[0m\u001b[0;34m\u001b[0m\u001b[0m\n\u001b[0m\u001b[1;32m    381\u001b[0m                 \u001b[0;32mexcept\u001b[0m \u001b[0mException\u001b[0m \u001b[0;32mas\u001b[0m \u001b[0me\u001b[0m\u001b[0;34m:\u001b[0m\u001b[0;34m\u001b[0m\u001b[0;34m\u001b[0m\u001b[0m\n\u001b[1;32m    382\u001b[0m                     \u001b[0;31m# Remove the TypeError from the exception chain in Python 3;\u001b[0m\u001b[0;34m\u001b[0m\u001b[0;34m\u001b[0m\u001b[0;34m\u001b[0m\u001b[0m\n",
            "\u001b[0;32m/usr/lib/python3.7/http/client.py\u001b[0m in \u001b[0;36mgetresponse\u001b[0;34m(self)\u001b[0m\n\u001b[1;32m   1367\u001b[0m         \u001b[0;32mtry\u001b[0m\u001b[0;34m:\u001b[0m\u001b[0;34m\u001b[0m\u001b[0;34m\u001b[0m\u001b[0m\n\u001b[1;32m   1368\u001b[0m             \u001b[0;32mtry\u001b[0m\u001b[0;34m:\u001b[0m\u001b[0;34m\u001b[0m\u001b[0;34m\u001b[0m\u001b[0m\n\u001b[0;32m-> 1369\u001b[0;31m                 \u001b[0mresponse\u001b[0m\u001b[0;34m.\u001b[0m\u001b[0mbegin\u001b[0m\u001b[0;34m(\u001b[0m\u001b[0;34m)\u001b[0m\u001b[0;34m\u001b[0m\u001b[0;34m\u001b[0m\u001b[0m\n\u001b[0m\u001b[1;32m   1370\u001b[0m             \u001b[0;32mexcept\u001b[0m \u001b[0mConnectionError\u001b[0m\u001b[0;34m:\u001b[0m\u001b[0;34m\u001b[0m\u001b[0;34m\u001b[0m\u001b[0m\n\u001b[1;32m   1371\u001b[0m                 \u001b[0mself\u001b[0m\u001b[0;34m.\u001b[0m\u001b[0mclose\u001b[0m\u001b[0;34m(\u001b[0m\u001b[0;34m)\u001b[0m\u001b[0;34m\u001b[0m\u001b[0;34m\u001b[0m\u001b[0m\n",
            "\u001b[0;32m/usr/lib/python3.7/http/client.py\u001b[0m in \u001b[0;36mbegin\u001b[0;34m(self)\u001b[0m\n\u001b[1;32m    308\u001b[0m         \u001b[0;31m# read until we get a non-100 response\u001b[0m\u001b[0;34m\u001b[0m\u001b[0;34m\u001b[0m\u001b[0;34m\u001b[0m\u001b[0m\n\u001b[1;32m    309\u001b[0m         \u001b[0;32mwhile\u001b[0m \u001b[0;32mTrue\u001b[0m\u001b[0;34m:\u001b[0m\u001b[0;34m\u001b[0m\u001b[0;34m\u001b[0m\u001b[0m\n\u001b[0;32m--> 310\u001b[0;31m             \u001b[0mversion\u001b[0m\u001b[0;34m,\u001b[0m \u001b[0mstatus\u001b[0m\u001b[0;34m,\u001b[0m \u001b[0mreason\u001b[0m \u001b[0;34m=\u001b[0m \u001b[0mself\u001b[0m\u001b[0;34m.\u001b[0m\u001b[0m_read_status\u001b[0m\u001b[0;34m(\u001b[0m\u001b[0;34m)\u001b[0m\u001b[0;34m\u001b[0m\u001b[0;34m\u001b[0m\u001b[0m\n\u001b[0m\u001b[1;32m    311\u001b[0m             \u001b[0;32mif\u001b[0m \u001b[0mstatus\u001b[0m \u001b[0;34m!=\u001b[0m \u001b[0mCONTINUE\u001b[0m\u001b[0;34m:\u001b[0m\u001b[0;34m\u001b[0m\u001b[0;34m\u001b[0m\u001b[0m\n\u001b[1;32m    312\u001b[0m                 \u001b[0;32mbreak\u001b[0m\u001b[0;34m\u001b[0m\u001b[0;34m\u001b[0m\u001b[0m\n",
            "\u001b[0;32m/usr/lib/python3.7/http/client.py\u001b[0m in \u001b[0;36m_read_status\u001b[0;34m(self)\u001b[0m\n\u001b[1;32m    269\u001b[0m \u001b[0;34m\u001b[0m\u001b[0m\n\u001b[1;32m    270\u001b[0m     \u001b[0;32mdef\u001b[0m \u001b[0m_read_status\u001b[0m\u001b[0;34m(\u001b[0m\u001b[0mself\u001b[0m\u001b[0;34m)\u001b[0m\u001b[0;34m:\u001b[0m\u001b[0;34m\u001b[0m\u001b[0;34m\u001b[0m\u001b[0m\n\u001b[0;32m--> 271\u001b[0;31m         \u001b[0mline\u001b[0m \u001b[0;34m=\u001b[0m \u001b[0mstr\u001b[0m\u001b[0;34m(\u001b[0m\u001b[0mself\u001b[0m\u001b[0;34m.\u001b[0m\u001b[0mfp\u001b[0m\u001b[0;34m.\u001b[0m\u001b[0mreadline\u001b[0m\u001b[0;34m(\u001b[0m\u001b[0m_MAXLINE\u001b[0m \u001b[0;34m+\u001b[0m \u001b[0;36m1\u001b[0m\u001b[0;34m)\u001b[0m\u001b[0;34m,\u001b[0m \u001b[0;34m\"iso-8859-1\"\u001b[0m\u001b[0;34m)\u001b[0m\u001b[0;34m\u001b[0m\u001b[0;34m\u001b[0m\u001b[0m\n\u001b[0m\u001b[1;32m    272\u001b[0m         \u001b[0;32mif\u001b[0m \u001b[0mlen\u001b[0m\u001b[0;34m(\u001b[0m\u001b[0mline\u001b[0m\u001b[0;34m)\u001b[0m \u001b[0;34m>\u001b[0m \u001b[0m_MAXLINE\u001b[0m\u001b[0;34m:\u001b[0m\u001b[0;34m\u001b[0m\u001b[0;34m\u001b[0m\u001b[0m\n\u001b[1;32m    273\u001b[0m             \u001b[0;32mraise\u001b[0m \u001b[0mLineTooLong\u001b[0m\u001b[0;34m(\u001b[0m\u001b[0;34m\"status line\"\u001b[0m\u001b[0;34m)\u001b[0m\u001b[0;34m\u001b[0m\u001b[0;34m\u001b[0m\u001b[0m\n",
            "\u001b[0;32m/usr/lib/python3.7/socket.py\u001b[0m in \u001b[0;36mreadinto\u001b[0;34m(self, b)\u001b[0m\n\u001b[1;32m    587\u001b[0m         \u001b[0;32mwhile\u001b[0m \u001b[0;32mTrue\u001b[0m\u001b[0;34m:\u001b[0m\u001b[0;34m\u001b[0m\u001b[0;34m\u001b[0m\u001b[0m\n\u001b[1;32m    588\u001b[0m             \u001b[0;32mtry\u001b[0m\u001b[0;34m:\u001b[0m\u001b[0;34m\u001b[0m\u001b[0;34m\u001b[0m\u001b[0m\n\u001b[0;32m--> 589\u001b[0;31m                 \u001b[0;32mreturn\u001b[0m \u001b[0mself\u001b[0m\u001b[0;34m.\u001b[0m\u001b[0m_sock\u001b[0m\u001b[0;34m.\u001b[0m\u001b[0mrecv_into\u001b[0m\u001b[0;34m(\u001b[0m\u001b[0mb\u001b[0m\u001b[0;34m)\u001b[0m\u001b[0;34m\u001b[0m\u001b[0;34m\u001b[0m\u001b[0m\n\u001b[0m\u001b[1;32m    590\u001b[0m             \u001b[0;32mexcept\u001b[0m \u001b[0mtimeout\u001b[0m\u001b[0;34m:\u001b[0m\u001b[0;34m\u001b[0m\u001b[0;34m\u001b[0m\u001b[0m\n\u001b[1;32m    591\u001b[0m                 \u001b[0mself\u001b[0m\u001b[0;34m.\u001b[0m\u001b[0m_timeout_occurred\u001b[0m \u001b[0;34m=\u001b[0m \u001b[0;32mTrue\u001b[0m\u001b[0;34m\u001b[0m\u001b[0;34m\u001b[0m\u001b[0m\n",
            "\u001b[0;31mKeyboardInterrupt\u001b[0m: "
          ]
        }
      ]
    },
    {
      "cell_type": "code",
      "metadata": {
        "id": "Ckk4upxnml94",
        "colab": {
          "base_uri": "https://localhost:8080/"
        },
        "outputId": "5a0bc267-3574-4d29-bf85-9c465e0a4b05"
      },
      "source": [
        "for document in data:\n",
        "  if(document['content'] == ''):\n",
        "    data.remove(document)\n",
        "print(len(data))\n",
        "print(data[0]['content'])"
      ],
      "execution_count": null,
      "outputs": [
        {
          "output_type": "stream",
          "text": [
            "1183\n",
            "Sau nghi vấn \"đường ai nấy đi\" với Thiều Bảo Trâm và drama “trà xanh” của Hải Tú, mọi nhất cử nhất động của Sơn Tùng đều được cư dân mạng đặc biệt quan tâm. Tuy nhiên thời gian qua, nam ca sĩ gần như lặn mất tăm trên các trang mạng xã hội, cũng không hề có bất cứ động thái nào liên quan đến 2 người con gái trên. Anh cũng chỉ tham gia một vài show diễn hay sự kiện của nhãn hàng.Nhưng bất ngờ mới đây, sau một thời gian dài nghe ngóng và theo chân, chúng tôi đã ghi lại được hình ảnh của nam ca sĩ khi xuất hiện ở một phim trường. Và theo các nguồn tin đáng tin cậy, đây là quay MV cho sản phẩm âm nhạc tiếp theo chứ không phải là quay clip quảng cáo. Các ekip làm việc với Tùng lần này đều là ekip ruột đã gắn bó với anh qua các MV trước. Liệu với kết thúc mở của MV Chúng Ta Của Hiện Tại thì liệu đây có phải là phần tiếp theo, như là Chúng Ta Của Tương Lai chẳng hạn?Cụ thể, chúng tôi bắt gặp Sơn Tùng có mặt tại một phim trường tại Quận 2 - TP.HCM vào sáng sớm ngày 29/3. Sơn Tùng đến bằng ô tô màu trắng - không phải là chiếc xe sang màu đỏ đã xuất hiện trên mặt báo nhiều lần.Xe được dán kính đen kịt, lái thẳng vào trong phim trường và do đó thời điểm ban ngày Sơn Tùng không hề lộ mặt. Anh làm việc trong phim trường cho đến khoảng 15h chiều thì lên xe rời đến một địa điểm quay khác trên đường Mai Chí Thọ Quận 7 cho những phân đoạn ngoại cảnh.Xe chở Sơn Tùng M-TP xuất hiện từ sáng sớm ngày 29/3 tại một phim trường ở Quận 2. Nam ca sĩ ở trong đó đến chiều cùng ngày thì di chuyển sang khu vực Mai Chí Thọ, Quận 7 để quay ngoại cảnh và sau đó lại trở lại phim trườngTới tận khoảng 19h30 tối cùng ngày, nam ca sĩ từ Quận 7 quay lại phim trường ở Quận 2. Tất cả quá trình di chuyển, đến và đi của Sơn Tùng đều diễn ra rất nhanh chóng và kín đáo. Chủ nhân của loạt hit đình đám Vbiz diện áo tối màu, mặc quần baggy rộng và tóc để mái khá dài, xung quanh luôn là đội bảo vệ đi theo 24/24, đảm bảo an ninh tối đa.Clip độc quyền: Sơn Tùng xuất hiện tại một phim trường ở Quận 2 sau nhiều tháng \"bốc hơi\" vì scandal tình áiĐặc biệt, cửa trường quay luôn đóng kín không cho người lạ ra vào. Dù vậy, một số sky (fan của nam ca sĩ - PV) vẫn biết sự có mặt của Sếp và tìm đến đây nhưng không gặp được idol.Tới 3h sáng ngày 30/3, giọng ca gốc Thái Bình mới lên xe rời đi cùng ekip, giữa đội vệ sĩ to đùng bao vây tứ phía, luôn thấy có một nhân vật nữ dáng người mảnh mai, đeo khẩu trang kín kè kè cùng Sơn Tùng. Từ cự ly khá xa, khó có thể nhận ra danh tính của người đó.Rời khỏi phim trường, xe Sơn Tùng tiếp tục chạy vòng vòng quanh Sài Gòn, từ Quận 2 đi qua các Quận 1, Quận 4, thậm chí ra tận Nhà Bè rồi mất hút.Sơn Tùng bước xuống từ xế hộp màu trắng, trở về từ Quận 7 để tiếp tục những cảnh quay tiếp theoBên cạnh nam ca sĩ lúc nào cũng có dàn vệ sĩ đi theo hộ tốngSơn Tùng cùng ekip có mặt ở phim trường này từ sáng 29/3, di chuyển sang phim trường khác đến tối trở lại. 3h sáng hôm sau (30/3), nam ca sĩ mới rời điDạo một vòng MXH suốt nhiều ngày gần đây, không thấy Sơn Tùng chia sẻ bất cứ thông tin nào. Tuy nhiên giữa thời điểm chúng tôi ghi được hình ảnh của Sơn Tùng thì nhiếp ảnh gia Mạnh Bi - người vài năm gần đây phụ trách phần hình ảnh cho giọng ca gốc Thái Bình trong các MV lại tình cờ check-in đúng ở địa điểm này. Dòng caption ảnh \"on set\", cộng thêm hình ảnh và những dữ liệu có được, không khó để khẳng định Sơn Tùng đang chuẩn bị cho một sản phẩm âm nhạc để trở lại showbiz trong thời gian tới.Cùng lúc Sơn Tùng rục rịch với MV mới, một nhân vật trong ekip Thiều Bảo Trâm cũng \"đánh tiếng\" bằng bức ảnh cho thấy cô rất có thể sẽ trở lại đường đua Vbiz vào một ngày không xa. Dân tình đoán già đoán non, liệu rằng đây có phải là một bản nhạc lụi tim người nghe sau những chuyện mà nữ ca sĩ đã trải qua.Hơn 3 tháng qua, Sơn Tùng vẫn giữ im lặng trước những ồn ào về tình ái\n"
          ],
          "name": "stdout"
        }
      ]
    },
    {
      "cell_type": "code",
      "metadata": {
        "id": "z8fKoVGnxjzT"
      },
      "source": [
        "with open('/content/drive/MyDrive/sample-datasets/kenh14news.json', 'w') as f:\n",
        "  jsonString = json.dumps(data)\n",
        "  f.write(jsonString)\n",
        "  f.close()"
      ],
      "execution_count": null,
      "outputs": []
    },
    {
      "cell_type": "code",
      "metadata": {
        "colab": {
          "base_uri": "https://localhost:8080/"
        },
        "id": "TznatiAadZ4R",
        "outputId": "ade27e96-a1ae-4cc4-8248-535e87fe0f9e"
      },
      "source": [
        "from pyspark.sql import SparkSession\n",
        "spark = SparkSession.builder.appName('abc').getOrCreate()\n",
        "\n",
        "readJSONDF = spark.read.json('/content/drive/MyDrive/sample-datasets/kenh14news.json')\n",
        "readJSONDF.show(5)"
      ],
      "execution_count": null,
      "outputs": [
        {
          "output_type": "stream",
          "text": [
            "+--------------------+--------------------+--------------------+\n",
            "|            abstract|             content|               title|\n",
            "+--------------------+--------------------+--------------------+\n",
            "|Đây là lần hiếm h...|Sau nghi vấn \"đườ...|Độc Quyền: Sơn Tù...|\n",
            "|Khoảnh khắc tình ...|Những câu chuyện ...|Tim chính thức cô...|\n",
            "|Mới ngày đầu thán...|Là cặp vợ chồng v...|Trường Giang gửi ...|\n",
            "|“Điên nữ” Seo Ye ...|Vào chiều ngày 24...|Lâu lắm mới tái x...|\n",
            "|Những diễn biến x...|Tối ngày 31/3, Ng...|Chưa hết drama: N...|\n",
            "+--------------------+--------------------+--------------------+\n",
            "only showing top 5 rows\n",
            "\n"
          ],
          "name": "stdout"
        }
      ]
    },
    {
      "cell_type": "code",
      "metadata": {
        "colab": {
          "base_uri": "https://localhost:8080/"
        },
        "id": "yhxjyKO39RF7",
        "outputId": "26778e6c-df10-4a1a-b89b-63dd13ae508d"
      },
      "source": [
        "data = readJSONDF.select(\"content\").collect()\n",
        "print(data[0]['content'])"
      ],
      "execution_count": null,
      "outputs": [
        {
          "output_type": "stream",
          "text": [
            "Sau nghi vấn \"đường ai nấy đi\" với Thiều Bảo Trâm và drama “trà xanh” của Hải Tú, mọi nhất cử nhất động của Sơn Tùng đều được cư dân mạng đặc biệt quan tâm. Tuy nhiên thời gian qua, nam ca sĩ gần như lặn mất tăm trên các trang mạng xã hội, cũng không hề có bất cứ động thái nào liên quan đến 2 người con gái trên. Anh cũng chỉ tham gia một vài show diễn hay sự kiện của nhãn hàng.Nhưng bất ngờ mới đây, sau một thời gian dài nghe ngóng và theo chân, chúng tôi đã ghi lại được hình ảnh của nam ca sĩ khi xuất hiện ở một phim trường. Và theo các nguồn tin đáng tin cậy, đây là quay MV cho sản phẩm âm nhạc tiếp theo chứ không phải là quay clip quảng cáo. Các ekip làm việc với Tùng lần này đều là ekip ruột đã gắn bó với anh qua các MV trước. Liệu với kết thúc mở của MV Chúng Ta Của Hiện Tại thì liệu đây có phải là phần tiếp theo, như là Chúng Ta Của Tương Lai chẳng hạn?Cụ thể, chúng tôi bắt gặp Sơn Tùng có mặt tại một phim trường tại Quận 2 - TP.HCM vào sáng sớm ngày 29/3. Sơn Tùng đến bằng ô tô màu trắng - không phải là chiếc xe sang màu đỏ đã xuất hiện trên mặt báo nhiều lần.Xe được dán kính đen kịt, lái thẳng vào trong phim trường và do đó thời điểm ban ngày Sơn Tùng không hề lộ mặt. Anh làm việc trong phim trường cho đến khoảng 15h chiều thì lên xe rời đến một địa điểm quay khác trên đường Mai Chí Thọ Quận 7 cho những phân đoạn ngoại cảnh.Xe chở Sơn Tùng M-TP xuất hiện từ sáng sớm ngày 29/3 tại một phim trường ở Quận 2. Nam ca sĩ ở trong đó đến chiều cùng ngày thì di chuyển sang khu vực Mai Chí Thọ, Quận 7 để quay ngoại cảnh và sau đó lại trở lại phim trườngTới tận khoảng 19h30 tối cùng ngày, nam ca sĩ từ Quận 7 quay lại phim trường ở Quận 2. Tất cả quá trình di chuyển, đến và đi của Sơn Tùng đều diễn ra rất nhanh chóng và kín đáo. Chủ nhân của loạt hit đình đám Vbiz diện áo tối màu, mặc quần baggy rộng và tóc để mái khá dài, xung quanh luôn là đội bảo vệ đi theo 24/24, đảm bảo an ninh tối đa.Clip độc quyền: Sơn Tùng xuất hiện tại một phim trường ở Quận 2 sau nhiều tháng \"bốc hơi\" vì scandal tình áiĐặc biệt, cửa trường quay luôn đóng kín không cho người lạ ra vào. Dù vậy, một số sky (fan của nam ca sĩ - PV) vẫn biết sự có mặt của Sếp và tìm đến đây nhưng không gặp được idol.Tới 3h sáng ngày 30/3, giọng ca gốc Thái Bình mới lên xe rời đi cùng ekip, giữa đội vệ sĩ to đùng bao vây tứ phía, luôn thấy có một nhân vật nữ dáng người mảnh mai, đeo khẩu trang kín kè kè cùng Sơn Tùng. Từ cự ly khá xa, khó có thể nhận ra danh tính của người đó.Rời khỏi phim trường, xe Sơn Tùng tiếp tục chạy vòng vòng quanh Sài Gòn, từ Quận 2 đi qua các Quận 1, Quận 4, thậm chí ra tận Nhà Bè rồi mất hút.Sơn Tùng bước xuống từ xế hộp màu trắng, trở về từ Quận 7 để tiếp tục những cảnh quay tiếp theoBên cạnh nam ca sĩ lúc nào cũng có dàn vệ sĩ đi theo hộ tốngSơn Tùng cùng ekip có mặt ở phim trường này từ sáng 29/3, di chuyển sang phim trường khác đến tối trở lại. 3h sáng hôm sau (30/3), nam ca sĩ mới rời điDạo một vòng MXH suốt nhiều ngày gần đây, không thấy Sơn Tùng chia sẻ bất cứ thông tin nào. Tuy nhiên giữa thời điểm chúng tôi ghi được hình ảnh của Sơn Tùng thì nhiếp ảnh gia Mạnh Bi - người vài năm gần đây phụ trách phần hình ảnh cho giọng ca gốc Thái Bình trong các MV lại tình cờ check-in đúng ở địa điểm này. Dòng caption ảnh \"on set\", cộng thêm hình ảnh và những dữ liệu có được, không khó để khẳng định Sơn Tùng đang chuẩn bị cho một sản phẩm âm nhạc để trở lại showbiz trong thời gian tới.Cùng lúc Sơn Tùng rục rịch với MV mới, một nhân vật trong ekip Thiều Bảo Trâm cũng \"đánh tiếng\" bằng bức ảnh cho thấy cô rất có thể sẽ trở lại đường đua Vbiz vào một ngày không xa. Dân tình đoán già đoán non, liệu rằng đây có phải là một bản nhạc lụi tim người nghe sau những chuyện mà nữ ca sĩ đã trải qua.Hơn 3 tháng qua, Sơn Tùng vẫn giữ im lặng trước những ồn ào về tình ái\n"
          ],
          "name": "stdout"
        }
      ]
    },
    {
      "cell_type": "code",
      "metadata": {
        "id": "AB1PZ9F2zhMD"
      },
      "source": [
        "def preprocess(document):\n",
        "    document = re.sub(r'[^\\w\\s]','',document)\n",
        "    tokens = document.lower()\n",
        "    tokens = tokens.split()\n",
        "    return tokens"
      ],
      "execution_count": null,
      "outputs": []
    },
    {
      "cell_type": "code",
      "metadata": {
        "id": "CWs-4gx70haE",
        "colab": {
          "base_uri": "https://localhost:8080/"
        },
        "outputId": "d46cbe5d-3cc5-45f6-8806-ba4ad178002c"
      },
      "source": [
        "doc_as_shingles = []\n",
        "\n",
        "def shingling(document):\n",
        "  tokens = preprocess(document['content'])\n",
        "  shingles = ngrams(tokens, 3)\n",
        "  doc_as_shingles.append(list(shingles))\n",
        "  return doc_as_shingles\n",
        "\n",
        "for document in data:\n",
        "  shingling(document)\n",
        "print(doc_as_shingles[0])"
      ],
      "execution_count": null,
      "outputs": [
        {
          "output_type": "stream",
          "text": [
            "[('sau', 'nghi', 'vấn'), ('nghi', 'vấn', 'đường'), ('vấn', 'đường', 'ai'), ('đường', 'ai', 'nấy'), ('ai', 'nấy', 'đi'), ('nấy', 'đi', 'với'), ('đi', 'với', 'thiều'), ('với', 'thiều', 'bảo'), ('thiều', 'bảo', 'trâm'), ('bảo', 'trâm', 'và'), ('trâm', 'và', 'drama'), ('và', 'drama', 'trà'), ('drama', 'trà', 'xanh'), ('trà', 'xanh', 'của'), ('xanh', 'của', 'hải'), ('của', 'hải', 'tú'), ('hải', 'tú', 'mọi'), ('tú', 'mọi', 'nhất'), ('mọi', 'nhất', 'cử'), ('nhất', 'cử', 'nhất'), ('cử', 'nhất', 'động'), ('nhất', 'động', 'của'), ('động', 'của', 'sơn'), ('của', 'sơn', 'tùng'), ('sơn', 'tùng', 'đều'), ('tùng', 'đều', 'được'), ('đều', 'được', 'cư'), ('được', 'cư', 'dân'), ('cư', 'dân', 'mạng'), ('dân', 'mạng', 'đặc'), ('mạng', 'đặc', 'biệt'), ('đặc', 'biệt', 'quan'), ('biệt', 'quan', 'tâm'), ('quan', 'tâm', 'tuy'), ('tâm', 'tuy', 'nhiên'), ('tuy', 'nhiên', 'thời'), ('nhiên', 'thời', 'gian'), ('thời', 'gian', 'qua'), ('gian', 'qua', 'nam'), ('qua', 'nam', 'ca'), ('nam', 'ca', 'sĩ'), ('ca', 'sĩ', 'gần'), ('sĩ', 'gần', 'như'), ('gần', 'như', 'lặn'), ('như', 'lặn', 'mất'), ('lặn', 'mất', 'tăm'), ('mất', 'tăm', 'trên'), ('tăm', 'trên', 'các'), ('trên', 'các', 'trang'), ('các', 'trang', 'mạng'), ('trang', 'mạng', 'xã'), ('mạng', 'xã', 'hội'), ('xã', 'hội', 'cũng'), ('hội', 'cũng', 'không'), ('cũng', 'không', 'hề'), ('không', 'hề', 'có'), ('hề', 'có', 'bất'), ('có', 'bất', 'cứ'), ('bất', 'cứ', 'động'), ('cứ', 'động', 'thái'), ('động', 'thái', 'nào'), ('thái', 'nào', 'liên'), ('nào', 'liên', 'quan'), ('liên', 'quan', 'đến'), ('quan', 'đến', '2'), ('đến', '2', 'người'), ('2', 'người', 'con'), ('người', 'con', 'gái'), ('con', 'gái', 'trên'), ('gái', 'trên', 'anh'), ('trên', 'anh', 'cũng'), ('anh', 'cũng', 'chỉ'), ('cũng', 'chỉ', 'tham'), ('chỉ', 'tham', 'gia'), ('tham', 'gia', 'một'), ('gia', 'một', 'vài'), ('một', 'vài', 'show'), ('vài', 'show', 'diễn'), ('show', 'diễn', 'hay'), ('diễn', 'hay', 'sự'), ('hay', 'sự', 'kiện'), ('sự', 'kiện', 'của'), ('kiện', 'của', 'nhãn'), ('của', 'nhãn', 'hàngnhưng'), ('nhãn', 'hàngnhưng', 'bất'), ('hàngnhưng', 'bất', 'ngờ'), ('bất', 'ngờ', 'mới'), ('ngờ', 'mới', 'đây'), ('mới', 'đây', 'sau'), ('đây', 'sau', 'một'), ('sau', 'một', 'thời'), ('một', 'thời', 'gian'), ('thời', 'gian', 'dài'), ('gian', 'dài', 'nghe'), ('dài', 'nghe', 'ngóng'), ('nghe', 'ngóng', 'và'), ('ngóng', 'và', 'theo'), ('và', 'theo', 'chân'), ('theo', 'chân', 'chúng'), ('chân', 'chúng', 'tôi'), ('chúng', 'tôi', 'đã'), ('tôi', 'đã', 'ghi'), ('đã', 'ghi', 'lại'), ('ghi', 'lại', 'được'), ('lại', 'được', 'hình'), ('được', 'hình', 'ảnh'), ('hình', 'ảnh', 'của'), ('ảnh', 'của', 'nam'), ('của', 'nam', 'ca'), ('nam', 'ca', 'sĩ'), ('ca', 'sĩ', 'khi'), ('sĩ', 'khi', 'xuất'), ('khi', 'xuất', 'hiện'), ('xuất', 'hiện', 'ở'), ('hiện', 'ở', 'một'), ('ở', 'một', 'phim'), ('một', 'phim', 'trường'), ('phim', 'trường', 'và'), ('trường', 'và', 'theo'), ('và', 'theo', 'các'), ('theo', 'các', 'nguồn'), ('các', 'nguồn', 'tin'), ('nguồn', 'tin', 'đáng'), ('tin', 'đáng', 'tin'), ('đáng', 'tin', 'cậy'), ('tin', 'cậy', 'đây'), ('cậy', 'đây', 'là'), ('đây', 'là', 'quay'), ('là', 'quay', 'mv'), ('quay', 'mv', 'cho'), ('mv', 'cho', 'sản'), ('cho', 'sản', 'phẩm'), ('sản', 'phẩm', 'âm'), ('phẩm', 'âm', 'nhạc'), ('âm', 'nhạc', 'tiếp'), ('nhạc', 'tiếp', 'theo'), ('tiếp', 'theo', 'chứ'), ('theo', 'chứ', 'không'), ('chứ', 'không', 'phải'), ('không', 'phải', 'là'), ('phải', 'là', 'quay'), ('là', 'quay', 'clip'), ('quay', 'clip', 'quảng'), ('clip', 'quảng', 'cáo'), ('quảng', 'cáo', 'các'), ('cáo', 'các', 'ekip'), ('các', 'ekip', 'làm'), ('ekip', 'làm', 'việc'), ('làm', 'việc', 'với'), ('việc', 'với', 'tùng'), ('với', 'tùng', 'lần'), ('tùng', 'lần', 'này'), ('lần', 'này', 'đều'), ('này', 'đều', 'là'), ('đều', 'là', 'ekip'), ('là', 'ekip', 'ruột'), ('ekip', 'ruột', 'đã'), ('ruột', 'đã', 'gắn'), ('đã', 'gắn', 'bó'), ('gắn', 'bó', 'với'), ('bó', 'với', 'anh'), ('với', 'anh', 'qua'), ('anh', 'qua', 'các'), ('qua', 'các', 'mv'), ('các', 'mv', 'trước'), ('mv', 'trước', 'liệu'), ('trước', 'liệu', 'với'), ('liệu', 'với', 'kết'), ('với', 'kết', 'thúc'), ('kết', 'thúc', 'mở'), ('thúc', 'mở', 'của'), ('mở', 'của', 'mv'), ('của', 'mv', 'chúng'), ('mv', 'chúng', 'ta'), ('chúng', 'ta', 'của'), ('ta', 'của', 'hiện'), ('của', 'hiện', 'tại'), ('hiện', 'tại', 'thì'), ('tại', 'thì', 'liệu'), ('thì', 'liệu', 'đây'), ('liệu', 'đây', 'có'), ('đây', 'có', 'phải'), ('có', 'phải', 'là'), ('phải', 'là', 'phần'), ('là', 'phần', 'tiếp'), ('phần', 'tiếp', 'theo'), ('tiếp', 'theo', 'như'), ('theo', 'như', 'là'), ('như', 'là', 'chúng'), ('là', 'chúng', 'ta'), ('chúng', 'ta', 'của'), ('ta', 'của', 'tương'), ('của', 'tương', 'lai'), ('tương', 'lai', 'chẳng'), ('lai', 'chẳng', 'hạncụ'), ('chẳng', 'hạncụ', 'thể'), ('hạncụ', 'thể', 'chúng'), ('thể', 'chúng', 'tôi'), ('chúng', 'tôi', 'bắt'), ('tôi', 'bắt', 'gặp'), ('bắt', 'gặp', 'sơn'), ('gặp', 'sơn', 'tùng'), ('sơn', 'tùng', 'có'), ('tùng', 'có', 'mặt'), ('có', 'mặt', 'tại'), ('mặt', 'tại', 'một'), ('tại', 'một', 'phim'), ('một', 'phim', 'trường'), ('phim', 'trường', 'tại'), ('trường', 'tại', 'quận'), ('tại', 'quận', '2'), ('quận', '2', 'tphcm'), ('2', 'tphcm', 'vào'), ('tphcm', 'vào', 'sáng'), ('vào', 'sáng', 'sớm'), ('sáng', 'sớm', 'ngày'), ('sớm', 'ngày', '293'), ('ngày', '293', 'sơn'), ('293', 'sơn', 'tùng'), ('sơn', 'tùng', 'đến'), ('tùng', 'đến', 'bằng'), ('đến', 'bằng', 'ô'), ('bằng', 'ô', 'tô'), ('ô', 'tô', 'màu'), ('tô', 'màu', 'trắng'), ('màu', 'trắng', 'không'), ('trắng', 'không', 'phải'), ('không', 'phải', 'là'), ('phải', 'là', 'chiếc'), ('là', 'chiếc', 'xe'), ('chiếc', 'xe', 'sang'), ('xe', 'sang', 'màu'), ('sang', 'màu', 'đỏ'), ('màu', 'đỏ', 'đã'), ('đỏ', 'đã', 'xuất'), ('đã', 'xuất', 'hiện'), ('xuất', 'hiện', 'trên'), ('hiện', 'trên', 'mặt'), ('trên', 'mặt', 'báo'), ('mặt', 'báo', 'nhiều'), ('báo', 'nhiều', 'lầnxe'), ('nhiều', 'lầnxe', 'được'), ('lầnxe', 'được', 'dán'), ('được', 'dán', 'kính'), ('dán', 'kính', 'đen'), ('kính', 'đen', 'kịt'), ('đen', 'kịt', 'lái'), ('kịt', 'lái', 'thẳng'), ('lái', 'thẳng', 'vào'), ('thẳng', 'vào', 'trong'), ('vào', 'trong', 'phim'), ('trong', 'phim', 'trường'), ('phim', 'trường', 'và'), ('trường', 'và', 'do'), ('và', 'do', 'đó'), ('do', 'đó', 'thời'), ('đó', 'thời', 'điểm'), ('thời', 'điểm', 'ban'), ('điểm', 'ban', 'ngày'), ('ban', 'ngày', 'sơn'), ('ngày', 'sơn', 'tùng'), ('sơn', 'tùng', 'không'), ('tùng', 'không', 'hề'), ('không', 'hề', 'lộ'), ('hề', 'lộ', 'mặt'), ('lộ', 'mặt', 'anh'), ('mặt', 'anh', 'làm'), ('anh', 'làm', 'việc'), ('làm', 'việc', 'trong'), ('việc', 'trong', 'phim'), ('trong', 'phim', 'trường'), ('phim', 'trường', 'cho'), ('trường', 'cho', 'đến'), ('cho', 'đến', 'khoảng'), ('đến', 'khoảng', '15h'), ('khoảng', '15h', 'chiều'), ('15h', 'chiều', 'thì'), ('chiều', 'thì', 'lên'), ('thì', 'lên', 'xe'), ('lên', 'xe', 'rời'), ('xe', 'rời', 'đến'), ('rời', 'đến', 'một'), ('đến', 'một', 'địa'), ('một', 'địa', 'điểm'), ('địa', 'điểm', 'quay'), ('điểm', 'quay', 'khác'), ('quay', 'khác', 'trên'), ('khác', 'trên', 'đường'), ('trên', 'đường', 'mai'), ('đường', 'mai', 'chí'), ('mai', 'chí', 'thọ'), ('chí', 'thọ', 'quận'), ('thọ', 'quận', '7'), ('quận', '7', 'cho'), ('7', 'cho', 'những'), ('cho', 'những', 'phân'), ('những', 'phân', 'đoạn'), ('phân', 'đoạn', 'ngoại'), ('đoạn', 'ngoại', 'cảnhxe'), ('ngoại', 'cảnhxe', 'chở'), ('cảnhxe', 'chở', 'sơn'), ('chở', 'sơn', 'tùng'), ('sơn', 'tùng', 'mtp'), ('tùng', 'mtp', 'xuất'), ('mtp', 'xuất', 'hiện'), ('xuất', 'hiện', 'từ'), ('hiện', 'từ', 'sáng'), ('từ', 'sáng', 'sớm'), ('sáng', 'sớm', 'ngày'), ('sớm', 'ngày', '293'), ('ngày', '293', 'tại'), ('293', 'tại', 'một'), ('tại', 'một', 'phim'), ('một', 'phim', 'trường'), ('phim', 'trường', 'ở'), ('trường', 'ở', 'quận'), ('ở', 'quận', '2'), ('quận', '2', 'nam'), ('2', 'nam', 'ca'), ('nam', 'ca', 'sĩ'), ('ca', 'sĩ', 'ở'), ('sĩ', 'ở', 'trong'), ('ở', 'trong', 'đó'), ('trong', 'đó', 'đến'), ('đó', 'đến', 'chiều'), ('đến', 'chiều', 'cùng'), ('chiều', 'cùng', 'ngày'), ('cùng', 'ngày', 'thì'), ('ngày', 'thì', 'di'), ('thì', 'di', 'chuyển'), ('di', 'chuyển', 'sang'), ('chuyển', 'sang', 'khu'), ('sang', 'khu', 'vực'), ('khu', 'vực', 'mai'), ('vực', 'mai', 'chí'), ('mai', 'chí', 'thọ'), ('chí', 'thọ', 'quận'), ('thọ', 'quận', '7'), ('quận', '7', 'để'), ('7', 'để', 'quay'), ('để', 'quay', 'ngoại'), ('quay', 'ngoại', 'cảnh'), ('ngoại', 'cảnh', 'và'), ('cảnh', 'và', 'sau'), ('và', 'sau', 'đó'), ('sau', 'đó', 'lại'), ('đó', 'lại', 'trở'), ('lại', 'trở', 'lại'), ('trở', 'lại', 'phim'), ('lại', 'phim', 'trườngtới'), ('phim', 'trườngtới', 'tận'), ('trườngtới', 'tận', 'khoảng'), ('tận', 'khoảng', '19h30'), ('khoảng', '19h30', 'tối'), ('19h30', 'tối', 'cùng'), ('tối', 'cùng', 'ngày'), ('cùng', 'ngày', 'nam'), ('ngày', 'nam', 'ca'), ('nam', 'ca', 'sĩ'), ('ca', 'sĩ', 'từ'), ('sĩ', 'từ', 'quận'), ('từ', 'quận', '7'), ('quận', '7', 'quay'), ('7', 'quay', 'lại'), ('quay', 'lại', 'phim'), ('lại', 'phim', 'trường'), ('phim', 'trường', 'ở'), ('trường', 'ở', 'quận'), ('ở', 'quận', '2'), ('quận', '2', 'tất'), ('2', 'tất', 'cả'), ('tất', 'cả', 'quá'), ('cả', 'quá', 'trình'), ('quá', 'trình', 'di'), ('trình', 'di', 'chuyển'), ('di', 'chuyển', 'đến'), ('chuyển', 'đến', 'và'), ('đến', 'và', 'đi'), ('và', 'đi', 'của'), ('đi', 'của', 'sơn'), ('của', 'sơn', 'tùng'), ('sơn', 'tùng', 'đều'), ('tùng', 'đều', 'diễn'), ('đều', 'diễn', 'ra'), ('diễn', 'ra', 'rất'), ('ra', 'rất', 'nhanh'), ('rất', 'nhanh', 'chóng'), ('nhanh', 'chóng', 'và'), ('chóng', 'và', 'kín'), ('và', 'kín', 'đáo'), ('kín', 'đáo', 'chủ'), ('đáo', 'chủ', 'nhân'), ('chủ', 'nhân', 'của'), ('nhân', 'của', 'loạt'), ('của', 'loạt', 'hit'), ('loạt', 'hit', 'đình'), ('hit', 'đình', 'đám'), ('đình', 'đám', 'vbiz'), ('đám', 'vbiz', 'diện'), ('vbiz', 'diện', 'áo'), ('diện', 'áo', 'tối'), ('áo', 'tối', 'màu'), ('tối', 'màu', 'mặc'), ('màu', 'mặc', 'quần'), ('mặc', 'quần', 'baggy'), ('quần', 'baggy', 'rộng'), ('baggy', 'rộng', 'và'), ('rộng', 'và', 'tóc'), ('và', 'tóc', 'để'), ('tóc', 'để', 'mái'), ('để', 'mái', 'khá'), ('mái', 'khá', 'dài'), ('khá', 'dài', 'xung'), ('dài', 'xung', 'quanh'), ('xung', 'quanh', 'luôn'), ('quanh', 'luôn', 'là'), ('luôn', 'là', 'đội'), ('là', 'đội', 'bảo'), ('đội', 'bảo', 'vệ'), ('bảo', 'vệ', 'đi'), ('vệ', 'đi', 'theo'), ('đi', 'theo', '2424'), ('theo', '2424', 'đảm'), ('2424', 'đảm', 'bảo'), ('đảm', 'bảo', 'an'), ('bảo', 'an', 'ninh'), ('an', 'ninh', 'tối'), ('ninh', 'tối', 'đaclip'), ('tối', 'đaclip', 'độc'), ('đaclip', 'độc', 'quyền'), ('độc', 'quyền', 'sơn'), ('quyền', 'sơn', 'tùng'), ('sơn', 'tùng', 'xuất'), ('tùng', 'xuất', 'hiện'), ('xuất', 'hiện', 'tại'), ('hiện', 'tại', 'một'), ('tại', 'một', 'phim'), ('một', 'phim', 'trường'), ('phim', 'trường', 'ở'), ('trường', 'ở', 'quận'), ('ở', 'quận', '2'), ('quận', '2', 'sau'), ('2', 'sau', 'nhiều'), ('sau', 'nhiều', 'tháng'), ('nhiều', 'tháng', 'bốc'), ('tháng', 'bốc', 'hơi'), ('bốc', 'hơi', 'vì'), ('hơi', 'vì', 'scandal'), ('vì', 'scandal', 'tình'), ('scandal', 'tình', 'áiđặc'), ('tình', 'áiđặc', 'biệt'), ('áiđặc', 'biệt', 'cửa'), ('biệt', 'cửa', 'trường'), ('cửa', 'trường', 'quay'), ('trường', 'quay', 'luôn'), ('quay', 'luôn', 'đóng'), ('luôn', 'đóng', 'kín'), ('đóng', 'kín', 'không'), ('kín', 'không', 'cho'), ('không', 'cho', 'người'), ('cho', 'người', 'lạ'), ('người', 'lạ', 'ra'), ('lạ', 'ra', 'vào'), ('ra', 'vào', 'dù'), ('vào', 'dù', 'vậy'), ('dù', 'vậy', 'một'), ('vậy', 'một', 'số'), ('một', 'số', 'sky'), ('số', 'sky', 'fan'), ('sky', 'fan', 'của'), ('fan', 'của', 'nam'), ('của', 'nam', 'ca'), ('nam', 'ca', 'sĩ'), ('ca', 'sĩ', 'pv'), ('sĩ', 'pv', 'vẫn'), ('pv', 'vẫn', 'biết'), ('vẫn', 'biết', 'sự'), ('biết', 'sự', 'có'), ('sự', 'có', 'mặt'), ('có', 'mặt', 'của'), ('mặt', 'của', 'sếp'), ('của', 'sếp', 'và'), ('sếp', 'và', 'tìm'), ('và', 'tìm', 'đến'), ('tìm', 'đến', 'đây'), ('đến', 'đây', 'nhưng'), ('đây', 'nhưng', 'không'), ('nhưng', 'không', 'gặp'), ('không', 'gặp', 'được'), ('gặp', 'được', 'idoltới'), ('được', 'idoltới', '3h'), ('idoltới', '3h', 'sáng'), ('3h', 'sáng', 'ngày'), ('sáng', 'ngày', '303'), ('ngày', '303', 'giọng'), ('303', 'giọng', 'ca'), ('giọng', 'ca', 'gốc'), ('ca', 'gốc', 'thái'), ('gốc', 'thái', 'bình'), ('thái', 'bình', 'mới'), ('bình', 'mới', 'lên'), ('mới', 'lên', 'xe'), ('lên', 'xe', 'rời'), ('xe', 'rời', 'đi'), ('rời', 'đi', 'cùng'), ('đi', 'cùng', 'ekip'), ('cùng', 'ekip', 'giữa'), ('ekip', 'giữa', 'đội'), ('giữa', 'đội', 'vệ'), ('đội', 'vệ', 'sĩ'), ('vệ', 'sĩ', 'to'), ('sĩ', 'to', 'đùng'), ('to', 'đùng', 'bao'), ('đùng', 'bao', 'vây'), ('bao', 'vây', 'tứ'), ('vây', 'tứ', 'phía'), ('tứ', 'phía', 'luôn'), ('phía', 'luôn', 'thấy'), ('luôn', 'thấy', 'có'), ('thấy', 'có', 'một'), ('có', 'một', 'nhân'), ('một', 'nhân', 'vật'), ('nhân', 'vật', 'nữ'), ('vật', 'nữ', 'dáng'), ('nữ', 'dáng', 'người'), ('dáng', 'người', 'mảnh'), ('người', 'mảnh', 'mai'), ('mảnh', 'mai', 'đeo'), ('mai', 'đeo', 'khẩu'), ('đeo', 'khẩu', 'trang'), ('khẩu', 'trang', 'kín'), ('trang', 'kín', 'kè'), ('kín', 'kè', 'kè'), ('kè', 'kè', 'cùng'), ('kè', 'cùng', 'sơn'), ('cùng', 'sơn', 'tùng'), ('sơn', 'tùng', 'từ'), ('tùng', 'từ', 'cự'), ('từ', 'cự', 'ly'), ('cự', 'ly', 'khá'), ('ly', 'khá', 'xa'), ('khá', 'xa', 'khó'), ('xa', 'khó', 'có'), ('khó', 'có', 'thể'), ('có', 'thể', 'nhận'), ('thể', 'nhận', 'ra'), ('nhận', 'ra', 'danh'), ('ra', 'danh', 'tính'), ('danh', 'tính', 'của'), ('tính', 'của', 'người'), ('của', 'người', 'đórời'), ('người', 'đórời', 'khỏi'), ('đórời', 'khỏi', 'phim'), ('khỏi', 'phim', 'trường'), ('phim', 'trường', 'xe'), ('trường', 'xe', 'sơn'), ('xe', 'sơn', 'tùng'), ('sơn', 'tùng', 'tiếp'), ('tùng', 'tiếp', 'tục'), ('tiếp', 'tục', 'chạy'), ('tục', 'chạy', 'vòng'), ('chạy', 'vòng', 'vòng'), ('vòng', 'vòng', 'quanh'), ('vòng', 'quanh', 'sài'), ('quanh', 'sài', 'gòn'), ('sài', 'gòn', 'từ'), ('gòn', 'từ', 'quận'), ('từ', 'quận', '2'), ('quận', '2', 'đi'), ('2', 'đi', 'qua'), ('đi', 'qua', 'các'), ('qua', 'các', 'quận'), ('các', 'quận', '1'), ('quận', '1', 'quận'), ('1', 'quận', '4'), ('quận', '4', 'thậm'), ('4', 'thậm', 'chí'), ('thậm', 'chí', 'ra'), ('chí', 'ra', 'tận'), ('ra', 'tận', 'nhà'), ('tận', 'nhà', 'bè'), ('nhà', 'bè', 'rồi'), ('bè', 'rồi', 'mất'), ('rồi', 'mất', 'hútsơn'), ('mất', 'hútsơn', 'tùng'), ('hútsơn', 'tùng', 'bước'), ('tùng', 'bước', 'xuống'), ('bước', 'xuống', 'từ'), ('xuống', 'từ', 'xế'), ('từ', 'xế', 'hộp'), ('xế', 'hộp', 'màu'), ('hộp', 'màu', 'trắng'), ('màu', 'trắng', 'trở'), ('trắng', 'trở', 'về'), ('trở', 'về', 'từ'), ('về', 'từ', 'quận'), ('từ', 'quận', '7'), ('quận', '7', 'để'), ('7', 'để', 'tiếp'), ('để', 'tiếp', 'tục'), ('tiếp', 'tục', 'những'), ('tục', 'những', 'cảnh'), ('những', 'cảnh', 'quay'), ('cảnh', 'quay', 'tiếp'), ('quay', 'tiếp', 'theobên'), ('tiếp', 'theobên', 'cạnh'), ('theobên', 'cạnh', 'nam'), ('cạnh', 'nam', 'ca'), ('nam', 'ca', 'sĩ'), ('ca', 'sĩ', 'lúc'), ('sĩ', 'lúc', 'nào'), ('lúc', 'nào', 'cũng'), ('nào', 'cũng', 'có'), ('cũng', 'có', 'dàn'), ('có', 'dàn', 'vệ'), ('dàn', 'vệ', 'sĩ'), ('vệ', 'sĩ', 'đi'), ('sĩ', 'đi', 'theo'), ('đi', 'theo', 'hộ'), ('theo', 'hộ', 'tốngsơn'), ('hộ', 'tốngsơn', 'tùng'), ('tốngsơn', 'tùng', 'cùng'), ('tùng', 'cùng', 'ekip'), ('cùng', 'ekip', 'có'), ('ekip', 'có', 'mặt'), ('có', 'mặt', 'ở'), ('mặt', 'ở', 'phim'), ('ở', 'phim', 'trường'), ('phim', 'trường', 'này'), ('trường', 'này', 'từ'), ('này', 'từ', 'sáng'), ('từ', 'sáng', '293'), ('sáng', '293', 'di'), ('293', 'di', 'chuyển'), ('di', 'chuyển', 'sang'), ('chuyển', 'sang', 'phim'), ('sang', 'phim', 'trường'), ('phim', 'trường', 'khác'), ('trường', 'khác', 'đến'), ('khác', 'đến', 'tối'), ('đến', 'tối', 'trở'), ('tối', 'trở', 'lại'), ('trở', 'lại', '3h'), ('lại', '3h', 'sáng'), ('3h', 'sáng', 'hôm'), ('sáng', 'hôm', 'sau'), ('hôm', 'sau', '303'), ('sau', '303', 'nam'), ('303', 'nam', 'ca'), ('nam', 'ca', 'sĩ'), ('ca', 'sĩ', 'mới'), ('sĩ', 'mới', 'rời'), ('mới', 'rời', 'đidạo'), ('rời', 'đidạo', 'một'), ('đidạo', 'một', 'vòng'), ('một', 'vòng', 'mxh'), ('vòng', 'mxh', 'suốt'), ('mxh', 'suốt', 'nhiều'), ('suốt', 'nhiều', 'ngày'), ('nhiều', 'ngày', 'gần'), ('ngày', 'gần', 'đây'), ('gần', 'đây', 'không'), ('đây', 'không', 'thấy'), ('không', 'thấy', 'sơn'), ('thấy', 'sơn', 'tùng'), ('sơn', 'tùng', 'chia'), ('tùng', 'chia', 'sẻ'), ('chia', 'sẻ', 'bất'), ('sẻ', 'bất', 'cứ'), ('bất', 'cứ', 'thông'), ('cứ', 'thông', 'tin'), ('thông', 'tin', 'nào'), ('tin', 'nào', 'tuy'), ('nào', 'tuy', 'nhiên'), ('tuy', 'nhiên', 'giữa'), ('nhiên', 'giữa', 'thời'), ('giữa', 'thời', 'điểm'), ('thời', 'điểm', 'chúng'), ('điểm', 'chúng', 'tôi'), ('chúng', 'tôi', 'ghi'), ('tôi', 'ghi', 'được'), ('ghi', 'được', 'hình'), ('được', 'hình', 'ảnh'), ('hình', 'ảnh', 'của'), ('ảnh', 'của', 'sơn'), ('của', 'sơn', 'tùng'), ('sơn', 'tùng', 'thì'), ('tùng', 'thì', 'nhiếp'), ('thì', 'nhiếp', 'ảnh'), ('nhiếp', 'ảnh', 'gia'), ('ảnh', 'gia', 'mạnh'), ('gia', 'mạnh', 'bi'), ('mạnh', 'bi', 'người'), ('bi', 'người', 'vài'), ('người', 'vài', 'năm'), ('vài', 'năm', 'gần'), ('năm', 'gần', 'đây'), ('gần', 'đây', 'phụ'), ('đây', 'phụ', 'trách'), ('phụ', 'trách', 'phần'), ('trách', 'phần', 'hình'), ('phần', 'hình', 'ảnh'), ('hình', 'ảnh', 'cho'), ('ảnh', 'cho', 'giọng'), ('cho', 'giọng', 'ca'), ('giọng', 'ca', 'gốc'), ('ca', 'gốc', 'thái'), ('gốc', 'thái', 'bình'), ('thái', 'bình', 'trong'), ('bình', 'trong', 'các'), ('trong', 'các', 'mv'), ('các', 'mv', 'lại'), ('mv', 'lại', 'tình'), ('lại', 'tình', 'cờ'), ('tình', 'cờ', 'checkin'), ('cờ', 'checkin', 'đúng'), ('checkin', 'đúng', 'ở'), ('đúng', 'ở', 'địa'), ('ở', 'địa', 'điểm'), ('địa', 'điểm', 'này'), ('điểm', 'này', 'dòng'), ('này', 'dòng', 'caption'), ('dòng', 'caption', 'ảnh'), ('caption', 'ảnh', 'on'), ('ảnh', 'on', 'set'), ('on', 'set', 'cộng'), ('set', 'cộng', 'thêm'), ('cộng', 'thêm', 'hình'), ('thêm', 'hình', 'ảnh'), ('hình', 'ảnh', 'và'), ('ảnh', 'và', 'những'), ('và', 'những', 'dữ'), ('những', 'dữ', 'liệu'), ('dữ', 'liệu', 'có'), ('liệu', 'có', 'được'), ('có', 'được', 'không'), ('được', 'không', 'khó'), ('không', 'khó', 'để'), ('khó', 'để', 'khẳng'), ('để', 'khẳng', 'định'), ('khẳng', 'định', 'sơn'), ('định', 'sơn', 'tùng'), ('sơn', 'tùng', 'đang'), ('tùng', 'đang', 'chuẩn'), ('đang', 'chuẩn', 'bị'), ('chuẩn', 'bị', 'cho'), ('bị', 'cho', 'một'), ('cho', 'một', 'sản'), ('một', 'sản', 'phẩm'), ('sản', 'phẩm', 'âm'), ('phẩm', 'âm', 'nhạc'), ('âm', 'nhạc', 'để'), ('nhạc', 'để', 'trở'), ('để', 'trở', 'lại'), ('trở', 'lại', 'showbiz'), ('lại', 'showbiz', 'trong'), ('showbiz', 'trong', 'thời'), ('trong', 'thời', 'gian'), ('thời', 'gian', 'tớicùng'), ('gian', 'tớicùng', 'lúc'), ('tớicùng', 'lúc', 'sơn'), ('lúc', 'sơn', 'tùng'), ('sơn', 'tùng', 'rục'), ('tùng', 'rục', 'rịch'), ('rục', 'rịch', 'với'), ('rịch', 'với', 'mv'), ('với', 'mv', 'mới'), ('mv', 'mới', 'một'), ('mới', 'một', 'nhân'), ('một', 'nhân', 'vật'), ('nhân', 'vật', 'trong'), ('vật', 'trong', 'ekip'), ('trong', 'ekip', 'thiều'), ('ekip', 'thiều', 'bảo'), ('thiều', 'bảo', 'trâm'), ('bảo', 'trâm', 'cũng'), ('trâm', 'cũng', 'đánh'), ('cũng', 'đánh', 'tiếng'), ('đánh', 'tiếng', 'bằng'), ('tiếng', 'bằng', 'bức'), ('bằng', 'bức', 'ảnh'), ('bức', 'ảnh', 'cho'), ('ảnh', 'cho', 'thấy'), ('cho', 'thấy', 'cô'), ('thấy', 'cô', 'rất'), ('cô', 'rất', 'có'), ('rất', 'có', 'thể'), ('có', 'thể', 'sẽ'), ('thể', 'sẽ', 'trở'), ('sẽ', 'trở', 'lại'), ('trở', 'lại', 'đường'), ('lại', 'đường', 'đua'), ('đường', 'đua', 'vbiz'), ('đua', 'vbiz', 'vào'), ('vbiz', 'vào', 'một'), ('vào', 'một', 'ngày'), ('một', 'ngày', 'không'), ('ngày', 'không', 'xa'), ('không', 'xa', 'dân'), ('xa', 'dân', 'tình'), ('dân', 'tình', 'đoán'), ('tình', 'đoán', 'già'), ('đoán', 'già', 'đoán'), ('già', 'đoán', 'non'), ('đoán', 'non', 'liệu'), ('non', 'liệu', 'rằng'), ('liệu', 'rằng', 'đây'), ('rằng', 'đây', 'có'), ('đây', 'có', 'phải'), ('có', 'phải', 'là'), ('phải', 'là', 'một'), ('là', 'một', 'bản'), ('một', 'bản', 'nhạc'), ('bản', 'nhạc', 'lụi'), ('nhạc', 'lụi', 'tim'), ('lụi', 'tim', 'người'), ('tim', 'người', 'nghe'), ('người', 'nghe', 'sau'), ('nghe', 'sau', 'những'), ('sau', 'những', 'chuyện'), ('những', 'chuyện', 'mà'), ('chuyện', 'mà', 'nữ'), ('mà', 'nữ', 'ca'), ('nữ', 'ca', 'sĩ'), ('ca', 'sĩ', 'đã'), ('sĩ', 'đã', 'trải'), ('đã', 'trải', 'quahơn'), ('trải', 'quahơn', '3'), ('quahơn', '3', 'tháng'), ('3', 'tháng', 'qua'), ('tháng', 'qua', 'sơn'), ('qua', 'sơn', 'tùng'), ('sơn', 'tùng', 'vẫn'), ('tùng', 'vẫn', 'giữ'), ('vẫn', 'giữ', 'im'), ('giữ', 'im', 'lặng'), ('im', 'lặng', 'trước'), ('lặng', 'trước', 'những'), ('trước', 'những', 'ồn'), ('những', 'ồn', 'ào'), ('ồn', 'ào', 'về'), ('ào', 'về', 'tình'), ('về', 'tình', 'ái')]\n"
          ],
          "name": "stdout"
        }
      ]
    },
    {
      "cell_type": "code",
      "metadata": {
        "colab": {
          "base_uri": "https://localhost:8080/"
        },
        "id": "r1dvzIua_U_6",
        "outputId": "c466b714-d395-49bb-ca13-706ad5c50065"
      },
      "source": [
        "doc_hashed = []\n",
        "\n",
        "def hash_doc(shingles):\n",
        "  shingles_hashed = []\n",
        "  for shingle in shingles:\n",
        "    hash = mmh3.hash(' '.join(shingle))\n",
        "    shingles_hashed.append(hash)\n",
        "  return shingles_hashed  \n",
        "\n",
        "for document in doc_as_shingles:\n",
        "  doc_hashed.append(list(hash_doc(document)));\n",
        "print(doc_hashed[0])"
      ],
      "execution_count": null,
      "outputs": [
        {
          "output_type": "stream",
          "text": [
            "[-1746844108, 702369737, 972516078, -1264324051, 1173796847, -464829193, -2064918166, -277923450, 2040637177, 449141927, 1031847797, 1543888877, 1725551768, -1435549711, 579250164, 179396251, 1251615328, -1823814317, -1727963975, 1359400131, -619484912, -994988327, 493137236, 1264506849, -1661251425, 111344418, 390811016, -727250005, 1263801915, -667993614, 1726155041, 1194300217, 1315547187, 522235349, -168691567, -1783960478, 557749690, -1243848402, 1407278963, -50575916, -1575532904, -1836368867, -1650761433, 863997528, -1746598233, 814061102, -270543002, 48920382, -1290086104, 978494104, 1155020624, 1244718118, -1087634058, 1463058596, -1730320940, -2105386422, -1078167163, -716238641, 2105328596, 1214650102, 876016949, 1002646256, 1665376247, -507225906, 380764185, 1931273201, -377414495, 1742284643, -528182654, -796337304, 2938686, -2067201109, 152621598, -1771027460, 23075706, -1260425408, 1349777495, -1818450372, -1664322326, 1834517994, 925717976, 919142184, -569213744, -795708783, -1394352321, 1000738908, 781308155, -203974418, -1660817343, 1970956789, 1986279473, 214839506, -738801103, 1386151064, -248544781, -374663125, 43026749, 1232205585, -242987139, -1085326375, 731830552, -701696973, 1866216083, -1862028289, -1253900907, 1514117446, 1500337993, -1498486710, -1824975244, -1575532904, 2061755640, 1700196619, 755791882, -1271328773, 612954554, 2001397667, 1750938570, -1816565219, 290866190, -2095437844, 779807488, 1670630644, 1887355143, -1395685555, -1282917947, -1403333129, -1498795381, -1074538865, -1187206281, 1639845331, 2132924757, 695750797, -618311709, 1809040933, 2058516357, 1736471614, 203631398, -1706828043, -503980028, -866518582, -211667737, -166616696, 766844105, -909600850, -378687769, -1398235243, 495603842, -206985370, -106804750, 1684266283, -94520123, -1442937441, 461293398, 1467982694, 631534903, -1806838724, 1079111758, 475967954, -828237803, 262177175, 2294024, 1025701427, -1346603888, -279902069, 2106462563, 1861863484, -2137700566, -605012558, 2125862982, 1362698676, 193342452, -1980988828, 211072863, -961335625, 1181634416, 1921128249, 429550146, 470042942, -1878042203, -1393215183, 1585228143, -741081524, -403209299, 831145372, 231358520, 179118934, -1099718758, 1440549178, 602855189, 1133130740, 1181634416, 1101861570, -1530000615, -465379968, -1530441895, -1880851446, 1525507810, -1875431654, -756470609, -172446717, -786343053, -1969726935, 1168849339, 568632397, -1360694334, -782027831, -781765150, 1750938570, 1565151563, 1976231358, -344097257, 1971014940, 1880960051, -555275637, -1327727590, -1583228228, 616914413, -845498945, 1685214194, -806193540, -494947068, 191472805, 1783719027, 1131995858, -861209523, -1273066481, -29638219, -866518582, 1209142871, -985220964, 1469386656, -796434274, 568532788, 2133582189, 915526394, -1082150283, 1295451493, -11237066, -547689380, 1301487095, 1914448132, 1869955471, 947678635, 1824722035, -393349396, -610518598, 1103409572, -763816430, 866690211, -1579188775, -910913924, 2054293963, -1816565219, 559941619, -1210725301, 730675951, 1486688252, -2129762964, 1420710016, 2067880973, -961804819, -2093867965, 126489636, -230942666, 2080839681, 554239578, -1708083742, 626194499, -989811955, -1166958766, 2054293963, -232996530, -1599121142, 1139935737, -289964550, -1594218335, -869224809, 1445044570, 1036192374, -761200800, -1783759838, 23521882, -162546138, -551661367, -106553598, 573397745, -609403582, -155749527, 456644046, -1682025712, -1992184998, 1248486216, -1631671484, -1467311713, 1643465994, 1775235878, 210787943, -2042134301, 1623398579, 1080983964, -1828331000, -1162861093, 728308434, -1035996244, -739882416, 1644839658, 380268457, -1877127671, -1583228228, 616914413, 1042886899, 144676914, -781765150, 1750938570, -814281252, -1655419482, -1051189750, -474543883, 1840212238, -1575532904, -624240490, 1091083562, 1573889259, 1025024023, 870647528, -2026558945, -1434886210, 1010390011, 1452725542, 980007715, 336256205, 882333912, 1945312119, -234252304, 168361103, -1992184998, 1248486216, -1631671484, 1867782915, 1843379691, 299407923, 390240840, -129495141, 803375108, -717107680, 837732360, -663461128, 1790314227, -1068416795, 39053872, 814795436, -1616709621, 1194957092, -1079229136, -1171770791, -1042947292, -1628517455, -1898107511, -1575532904, 1873209135, -2132663110, 920481020, -557345855, 1516185922, 1737375178, 1247177891, -814281252, -1655419482, -1051189750, -404558288, -1230136225, -413402029, 1694787596, -405395192, 932014626, 1784056842, 575472876, 1032332210, 1253263797, 806641722, 1264506849, -1661251425, 765284999, 1366974236, 143361718, -2043771740, -1343912065, -1912810371, 1151253803, -1770420943, -507957941, 1135456682, -698256710, -2039999021, -459864858, -467798595, -1821690839, -218845968, -1622869784, -2099905840, 190272840, 1592883735, 517686000, -241231839, -9946469, 1282617794, -1726820692, -2119136040, 401855601, -62209962, -579522171, -808434446, 1326712328, 599412101, 245496709, 1144154361, -2140643871, -893915777, 410937760, 1980781009, 1532576818, 1539268811, 2099579492, -2084573205, -646125002, -2112086345, 2042018359, 1068505512, 360468816, -1875081450, 260045511, 1892145102, -2087303417, -908614955, 705701111, 535377954, -781765150, 1750938570, -814281252, -1655419482, -1051189750, 1813132527, 383671274, 1125284732, 58629603, 2059894974, 1776621519, 241524389, 402716492, -1022462376, -998042666, -832190599, 385958524, 2013979011, -921894011, 678120975, 1057447884, 218675255, 1906255064, -1985439740, -837232641, 93009536, -46960293, -40428917, -2011369177, 352392553, -1995442169, 1708863934, -1413913892, 2092928162, 1349034240, -1824975244, -1575532904, -1550736897, -212714911, -1769545645, 887717026, -610362802, -1030086352, 1106250079, -282554202, 707472749, -1375061062, -1303766527, -2054131965, 235766656, -354222973, -1487769601, 1736912354, 1096665857, -638501125, -1403731605, -773515881, -757535841, -1566576311, 675806153, -535312510, -755203563, -1783631952, 1911629536, -219718252, 2042061883, -761200800, -1024566305, 1850217241, -1199264230, 142405023, 2072620024, -361637571, -507116889, 1207711165, 137100579, 2000633080, -632139087, -1656747751, -1378660904, -1864478300, 665810170, 1936320015, 222960675, -784706775, 1762478608, 583950372, 813492046, -674630861, -915716302, 588776253, 1082307924, 2073472501, -1636202141, 436533375, 1648430593, -221233008, -1747500996, 1345095805, 1059277793, 911737005, 1859281418, 2076601633, 2096659440, 379530810, -1237234470, 163870327, -1478105247, 312619722, 691585318, 878622139, 660847081, 983222323, 494882759, 862898020, 1213890382, -62829606, -1365975215, -1345208117, -433924119, -493974317, 1770698032, 342264573, 1952811916, 203646460, 1506084202, -1938952548, -922882488, -2113270753, 542420439, -1030040209, 319416256, 1286077720, 1962598949, 360490585, -1028400170, -1871090502, 1205590031, -241529165, -534673728, -732105750, 1697506333, 613876203, 1162393128, -1403732403, -624839884, -1010475634, -1859323158, -438419782, -1537860354, 928009438, -1178696635, 714560049, 2113030915, 374016685, -1057980348, -426671759, -1852707616, -322691531, 1270294505, 920481020, 1867782915, -1937083703, 1003803256, 1378555021, 389436059, -2134578894, -1096826070, -803594757, -719350311, -1659812591, -767812079, -1575532904, 407414464, 412758778, 568236486, -808884676, 1142522926, 957120337, 1740171061, -1359108634, -1669507822, -518433758, 1274075617, 2139395709, 1304612171, 1787672751, -1456895882, -1885909098, -971420426, -1774884058, 408097575, -1591763401, 1217873847, -708740023, -791654174, -1866046196, -1330106161, 336256205, -1637867532, 1673869709, -337547244, 1423814073, -728404629, -1691842417, 682246311, -2063848099, 1684673725, 1859919138, -1792660206, -461568453, -2023784771, 1423267807, -1575532904, -1530640448, 1363104467, -33817275, 265769317, 1485156360, -584817623, -2103662588, 969488744, 885461118, -1661393105, -2077373148, 423959673, 737943017, -2129640662, 2120012771, -1812047927, -954862632, 815243549, 1934724594, -1648653585, -1537071186, 276167171, -1351781301, -1437089985, -1589369004, 2042548931, 1698614122, 1324691263, -275226081, 323520742, -1493484273, 1506182536, 1514117446, 1500337993, -259242348, 1264506849, -1407024045, -1809693828, 528662718, 1712744772, 786613764, -1478702141, -323392865, 2081702397, 1584453886, 141437332, 2120406943, -1948946383, -1273023141, 328773329, -1139989358, 1963250145, 1192560296, 1090851590, -791843023, -535312510, -755203563, -1783631952, 1482608834, -1990078779, -1406303562, 1885646488, 2004711832, -1135097248, -53197205, 13461533, -1936262383, 668098974, -2070291701, -1572710473, -1751076306, 1442068149, 1652579695, -1352275098, 561909974, 1157447688, -375795999, 848556180, 372608837, -1896470828, 726295046, -2028819655, 1833430994, -2033620818, -555337319, -800085494, 81420948, -1032979498, -461911837, 883311530, 906080265, 30113284, -201966286, 752355072, -1914522970, 586485063, 1911203379, 1109355931, -995500379, -618311709, 1809040933, 772773394, 21960515, -1396297962, 1547437386, -204939676, -1130006385, -1350421163, 238725769, -610325341, 142447455, -671088455, -414515946, -829152464, -63638078, -76632834, -554729464, 1580095857, -1313334986, 1762478608, -129002922, -1375598403, -1029502383, -991426648, 2040637177, 1039451856, 1757038442, 1330628716, -833694361, 1759741845, -1071237154, 672648300, -46240641, -1799053543, -1436785371, 1111322911, -831291047, 1588346015, 884189186, 1875288989, 1856359659, 1884561367, -654234899, 509454054, 1586112564, -1131174983, 917050029, 963178748, 722777915, -201751640, -949255703, 2011910682, -564832016, -1746494152, 1955143891, -262271338, 439580756, -1655394696, -741081524, -403209299, -2068219386, 350228601, -184474271, 1169133913, 1095033286, 2024919273, 942239634, 1008834478, 551177940, 1183078325, 1309180668, 1530819034, 2043470036, 1485415850, -116187861, -817927663, -1364183709, -1630671378, -1733720769, -1925444110, 1864825321, -1880834772, 1888922418, -722183736, 374181527, -1984423592, -335512946, 2124732845, 614396483, 898394088, 808042656, -615721998, 1021286356]\n"
          ],
          "name": "stdout"
        }
      ]
    },
    {
      "cell_type": "code",
      "metadata": {
        "colab": {
          "base_uri": "https://localhost:8080/"
        },
        "id": "VmWODQWG_qaY",
        "outputId": "fae3dff0-8cbf-48ce-fab1-fc19cde519ea"
      },
      "source": [
        "start = time.time()\n",
        "signatures = []\n",
        "max_shingle_id = 2 ** 32 - 1\n",
        "\n",
        "next_prime = 4294967311\n",
        "\n",
        "def pick_random_coeffs(k):\n",
        "    rand_list = []\n",
        "\n",
        "    while k > 0:\n",
        "        rand_index = random.randint(0, max_shingle_id)\n",
        "\n",
        "        while rand_index in rand_list:\n",
        "            rand_index = random.randint(0, max_shingle_id)\n",
        "\n",
        "        rand_list.append(rand_index)\n",
        "        k = k - 1\n",
        "    return rand_list\n",
        "\n",
        "coeff_a = pick_random_coeffs(100)\n",
        "coeff_b = pick_random_coeffs(100)\n",
        "\n",
        "for document in doc_hashed:\n",
        "  signature =[]\n",
        "  for i in range(0, 100):\n",
        "    min_hash_code = next_prime + 1\n",
        "    for shingle in document: \n",
        "      hash_code = (coeff_a[i] * shingle + coeff_b[i]) % next_prime\n",
        "      if hash_code < min_hash_code:\n",
        "        min_hash_code = hash_code\n",
        "    signature.append(min_hash_code)\n",
        "  signatures.append(signature)\n",
        "end = time.time()\n",
        "print(signatures[0])\n",
        "print(len(signatures),len(signatures[0]))\n",
        "print(\"Minhash completed in : {:.4f} sec\".format(end - start))"
      ],
      "execution_count": null,
      "outputs": [
        {
          "output_type": "stream",
          "text": [
            "[4730865, 1756329, 185507, 582957, 105249, 21431026, 603892, 4342713, 13096226, 5353753, 5154830, 2612507, 1071698, 8448415, 412773, 536391, 3016316, 4109662, 262111, 9474109, 4856037, 3846817, 4391962, 6689537, 5355316, 956855, 6602197, 8005386, 8492040, 2350613, 282603, 28368442, 5075658, 623305, 11715666, 4134007, 1003709, 626286, 2699789, 745662, 2787851, 799917, 6624602, 886813, 587701, 4478602, 2262206, 9329670, 4396291, 986296, 8272114, 166615, 7082295, 7439882, 5305015, 8242476, 1810597, 1064164, 8305911, 416928, 8293627, 7091528, 3169585, 981173, 4475455, 476939, 12524831, 14022669, 1147800, 5398905, 2181002, 7721351, 2833109, 2781660, 6718564, 3702232, 1724442, 4154787, 7472357, 5767705, 4063604, 425597, 2241416, 2710979, 8959255, 4127641, 2564374, 9852972, 5450551, 1385225, 2471460, 791727, 921076, 6441261, 6990465, 1264829, 15801560, 6500755, 3201156, 95238]\n",
            "1183 100\n",
            "Minhash completed in : 37.8691 sec\n"
          ],
          "name": "stdout"
        }
      ]
    },
    {
      "cell_type": "code",
      "metadata": {
        "colab": {
          "base_uri": "https://localhost:8080/"
        },
        "id": "mznJfxy8Byy6",
        "outputId": "cc439636-ce6c-4d0c-dba6-dd75ef1c2774"
      },
      "source": [
        "sample_document = signatures[100]\n",
        "def apply_LSH_technique(signatures,t,bands,rows):\n",
        "    if bands * rows != len(signatures):\n",
        "        print('split to bands error.')\n",
        "\n",
        "    array_buckets = initialize_array_bucket(bands)\n",
        "\n",
        "    # hash_funcs = pick_random_coeffs(10);\n",
        "\n",
        "    candidates = {}\n",
        "    \n",
        "    i = 0\n",
        "    for b in range(bands):\n",
        "        buckets = array_buckets[b] \n",
        "        band = np.array(signatures)[i:i+rows,:]\n",
        "\n",
        "        for col in range(band.shape[1]):    \n",
        "            key = int(sum(band[:,col]) % len(buckets))\n",
        "            buckets[key].append(col)\n",
        "        i = i+rows\n",
        "        for item in buckets:   \n",
        "            if len(item) > 1:\n",
        "                pair = (item[0], item[1])\n",
        "                if pair not in candidates:\n",
        "                    A = np.array(signatures)[:,item[0]]\n",
        "                    B = np.array(signatures)[:,item[1]]\n",
        "                    similarity = cosine_distance(A,B)\n",
        "                    if similarity >= t:\n",
        "                        candidates[pair] = similarity\n",
        "\n",
        "    sort = sorted(candidates.items(),key=itemgetter(1), reverse=True)\n",
        "\n",
        "    return candidates,sort\n",
        "\n",
        "\n",
        "start = time.time()\n",
        "candidates, sort = apply_LSH_technique(signatures[0:1180], 0.3, 59, 20)\n",
        "end = time.time()\n",
        "print(candidates)\n",
        "print(\"LSH completed in: {:.4f} sec\".format(end - start))"
      ],
      "execution_count": null,
      "outputs": [
        {
          "output_type": "stream",
          "text": [
            "/usr/local/lib/python3.7/dist-packages/ipykernel_launcher.py:2: RuntimeWarning: overflow encountered in long_scalars\n",
            "  \n"
          ],
          "name": "stderr"
        },
        {
          "output_type": "stream",
          "text": [
            "{}\n",
            "LSH completed in: 45.4882 sec\n"
          ],
          "name": "stdout"
        }
      ]
    },
    {
      "cell_type": "code",
      "metadata": {
        "id": "CyDzgxr-EnFy"
      },
      "source": [
        "sample_document = signatures[100]\n",
        "def create_bands(signature_matrix):\n",
        "    # Creates bands given the signature matrix.\n",
        "    # Separates the signature_matrix rows (n in total)\n",
        "    # to b bands each of which consists of r rows (b*r=n)\n",
        "\n",
        "    bands = []\n",
        "    # get the number of bands and the number of rows\n",
        "    b, r = get_b_r(len(signature_matrix))\n",
        "    row_to_add = 0\n",
        "\n",
        "    # for each one of b bands\n",
        "    for band in range(b):\n",
        "        rows = []\n",
        "        for row in range(r):\n",
        "            # get r rows from signature_matrix\n",
        "            rows.append(signature_matrix[row_to_add])\n",
        "            row_to_add = row_to_add + 1\n",
        "        # add r rows to this band\n",
        "        bands.append([band, rows])\n",
        "    return bands\n",
        "\n",
        "\n",
        "def create_hash_table(bands, k):\n",
        "    # Creates buckets given the bands.\n",
        "    # Hashes each column of bands to some large number of buckets.\n",
        "    # The hash function gives the position in which the column\n",
        "    # will be placed in the buckets array.\n",
        "    # We use a separate bucket array for each band, so columns  vector\n",
        "    # with the same in different bands will not hash to the same bucket.\n",
        "\n",
        "    buckets = []\n",
        "    for i in range(len(bands)):\n",
        "        row = []\n",
        "        for j in range(k):\n",
        "            row.append([])\n",
        "        buckets.append(row)\n",
        "\n",
        "    # hash function parameters\n",
        "    # random.seed(0)\n",
        "    a = random.randint(1, 99)\n",
        "    # random.seed(0)\n",
        "    b = random.randint(1, 99)\n",
        "    for band in range(len(bands)):\n",
        "        for column in range(len(bands[band][1][0])):\n",
        "            sum = 0\n",
        "            for band_len in range(len(bands[band][1])):\n",
        "                sum = sum + bands[band][1][band_len][column]\n",
        "            position_in_hashed = ((a * sum + b) % 99) % k\n",
        "            buckets[band][position_in_hashed].append(column)\n",
        "        #     print(\"\\tposition -->\", position_in_hashed)\n",
        "        # print(\"end band\\n\")\n",
        "    return buckets\n",
        "\n",
        "\n",
        "def candidate_column_pairs(buckets):\n",
        "    # The buckets array is a sparse array, so candidate_column_pairs function\n",
        "    # returns only the candidate pairs of documents (zip array of buckets)\n",
        "\n",
        "    candidate_pairs_list = []\n",
        "    # for each bucket array (for row of buckets)\n",
        "    for row in range(len(buckets)):\n",
        "        row_candidates_matches = []\n",
        "        # for each bucket in bucket array\n",
        "        for column in range(len(buckets[row])):\n",
        "            # if bucket contains 2 or more documents\n",
        "            if len(buckets[row][column]) > 1:\n",
        "                # add bucket to new zip bucket array\n",
        "                row_candidates_matches.append(buckets[row][column])\n",
        "        # add zip bucket array to candidate_pairs_list\n",
        "        candidate_pairs_list.append(row_candidates_matches)\n",
        "    return candidate_pairs_list\n",
        "\n",
        "\n",
        "def jaccard_similarity(list1, list2):\n",
        "    # calculates the Jaccard similarity of 2 lists\n",
        "\n",
        "    s1 = set(list1)\n",
        "    s2 = set(list2)\n",
        "    return float(str(round(len(s1.intersection(s2)) / len(s1.union(s2)), 3)))\n",
        "\n",
        "\n",
        "def document_similarities(cand_pairs, sign_mtrx, docs):\n",
        "    # calculates the Jaccard similarity of all pairs\n",
        "\n",
        "    similarities = []\n",
        "    # for each bucket array in candidate pairs list\n",
        "    for bucket_array in range(len(cand_pairs)):\n",
        "        # for each bucket in bucket array\n",
        "        for bucket in range(len(cand_pairs[bucket_array])):\n",
        "            # find all pairs from a list (if list size > 2)\n",
        "            # A,B,C,D --> AB,AC,AD - BC,BD - CD\n",
        "            for doc_1 in range(len(cand_pairs[bucket_array][bucket])):\n",
        "                for doc_2 in range(doc_1 + 1, len(cand_pairs[bucket_array][bucket])):\n",
        "                    first = cand_pairs[bucket_array][bucket][doc_1]\n",
        "                    second = cand_pairs[bucket_array][bucket][doc_2]\n",
        "                    # if documents are different from each other\n",
        "                    if first != second:\n",
        "                        # get signatures of documents from signature matrix\n",
        "                        list_1 = [s[first] for s in sign_mtrx]\n",
        "                        list_2 = [s[second] for s in sign_mtrx]\n",
        "                        # calculate jaccard similarity\n",
        "                        js = jaccard_similarity(list_1, list_2)\n",
        "                        # if record / pair does not exist in similarities add it\n",
        "                        if ([docs[first + 1], docs[second + 1], js] or [docs[second + 1], docs[\n",
        "                        first + 1], js]) not in similarities:\n",
        "                            similarities.append([docs[first + 1], docs[second + 1], js])\n",
        "\n",
        "    # sort results\n",
        "    similarities = sorted(similarities, key=lambda s: s[2], reverse=True)\n",
        "\n",
        "    return similarities"
      ],
      "execution_count": null,
      "outputs": []
    }
  ]
}