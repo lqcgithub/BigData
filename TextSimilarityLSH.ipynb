{
  "nbformat": 4,
  "nbformat_minor": 0,
  "metadata": {
    "colab": {
      "name": "TextSimilarityLSH.ipynb",
      "provenance": [],
      "collapsed_sections": [],
      "authorship_tag": "ABX9TyPzAfJLdeyD9Dahvh+r9io4",
      "include_colab_link": true
    },
    "kernelspec": {
      "name": "python3",
      "display_name": "Python 3"
    }
  },
  "cells": [
    {
      "cell_type": "markdown",
      "metadata": {
        "id": "view-in-github",
        "colab_type": "text"
      },
      "source": [
        "<a href=\"https://colab.research.google.com/github/lqcgithub/MiningofMassiveDatasets/blob/main/TextSimilarityLSH.ipynb\" target=\"_parent\"><img src=\"https://colab.research.google.com/assets/colab-badge.svg\" alt=\"Open In Colab\"/></a>"
      ]
    },
    {
      "cell_type": "markdown",
      "metadata": {
        "id": "echGsTg6uVB4"
      },
      "source": [
        ""
      ]
    },
    {
      "cell_type": "code",
      "metadata": {
        "colab": {
          "base_uri": "https://localhost:8080/"
        },
        "id": "vyRwS6eWvpPb",
        "outputId": "e971d1ae-0cbb-4ff6-e9d2-09476e6222e9"
      },
      "source": [
        "pip install beautifulsoup4"
      ],
      "execution_count": null,
      "outputs": [
        {
          "output_type": "stream",
          "text": [
            "Requirement already satisfied: beautifulsoup4 in /usr/local/lib/python3.7/dist-packages (4.6.3)\n"
          ],
          "name": "stdout"
        }
      ]
    },
    {
      "cell_type": "code",
      "metadata": {
        "colab": {
          "base_uri": "https://localhost:8080/"
        },
        "id": "eE3j9_7tCewn",
        "outputId": "b185bd76-709e-4af6-da81-b348fb543e73"
      },
      "source": [
        "pip install pyspark"
      ],
      "execution_count": null,
      "outputs": [
        {
          "output_type": "stream",
          "text": [
            "Requirement already satisfied: pyspark in /usr/local/lib/python3.7/dist-packages (3.1.1)\n",
            "Requirement already satisfied: py4j==0.10.9 in /usr/local/lib/python3.7/dist-packages (from pyspark) (0.10.9)\n"
          ],
          "name": "stdout"
        }
      ]
    },
    {
      "cell_type": "code",
      "metadata": {
        "colab": {
          "base_uri": "https://localhost:8080/"
        },
        "id": "5QZBWFS0BMkb",
        "outputId": "4a1e54a8-9684-4a8b-f430-9f9cec842731"
      },
      "source": [
        "pip install mmh3"
      ],
      "execution_count": null,
      "outputs": [
        {
          "output_type": "stream",
          "text": [
            "Requirement already satisfied: mmh3 in /usr/local/lib/python3.7/dist-packages (3.0.0)\n"
          ],
          "name": "stdout"
        }
      ]
    },
    {
      "cell_type": "code",
      "metadata": {
        "id": "WhiSIN_ExYmo"
      },
      "source": [
        "import requests\n",
        "from bs4 import BeautifulSoup"
      ],
      "execution_count": null,
      "outputs": []
    },
    {
      "cell_type": "code",
      "metadata": {
        "id": "-88_CK1hCiFv"
      },
      "source": [
        "import pyspark\n",
        "from pyspark import SparkConf, SparkContext"
      ],
      "execution_count": null,
      "outputs": []
    },
    {
      "cell_type": "code",
      "metadata": {
        "id": "QN5tYa0RHR1r"
      },
      "source": [
        "import re\n",
        "import numpy as np\n",
        "import collections\n",
        "import random\n",
        "from operator import itemgetter"
      ],
      "execution_count": null,
      "outputs": []
    },
    {
      "cell_type": "code",
      "metadata": {
        "id": "Q8S3lI_ctaHk"
      },
      "source": [
        "import nltk\n",
        "from nltk import ngrams\n",
        "import mmh3\n",
        "import time"
      ],
      "execution_count": null,
      "outputs": []
    },
    {
      "cell_type": "code",
      "metadata": {
        "id": "bBiFOj80C2RM"
      },
      "source": [
        "conf = SparkConf().setMaster(\"local\").setAppName(\"Market Basket with Apriori\")\n",
        "sc = SparkContext.getOrCreate(conf=conf)"
      ],
      "execution_count": null,
      "outputs": []
    },
    {
      "cell_type": "code",
      "metadata": {
        "id": "s6wegdagv2Fn"
      },
      "source": [
        "baseUrl = \"https://tuoitre.vn\"\n",
        "url = \"https://congnghe.tuoitre.vn/\""
      ],
      "execution_count": null,
      "outputs": []
    },
    {
      "cell_type": "code",
      "metadata": {
        "id": "QIIh3kdQzeDR"
      },
      "source": [
        "def crawlTuoitreNews(baseUrl, url):\n",
        "  response = requests.get(url)\n",
        "  soup = BeautifulSoup(response.content, \"html.parser\")\n",
        "  titles = soup.select('h3.title-news')\n",
        "  links = [link.find('a').attrs[\"href\"] for link in titles]\n",
        "  data = []\n",
        "  for link in links:\n",
        "    news = requests.get(baseUrl + link)\n",
        "    soup = BeautifulSoup(news.content, \"html.parser\")\n",
        "    if (soup.find(\"h1\", class_=\"article-title\")is not None):\n",
        "      title = soup.find(\"h1\", class_=\"article-title\").text.strip()\n",
        "      abstract = soup.find(\"h2\", class_=\"sapo\").text.strip()\n",
        "      body = soup.find(\"div\", id=\"main-detail-body\")\n",
        "      contents = body.findAll(\"p\", recursive=False)\n",
        "      contents = [content.text.strip() for content in contents]\n",
        "      content = ('').join(contents)\n",
        "      data.append({\n",
        "          \"title\": title,\n",
        "          \"abstract\": abstract,\n",
        "          \"content\": content,\n",
        "      })\n",
        "  return data\n",
        "data = crawlTuoitreNews(baseUrl, url)"
      ],
      "execution_count": null,
      "outputs": []
    },
    {
      "cell_type": "code",
      "metadata": {
        "colab": {
          "base_uri": "https://localhost:8080/"
        },
        "id": "Bx6-nflbBppJ",
        "outputId": "962845a0-92df-4e50-b0e7-3e2a1ae61ed0"
      },
      "source": [
        "print(data[0][\"content\"])\n",
        "print(len(data))"
      ],
      "execution_count": null,
      "outputs": [
        {
          "output_type": "stream",
          "text": [
            "Thế hệ trẻ hiện nay, đặc biệt là GenZ đang sống trong thời đại của các thiết bị di động thông minh. Nhưng TV vẫn đóng vai trò quan trọng của một sản phẩm giải trí không thể thiếu tại nhà. Thống kê cho thấy người dùng vẫn dành một khoảng thời gian đáng kể để thưởng thức các gameshow, phim, YouTube trên TV…Coocaa nổi lên là thương hiệu TV đang chiếm được cảm tình của người dùng, đặc biệt là khách hàng trẻ. Đây trở thành một trong những dòng TV có doanh số đứng đầu sàn thương mại điện tử Lazada tại khu vực Đông Nam Á. Sở dĩ khách hàng yêu thích sản phẩm bởi chất lượng của sản phẩm đem lại vượt trội so với giá thành, tiêu biểu có thể kể đến dòng S6G Pro.Với thông điệp CooLife, Coocaa muốn mang đến nhiều hơn những giá trị giải trí cho khách hàng. Khẩu hiệu này là ghép của Cool và Life, mở ra trải nghiệm mới cho những người trẻ khi TV không còn bị giới hạn bởi những chương trình truyền hình mà còn nhiều hơn thế.Người dùng có thể cùng bạn bè hát karaoke sau một ngày làm việc hăng say, hòa mình vào các tựa game trên máy console hay sống trong những giây phút thể thao thông qua màn hình lớn…Coocaa S6G Pro là một trong những dòng TV công nghệ LED có thiết kế mỏng nhất trên thị trường. Hai cạnh bên và cạnh trên với thiết kế màu đen, mang đến cảm giác hình ảnh tràn viền. Trong khi đó cạnh dưới và chân đế màu bạc tạo điểm hiện đại, biến chiếc TV trở thành điểm nhấn trong nội thất của căn phòng.Xem thêm thông tin S6G Pro tại website: https://rebrand.ly/3whgh9hKhông chỉ nổi bật trong thiết kế, sản phẩm còn ấn tượng bởi khả năng hiển thị \"vô hạn\". Hình ảnh như \"lơ lửng\" trên chân đế nhờ viền màn hình siêu mỏng. Trong khi đó công nghệ Chameleon Extreme 2.0 và 4K HDR10 + giúp màu sắc trở nên sống động, tái tạo chân thực khung cảnh.Với hai cổng USB và 3 cổng HDMI, các kết nối đủ cho hầu hết các nhu cầu sử dụng. Người dùng có thể xuất tín hiệu từ đầu thu set-top box, máy chơi game hay cả PC…; xem ảnh, video với HDD cắm ngoài…Mẫu TV của Coocaa có hai loa 20W, hỗ trợ giải mã AV1 mới nhất cùng công nghệ Dolby Audio DTS. Hiệu ứng âm thanh vòm cho người xem trải nghiệm như mang rạp phim về nhà.Hướng đến khách hàng trẻ, sản phẩm được trang bị hệ điều hành Android 10 với các tính năng được tối ưu cho Smart TV. Các ứng dụng OTT như Netflix, Amazon Prime và nhiều nền tảng khác được tích hợp sẵn. Đương nhiên với tính mở của Android, bạn hoàn toàn có thể cài đặt thêm bất cứ ứng dụng nào mà mình muốn.Với bộ xử lý ARM Cortex-A53 cùng RAM 2GB và bộ nhớ trong 32GB, Coocaa S6G Pro mang đến trải nghiệm mượt mà, mở nhanh các tác vụ. Kết nối Bluetooth, Wi-Fi băng tần kép, Chromecast tích hợp sẵn.Xem thêm thông tin S6G Pro tại website: https://rebrand.ly/3whgh9hThế mạnh của Android trên sản phẩm còn là khả năng điều khiển TV bằng giọng nói, trong đó hỗ trợ tốt cả tiếng Việt. Với nút bấm và mic trên điều khiển từ xa, người dùng có thể tìm kiếm bài hát, bộ phim, xem thông tin thời tiết… mà không phải bấm bấm từng nút trên điều khiển. Tất cả đều được nhận bằng giọng nói, kể cả với ngữ điệu của vùng miền.Model 55S6G Pro với màn hình 55 inch được niêm yết với mức giá 18,99 triệu đồng. Tuy nhiên trong chương trình sinh nhật Lazada diễn ra từ 27-3 đến 29-3, người dùng có cơ hội sở hữu mẫu TV này với mức giá giảm trên 50%. Ngoài ra, đơn hàng đầu tiên vào 00g00 ngày 27-3 còn nhận được quà tặng là máy quay DJI Mavic Air2.Sản phẩm được bảo hành chính hãng 2 năm đem lại sự yên tâm và hài lòng cho khách hàng. Tất cả các sản phẩm đều được miễn phí giao hàng trên toàn quốc. Việc của bạn chỉ là lên Lazada đặt hàng và tận hưởng những phút giây giải trí cùng gia đình.Chi tiết tham khảo tại website: http://bit.ly/Coocaa_S6G_Pro\n",
            "20\n"
          ],
          "name": "stdout"
        }
      ]
    },
    {
      "cell_type": "code",
      "metadata": {
        "id": "lh9adekZHCBc"
      },
      "source": [
        "def preprocess(document):\n",
        "    document = re.sub(r'[^\\w\\s]','',document)\n",
        "    tokens = document.lower()\n",
        "    tokens = tokens.split()\n",
        "    return tokens"
      ],
      "execution_count": null,
      "outputs": []
    },
    {
      "cell_type": "code",
      "metadata": {
        "id": "PmDt0vgbIqi7"
      },
      "source": [
        "# document = \"Trận này, Leicester áp đảo ngay sau tiếng còi khai cuộc. Đây cũng là điều dễ hiểu, bởi đối thủ của họ - Sheffield United là đội bóng đang xếp cuối bảng và gần như cầm chắc vé xuống hạng khi kém nhóm an toàn tới 14 điểm.Phút 12, cơ hội mở tỉ số đến với Leicester sau pha dàn xếp tấn công bên cánh trái. Nhưng may mắn đã không đứng về phía đội chủ nhà khi pha đánh đầu về góc xa của Ayoze Perez lại đưa bóng trúng cột dọc khung thành.  Những phút sau đó, Leicester tiếp tục tấn công và tạo ra thêm nhiều tình huống nguy hiểm nữa. Dù áp đảo hoàn toàn, nhưng phải đến cuối hiệp 1 các học trò HLV Brendan Rodgers mới đưa được bóng vào lưới khung thành thủ môn Aaron Ramsdale.  Phút 39, từ pha lên bóng bên cánh trái, Jamie Vardy bứt tốc xâm nhập vòng cấm đón đường chọc khe của đồng đội rồi thực hiện đường căng ngang vào giữa. Trong tư thế không người kèm, Kelechi Iheanacho dễ dàng ập vào đệm bóng tung lưới thủ môn Aaron Ramsdale từ cự li gần, mở tỉ số cho Leicester.  Bị thủng lưới, Sheffield United đẩy cao đội hình tấn công trong hiệp 2 và cơ hội tiếp tục đến với Leicester khi hàng phòng ngự đội khách để lộ ra nhiều khoảng trống.  Phút 64, sau vài cơ hội bị bỏ lỡ, đội chủ nhà cũng đã có bàn thắng nhân đôi cách biệt nhờ công tiền vệ Ayoze Perez với pha dứt điểm hiểm hóc ngay mép vòng cấm sau tình huống phản công bên cánh phải.  Sau bàn thua này, các cầu thủ Sheffield United càng thi đấu thiếu tập trung, đặc biệt là trong phòng ngự.  Hệ quả, chỉ trong 11 phút từ 69 đến 80, lưới của thủ môn Aaron Ramsdale đã phải rung lên thêm 3 lần nữa sau những cú dứt điểm trong tư thế vô cùng thoải mái của Kelechi Iheanacho (phút 69 và 78) và Jamie Vardy (phút 80), giúp Leicester khép lại trận đấu với chiến thắng cách biệt 5-0.  Thắng trận này, Leicester đã tạm vượt qua Manchester United (chưa đá vòng 28) để vươn lên vị trí thứ hai trên bảng xếp hạng với 56 điểm, hơn Man Utd 2 điểm và kém đội đầu bảng Man City 15 điểm. \"\n",
        "# preprocess(document)[0:5]"
      ],
      "execution_count": null,
      "outputs": []
    },
    {
      "cell_type": "code",
      "metadata": {
        "colab": {
          "base_uri": "https://localhost:8080/"
        },
        "id": "JwL91yREulT3",
        "outputId": "e148d187-bcf2-406b-a72e-4fc4df2e814d"
      },
      "source": [
        "doc_as_shingles = []\n",
        "for document in data:\n",
        "  tokens = preprocess(document['content'])\n",
        "  shingles = ngrams(tokens, 3)\n",
        "  doc_as_shingles.append(list(shingles))\n",
        "print(doc_as_shingles[0])"
      ],
      "execution_count": null,
      "outputs": [
        {
          "output_type": "stream",
          "text": [
            "[('thế', 'hệ', 'trẻ'), ('hệ', 'trẻ', 'hiện'), ('trẻ', 'hiện', 'nay'), ('hiện', 'nay', 'đặc'), ('nay', 'đặc', 'biệt'), ('đặc', 'biệt', 'là'), ('biệt', 'là', 'genz'), ('là', 'genz', 'đang'), ('genz', 'đang', 'sống'), ('đang', 'sống', 'trong'), ('sống', 'trong', 'thời'), ('trong', 'thời', 'đại'), ('thời', 'đại', 'của'), ('đại', 'của', 'các'), ('của', 'các', 'thiết'), ('các', 'thiết', 'bị'), ('thiết', 'bị', 'di'), ('bị', 'di', 'động'), ('di', 'động', 'thông'), ('động', 'thông', 'minh'), ('thông', 'minh', 'nhưng'), ('minh', 'nhưng', 'tv'), ('nhưng', 'tv', 'vẫn'), ('tv', 'vẫn', 'đóng'), ('vẫn', 'đóng', 'vai'), ('đóng', 'vai', 'trò'), ('vai', 'trò', 'quan'), ('trò', 'quan', 'trọng'), ('quan', 'trọng', 'của'), ('trọng', 'của', 'một'), ('của', 'một', 'sản'), ('một', 'sản', 'phẩm'), ('sản', 'phẩm', 'giải'), ('phẩm', 'giải', 'trí'), ('giải', 'trí', 'không'), ('trí', 'không', 'thể'), ('không', 'thể', 'thiếu'), ('thể', 'thiếu', 'tại'), ('thiếu', 'tại', 'nhà'), ('tại', 'nhà', 'thống'), ('nhà', 'thống', 'kê'), ('thống', 'kê', 'cho'), ('kê', 'cho', 'thấy'), ('cho', 'thấy', 'người'), ('thấy', 'người', 'dùng'), ('người', 'dùng', 'vẫn'), ('dùng', 'vẫn', 'dành'), ('vẫn', 'dành', 'một'), ('dành', 'một', 'khoảng'), ('một', 'khoảng', 'thời'), ('khoảng', 'thời', 'gian'), ('thời', 'gian', 'đáng'), ('gian', 'đáng', 'kể'), ('đáng', 'kể', 'để'), ('kể', 'để', 'thưởng'), ('để', 'thưởng', 'thức'), ('thưởng', 'thức', 'các'), ('thức', 'các', 'gameshow'), ('các', 'gameshow', 'phim'), ('gameshow', 'phim', 'youtube'), ('phim', 'youtube', 'trên'), ('youtube', 'trên', 'tvcoocaa'), ('trên', 'tvcoocaa', 'nổi'), ('tvcoocaa', 'nổi', 'lên'), ('nổi', 'lên', 'là'), ('lên', 'là', 'thương'), ('là', 'thương', 'hiệu'), ('thương', 'hiệu', 'tv'), ('hiệu', 'tv', 'đang'), ('tv', 'đang', 'chiếm'), ('đang', 'chiếm', 'được'), ('chiếm', 'được', 'cảm'), ('được', 'cảm', 'tình'), ('cảm', 'tình', 'của'), ('tình', 'của', 'người'), ('của', 'người', 'dùng'), ('người', 'dùng', 'đặc'), ('dùng', 'đặc', 'biệt'), ('đặc', 'biệt', 'là'), ('biệt', 'là', 'khách'), ('là', 'khách', 'hàng'), ('khách', 'hàng', 'trẻ'), ('hàng', 'trẻ', 'đây'), ('trẻ', 'đây', 'trở'), ('đây', 'trở', 'thành'), ('trở', 'thành', 'một'), ('thành', 'một', 'trong'), ('một', 'trong', 'những'), ('trong', 'những', 'dòng'), ('những', 'dòng', 'tv'), ('dòng', 'tv', 'có'), ('tv', 'có', 'doanh'), ('có', 'doanh', 'số'), ('doanh', 'số', 'đứng'), ('số', 'đứng', 'đầu'), ('đứng', 'đầu', 'sàn'), ('đầu', 'sàn', 'thương'), ('sàn', 'thương', 'mại'), ('thương', 'mại', 'điện'), ('mại', 'điện', 'tử'), ('điện', 'tử', 'lazada'), ('tử', 'lazada', 'tại'), ('lazada', 'tại', 'khu'), ('tại', 'khu', 'vực'), ('khu', 'vực', 'đông'), ('vực', 'đông', 'nam'), ('đông', 'nam', 'á'), ('nam', 'á', 'sở'), ('á', 'sở', 'dĩ'), ('sở', 'dĩ', 'khách'), ('dĩ', 'khách', 'hàng'), ('khách', 'hàng', 'yêu'), ('hàng', 'yêu', 'thích'), ('yêu', 'thích', 'sản'), ('thích', 'sản', 'phẩm'), ('sản', 'phẩm', 'bởi'), ('phẩm', 'bởi', 'chất'), ('bởi', 'chất', 'lượng'), ('chất', 'lượng', 'của'), ('lượng', 'của', 'sản'), ('của', 'sản', 'phẩm'), ('sản', 'phẩm', 'đem'), ('phẩm', 'đem', 'lại'), ('đem', 'lại', 'vượt'), ('lại', 'vượt', 'trội'), ('vượt', 'trội', 'so'), ('trội', 'so', 'với'), ('so', 'với', 'giá'), ('với', 'giá', 'thành'), ('giá', 'thành', 'tiêu'), ('thành', 'tiêu', 'biểu'), ('tiêu', 'biểu', 'có'), ('biểu', 'có', 'thể'), ('có', 'thể', 'kể'), ('thể', 'kể', 'đến'), ('kể', 'đến', 'dòng'), ('đến', 'dòng', 's6g'), ('dòng', 's6g', 'provới'), ('s6g', 'provới', 'thông'), ('provới', 'thông', 'điệp'), ('thông', 'điệp', 'coolife'), ('điệp', 'coolife', 'coocaa'), ('coolife', 'coocaa', 'muốn'), ('coocaa', 'muốn', 'mang'), ('muốn', 'mang', 'đến'), ('mang', 'đến', 'nhiều'), ('đến', 'nhiều', 'hơn'), ('nhiều', 'hơn', 'những'), ('hơn', 'những', 'giá'), ('những', 'giá', 'trị'), ('giá', 'trị', 'giải'), ('trị', 'giải', 'trí'), ('giải', 'trí', 'cho'), ('trí', 'cho', 'khách'), ('cho', 'khách', 'hàng'), ('khách', 'hàng', 'khẩu'), ('hàng', 'khẩu', 'hiệu'), ('khẩu', 'hiệu', 'này'), ('hiệu', 'này', 'là'), ('này', 'là', 'ghép'), ('là', 'ghép', 'của'), ('ghép', 'của', 'cool'), ('của', 'cool', 'và'), ('cool', 'và', 'life'), ('và', 'life', 'mở'), ('life', 'mở', 'ra'), ('mở', 'ra', 'trải'), ('ra', 'trải', 'nghiệm'), ('trải', 'nghiệm', 'mới'), ('nghiệm', 'mới', 'cho'), ('mới', 'cho', 'những'), ('cho', 'những', 'người'), ('những', 'người', 'trẻ'), ('người', 'trẻ', 'khi'), ('trẻ', 'khi', 'tv'), ('khi', 'tv', 'không'), ('tv', 'không', 'còn'), ('không', 'còn', 'bị'), ('còn', 'bị', 'giới'), ('bị', 'giới', 'hạn'), ('giới', 'hạn', 'bởi'), ('hạn', 'bởi', 'những'), ('bởi', 'những', 'chương'), ('những', 'chương', 'trình'), ('chương', 'trình', 'truyền'), ('trình', 'truyền', 'hình'), ('truyền', 'hình', 'mà'), ('hình', 'mà', 'còn'), ('mà', 'còn', 'nhiều'), ('còn', 'nhiều', 'hơn'), ('nhiều', 'hơn', 'thếngười'), ('hơn', 'thếngười', 'dùng'), ('thếngười', 'dùng', 'có'), ('dùng', 'có', 'thể'), ('có', 'thể', 'cùng'), ('thể', 'cùng', 'bạn'), ('cùng', 'bạn', 'bè'), ('bạn', 'bè', 'hát'), ('bè', 'hát', 'karaoke'), ('hát', 'karaoke', 'sau'), ('karaoke', 'sau', 'một'), ('sau', 'một', 'ngày'), ('một', 'ngày', 'làm'), ('ngày', 'làm', 'việc'), ('làm', 'việc', 'hăng'), ('việc', 'hăng', 'say'), ('hăng', 'say', 'hòa'), ('say', 'hòa', 'mình'), ('hòa', 'mình', 'vào'), ('mình', 'vào', 'các'), ('vào', 'các', 'tựa'), ('các', 'tựa', 'game'), ('tựa', 'game', 'trên'), ('game', 'trên', 'máy'), ('trên', 'máy', 'console'), ('máy', 'console', 'hay'), ('console', 'hay', 'sống'), ('hay', 'sống', 'trong'), ('sống', 'trong', 'những'), ('trong', 'những', 'giây'), ('những', 'giây', 'phút'), ('giây', 'phút', 'thể'), ('phút', 'thể', 'thao'), ('thể', 'thao', 'thông'), ('thao', 'thông', 'qua'), ('thông', 'qua', 'màn'), ('qua', 'màn', 'hình'), ('màn', 'hình', 'lớncoocaa'), ('hình', 'lớncoocaa', 's6g'), ('lớncoocaa', 's6g', 'pro'), ('s6g', 'pro', 'là'), ('pro', 'là', 'một'), ('là', 'một', 'trong'), ('một', 'trong', 'những'), ('trong', 'những', 'dòng'), ('những', 'dòng', 'tv'), ('dòng', 'tv', 'công'), ('tv', 'công', 'nghệ'), ('công', 'nghệ', 'led'), ('nghệ', 'led', 'có'), ('led', 'có', 'thiết'), ('có', 'thiết', 'kế'), ('thiết', 'kế', 'mỏng'), ('kế', 'mỏng', 'nhất'), ('mỏng', 'nhất', 'trên'), ('nhất', 'trên', 'thị'), ('trên', 'thị', 'trường'), ('thị', 'trường', 'hai'), ('trường', 'hai', 'cạnh'), ('hai', 'cạnh', 'bên'), ('cạnh', 'bên', 'và'), ('bên', 'và', 'cạnh'), ('và', 'cạnh', 'trên'), ('cạnh', 'trên', 'với'), ('trên', 'với', 'thiết'), ('với', 'thiết', 'kế'), ('thiết', 'kế', 'màu'), ('kế', 'màu', 'đen'), ('màu', 'đen', 'mang'), ('đen', 'mang', 'đến'), ('mang', 'đến', 'cảm'), ('đến', 'cảm', 'giác'), ('cảm', 'giác', 'hình'), ('giác', 'hình', 'ảnh'), ('hình', 'ảnh', 'tràn'), ('ảnh', 'tràn', 'viền'), ('tràn', 'viền', 'trong'), ('viền', 'trong', 'khi'), ('trong', 'khi', 'đó'), ('khi', 'đó', 'cạnh'), ('đó', 'cạnh', 'dưới'), ('cạnh', 'dưới', 'và'), ('dưới', 'và', 'chân'), ('và', 'chân', 'đế'), ('chân', 'đế', 'màu'), ('đế', 'màu', 'bạc'), ('màu', 'bạc', 'tạo'), ('bạc', 'tạo', 'điểm'), ('tạo', 'điểm', 'hiện'), ('điểm', 'hiện', 'đại'), ('hiện', 'đại', 'biến'), ('đại', 'biến', 'chiếc'), ('biến', 'chiếc', 'tv'), ('chiếc', 'tv', 'trở'), ('tv', 'trở', 'thành'), ('trở', 'thành', 'điểm'), ('thành', 'điểm', 'nhấn'), ('điểm', 'nhấn', 'trong'), ('nhấn', 'trong', 'nội'), ('trong', 'nội', 'thất'), ('nội', 'thất', 'của'), ('thất', 'của', 'căn'), ('của', 'căn', 'phòngxem'), ('căn', 'phòngxem', 'thêm'), ('phòngxem', 'thêm', 'thông'), ('thêm', 'thông', 'tin'), ('thông', 'tin', 's6g'), ('tin', 's6g', 'pro'), ('s6g', 'pro', 'tại'), ('pro', 'tại', 'website'), ('tại', 'website', 'httpsrebrandly3whgh9hkhông'), ('website', 'httpsrebrandly3whgh9hkhông', 'chỉ'), ('httpsrebrandly3whgh9hkhông', 'chỉ', 'nổi'), ('chỉ', 'nổi', 'bật'), ('nổi', 'bật', 'trong'), ('bật', 'trong', 'thiết'), ('trong', 'thiết', 'kế'), ('thiết', 'kế', 'sản'), ('kế', 'sản', 'phẩm'), ('sản', 'phẩm', 'còn'), ('phẩm', 'còn', 'ấn'), ('còn', 'ấn', 'tượng'), ('ấn', 'tượng', 'bởi'), ('tượng', 'bởi', 'khả'), ('bởi', 'khả', 'năng'), ('khả', 'năng', 'hiển'), ('năng', 'hiển', 'thị'), ('hiển', 'thị', 'vô'), ('thị', 'vô', 'hạn'), ('vô', 'hạn', 'hình'), ('hạn', 'hình', 'ảnh'), ('hình', 'ảnh', 'như'), ('ảnh', 'như', 'lơ'), ('như', 'lơ', 'lửng'), ('lơ', 'lửng', 'trên'), ('lửng', 'trên', 'chân'), ('trên', 'chân', 'đế'), ('chân', 'đế', 'nhờ'), ('đế', 'nhờ', 'viền'), ('nhờ', 'viền', 'màn'), ('viền', 'màn', 'hình'), ('màn', 'hình', 'siêu'), ('hình', 'siêu', 'mỏng'), ('siêu', 'mỏng', 'trong'), ('mỏng', 'trong', 'khi'), ('trong', 'khi', 'đó'), ('khi', 'đó', 'công'), ('đó', 'công', 'nghệ'), ('công', 'nghệ', 'chameleon'), ('nghệ', 'chameleon', 'extreme'), ('chameleon', 'extreme', '20'), ('extreme', '20', 'và'), ('20', 'và', '4k'), ('và', '4k', 'hdr10'), ('4k', 'hdr10', 'giúp'), ('hdr10', 'giúp', 'màu'), ('giúp', 'màu', 'sắc'), ('màu', 'sắc', 'trở'), ('sắc', 'trở', 'nên'), ('trở', 'nên', 'sống'), ('nên', 'sống', 'động'), ('sống', 'động', 'tái'), ('động', 'tái', 'tạo'), ('tái', 'tạo', 'chân'), ('tạo', 'chân', 'thực'), ('chân', 'thực', 'khung'), ('thực', 'khung', 'cảnhvới'), ('khung', 'cảnhvới', 'hai'), ('cảnhvới', 'hai', 'cổng'), ('hai', 'cổng', 'usb'), ('cổng', 'usb', 'và'), ('usb', 'và', '3'), ('và', '3', 'cổng'), ('3', 'cổng', 'hdmi'), ('cổng', 'hdmi', 'các'), ('hdmi', 'các', 'kết'), ('các', 'kết', 'nối'), ('kết', 'nối', 'đủ'), ('nối', 'đủ', 'cho'), ('đủ', 'cho', 'hầu'), ('cho', 'hầu', 'hết'), ('hầu', 'hết', 'các'), ('hết', 'các', 'nhu'), ('các', 'nhu', 'cầu'), ('nhu', 'cầu', 'sử'), ('cầu', 'sử', 'dụng'), ('sử', 'dụng', 'người'), ('dụng', 'người', 'dùng'), ('người', 'dùng', 'có'), ('dùng', 'có', 'thể'), ('có', 'thể', 'xuất'), ('thể', 'xuất', 'tín'), ('xuất', 'tín', 'hiệu'), ('tín', 'hiệu', 'từ'), ('hiệu', 'từ', 'đầu'), ('từ', 'đầu', 'thu'), ('đầu', 'thu', 'settop'), ('thu', 'settop', 'box'), ('settop', 'box', 'máy'), ('box', 'máy', 'chơi'), ('máy', 'chơi', 'game'), ('chơi', 'game', 'hay'), ('game', 'hay', 'cả'), ('hay', 'cả', 'pc'), ('cả', 'pc', 'xem'), ('pc', 'xem', 'ảnh'), ('xem', 'ảnh', 'video'), ('ảnh', 'video', 'với'), ('video', 'với', 'hdd'), ('với', 'hdd', 'cắm'), ('hdd', 'cắm', 'ngoàimẫu'), ('cắm', 'ngoàimẫu', 'tv'), ('ngoàimẫu', 'tv', 'của'), ('tv', 'của', 'coocaa'), ('của', 'coocaa', 'có'), ('coocaa', 'có', 'hai'), ('có', 'hai', 'loa'), ('hai', 'loa', '20w'), ('loa', '20w', 'hỗ'), ('20w', 'hỗ', 'trợ'), ('hỗ', 'trợ', 'giải'), ('trợ', 'giải', 'mã'), ('giải', 'mã', 'av1'), ('mã', 'av1', 'mới'), ('av1', 'mới', 'nhất'), ('mới', 'nhất', 'cùng'), ('nhất', 'cùng', 'công'), ('cùng', 'công', 'nghệ'), ('công', 'nghệ', 'dolby'), ('nghệ', 'dolby', 'audio'), ('dolby', 'audio', 'dts'), ('audio', 'dts', 'hiệu'), ('dts', 'hiệu', 'ứng'), ('hiệu', 'ứng', 'âm'), ('ứng', 'âm', 'thanh'), ('âm', 'thanh', 'vòm'), ('thanh', 'vòm', 'cho'), ('vòm', 'cho', 'người'), ('cho', 'người', 'xem'), ('người', 'xem', 'trải'), ('xem', 'trải', 'nghiệm'), ('trải', 'nghiệm', 'như'), ('nghiệm', 'như', 'mang'), ('như', 'mang', 'rạp'), ('mang', 'rạp', 'phim'), ('rạp', 'phim', 'về'), ('phim', 'về', 'nhàhướng'), ('về', 'nhàhướng', 'đến'), ('nhàhướng', 'đến', 'khách'), ('đến', 'khách', 'hàng'), ('khách', 'hàng', 'trẻ'), ('hàng', 'trẻ', 'sản'), ('trẻ', 'sản', 'phẩm'), ('sản', 'phẩm', 'được'), ('phẩm', 'được', 'trang'), ('được', 'trang', 'bị'), ('trang', 'bị', 'hệ'), ('bị', 'hệ', 'điều'), ('hệ', 'điều', 'hành'), ('điều', 'hành', 'android'), ('hành', 'android', '10'), ('android', '10', 'với'), ('10', 'với', 'các'), ('với', 'các', 'tính'), ('các', 'tính', 'năng'), ('tính', 'năng', 'được'), ('năng', 'được', 'tối'), ('được', 'tối', 'ưu'), ('tối', 'ưu', 'cho'), ('ưu', 'cho', 'smart'), ('cho', 'smart', 'tv'), ('smart', 'tv', 'các'), ('tv', 'các', 'ứng'), ('các', 'ứng', 'dụng'), ('ứng', 'dụng', 'ott'), ('dụng', 'ott', 'như'), ('ott', 'như', 'netflix'), ('như', 'netflix', 'amazon'), ('netflix', 'amazon', 'prime'), ('amazon', 'prime', 'và'), ('prime', 'và', 'nhiều'), ('và', 'nhiều', 'nền'), ('nhiều', 'nền', 'tảng'), ('nền', 'tảng', 'khác'), ('tảng', 'khác', 'được'), ('khác', 'được', 'tích'), ('được', 'tích', 'hợp'), ('tích', 'hợp', 'sẵn'), ('hợp', 'sẵn', 'đương'), ('sẵn', 'đương', 'nhiên'), ('đương', 'nhiên', 'với'), ('nhiên', 'với', 'tính'), ('với', 'tính', 'mở'), ('tính', 'mở', 'của'), ('mở', 'của', 'android'), ('của', 'android', 'bạn'), ('android', 'bạn', 'hoàn'), ('bạn', 'hoàn', 'toàn'), ('hoàn', 'toàn', 'có'), ('toàn', 'có', 'thể'), ('có', 'thể', 'cài'), ('thể', 'cài', 'đặt'), ('cài', 'đặt', 'thêm'), ('đặt', 'thêm', 'bất'), ('thêm', 'bất', 'cứ'), ('bất', 'cứ', 'ứng'), ('cứ', 'ứng', 'dụng'), ('ứng', 'dụng', 'nào'), ('dụng', 'nào', 'mà'), ('nào', 'mà', 'mình'), ('mà', 'mình', 'muốnvới'), ('mình', 'muốnvới', 'bộ'), ('muốnvới', 'bộ', 'xử'), ('bộ', 'xử', 'lý'), ('xử', 'lý', 'arm'), ('lý', 'arm', 'cortexa53'), ('arm', 'cortexa53', 'cùng'), ('cortexa53', 'cùng', 'ram'), ('cùng', 'ram', '2gb'), ('ram', '2gb', 'và'), ('2gb', 'và', 'bộ'), ('và', 'bộ', 'nhớ'), ('bộ', 'nhớ', 'trong'), ('nhớ', 'trong', '32gb'), ('trong', '32gb', 'coocaa'), ('32gb', 'coocaa', 's6g'), ('coocaa', 's6g', 'pro'), ('s6g', 'pro', 'mang'), ('pro', 'mang', 'đến'), ('mang', 'đến', 'trải'), ('đến', 'trải', 'nghiệm'), ('trải', 'nghiệm', 'mượt'), ('nghiệm', 'mượt', 'mà'), ('mượt', 'mà', 'mở'), ('mà', 'mở', 'nhanh'), ('mở', 'nhanh', 'các'), ('nhanh', 'các', 'tác'), ('các', 'tác', 'vụ'), ('tác', 'vụ', 'kết'), ('vụ', 'kết', 'nối'), ('kết', 'nối', 'bluetooth'), ('nối', 'bluetooth', 'wifi'), ('bluetooth', 'wifi', 'băng'), ('wifi', 'băng', 'tần'), ('băng', 'tần', 'kép'), ('tần', 'kép', 'chromecast'), ('kép', 'chromecast', 'tích'), ('chromecast', 'tích', 'hợp'), ('tích', 'hợp', 'sẵnxem'), ('hợp', 'sẵnxem', 'thêm'), ('sẵnxem', 'thêm', 'thông'), ('thêm', 'thông', 'tin'), ('thông', 'tin', 's6g'), ('tin', 's6g', 'pro'), ('s6g', 'pro', 'tại'), ('pro', 'tại', 'website'), ('tại', 'website', 'httpsrebrandly3whgh9hthế'), ('website', 'httpsrebrandly3whgh9hthế', 'mạnh'), ('httpsrebrandly3whgh9hthế', 'mạnh', 'của'), ('mạnh', 'của', 'android'), ('của', 'android', 'trên'), ('android', 'trên', 'sản'), ('trên', 'sản', 'phẩm'), ('sản', 'phẩm', 'còn'), ('phẩm', 'còn', 'là'), ('còn', 'là', 'khả'), ('là', 'khả', 'năng'), ('khả', 'năng', 'điều'), ('năng', 'điều', 'khiển'), ('điều', 'khiển', 'tv'), ('khiển', 'tv', 'bằng'), ('tv', 'bằng', 'giọng'), ('bằng', 'giọng', 'nói'), ('giọng', 'nói', 'trong'), ('nói', 'trong', 'đó'), ('trong', 'đó', 'hỗ'), ('đó', 'hỗ', 'trợ'), ('hỗ', 'trợ', 'tốt'), ('trợ', 'tốt', 'cả'), ('tốt', 'cả', 'tiếng'), ('cả', 'tiếng', 'việt'), ('tiếng', 'việt', 'với'), ('việt', 'với', 'nút'), ('với', 'nút', 'bấm'), ('nút', 'bấm', 'và'), ('bấm', 'và', 'mic'), ('và', 'mic', 'trên'), ('mic', 'trên', 'điều'), ('trên', 'điều', 'khiển'), ('điều', 'khiển', 'từ'), ('khiển', 'từ', 'xa'), ('từ', 'xa', 'người'), ('xa', 'người', 'dùng'), ('người', 'dùng', 'có'), ('dùng', 'có', 'thể'), ('có', 'thể', 'tìm'), ('thể', 'tìm', 'kiếm'), ('tìm', 'kiếm', 'bài'), ('kiếm', 'bài', 'hát'), ('bài', 'hát', 'bộ'), ('hát', 'bộ', 'phim'), ('bộ', 'phim', 'xem'), ('phim', 'xem', 'thông'), ('xem', 'thông', 'tin'), ('thông', 'tin', 'thời'), ('tin', 'thời', 'tiết'), ('thời', 'tiết', 'mà'), ('tiết', 'mà', 'không'), ('mà', 'không', 'phải'), ('không', 'phải', 'bấm'), ('phải', 'bấm', 'bấm'), ('bấm', 'bấm', 'từng'), ('bấm', 'từng', 'nút'), ('từng', 'nút', 'trên'), ('nút', 'trên', 'điều'), ('trên', 'điều', 'khiển'), ('điều', 'khiển', 'tất'), ('khiển', 'tất', 'cả'), ('tất', 'cả', 'đều'), ('cả', 'đều', 'được'), ('đều', 'được', 'nhận'), ('được', 'nhận', 'bằng'), ('nhận', 'bằng', 'giọng'), ('bằng', 'giọng', 'nói'), ('giọng', 'nói', 'kể'), ('nói', 'kể', 'cả'), ('kể', 'cả', 'với'), ('cả', 'với', 'ngữ'), ('với', 'ngữ', 'điệu'), ('ngữ', 'điệu', 'của'), ('điệu', 'của', 'vùng'), ('của', 'vùng', 'miềnmodel'), ('vùng', 'miềnmodel', '55s6g'), ('miềnmodel', '55s6g', 'pro'), ('55s6g', 'pro', 'với'), ('pro', 'với', 'màn'), ('với', 'màn', 'hình'), ('màn', 'hình', '55'), ('hình', '55', 'inch'), ('55', 'inch', 'được'), ('inch', 'được', 'niêm'), ('được', 'niêm', 'yết'), ('niêm', 'yết', 'với'), ('yết', 'với', 'mức'), ('với', 'mức', 'giá'), ('mức', 'giá', '1899'), ('giá', '1899', 'triệu'), ('1899', 'triệu', 'đồng'), ('triệu', 'đồng', 'tuy'), ('đồng', 'tuy', 'nhiên'), ('tuy', 'nhiên', 'trong'), ('nhiên', 'trong', 'chương'), ('trong', 'chương', 'trình'), ('chương', 'trình', 'sinh'), ('trình', 'sinh', 'nhật'), ('sinh', 'nhật', 'lazada'), ('nhật', 'lazada', 'diễn'), ('lazada', 'diễn', 'ra'), ('diễn', 'ra', 'từ'), ('ra', 'từ', '273'), ('từ', '273', 'đến'), ('273', 'đến', '293'), ('đến', '293', 'người'), ('293', 'người', 'dùng'), ('người', 'dùng', 'có'), ('dùng', 'có', 'cơ'), ('có', 'cơ', 'hội'), ('cơ', 'hội', 'sở'), ('hội', 'sở', 'hữu'), ('sở', 'hữu', 'mẫu'), ('hữu', 'mẫu', 'tv'), ('mẫu', 'tv', 'này'), ('tv', 'này', 'với'), ('này', 'với', 'mức'), ('với', 'mức', 'giá'), ('mức', 'giá', 'giảm'), ('giá', 'giảm', 'trên'), ('giảm', 'trên', '50'), ('trên', '50', 'ngoài'), ('50', 'ngoài', 'ra'), ('ngoài', 'ra', 'đơn'), ('ra', 'đơn', 'hàng'), ('đơn', 'hàng', 'đầu'), ('hàng', 'đầu', 'tiên'), ('đầu', 'tiên', 'vào'), ('tiên', 'vào', '00g00'), ('vào', '00g00', 'ngày'), ('00g00', 'ngày', '273'), ('ngày', '273', 'còn'), ('273', 'còn', 'nhận'), ('còn', 'nhận', 'được'), ('nhận', 'được', 'quà'), ('được', 'quà', 'tặng'), ('quà', 'tặng', 'là'), ('tặng', 'là', 'máy'), ('là', 'máy', 'quay'), ('máy', 'quay', 'dji'), ('quay', 'dji', 'mavic'), ('dji', 'mavic', 'air2sản'), ('mavic', 'air2sản', 'phẩm'), ('air2sản', 'phẩm', 'được'), ('phẩm', 'được', 'bảo'), ('được', 'bảo', 'hành'), ('bảo', 'hành', 'chính'), ('hành', 'chính', 'hãng'), ('chính', 'hãng', '2'), ('hãng', '2', 'năm'), ('2', 'năm', 'đem'), ('năm', 'đem', 'lại'), ('đem', 'lại', 'sự'), ('lại', 'sự', 'yên'), ('sự', 'yên', 'tâm'), ('yên', 'tâm', 'và'), ('tâm', 'và', 'hài'), ('và', 'hài', 'lòng'), ('hài', 'lòng', 'cho'), ('lòng', 'cho', 'khách'), ('cho', 'khách', 'hàng'), ('khách', 'hàng', 'tất'), ('hàng', 'tất', 'cả'), ('tất', 'cả', 'các'), ('cả', 'các', 'sản'), ('các', 'sản', 'phẩm'), ('sản', 'phẩm', 'đều'), ('phẩm', 'đều', 'được'), ('đều', 'được', 'miễn'), ('được', 'miễn', 'phí'), ('miễn', 'phí', 'giao'), ('phí', 'giao', 'hàng'), ('giao', 'hàng', 'trên'), ('hàng', 'trên', 'toàn'), ('trên', 'toàn', 'quốc'), ('toàn', 'quốc', 'việc'), ('quốc', 'việc', 'của'), ('việc', 'của', 'bạn'), ('của', 'bạn', 'chỉ'), ('bạn', 'chỉ', 'là'), ('chỉ', 'là', 'lên'), ('là', 'lên', 'lazada'), ('lên', 'lazada', 'đặt'), ('lazada', 'đặt', 'hàng'), ('đặt', 'hàng', 'và'), ('hàng', 'và', 'tận'), ('và', 'tận', 'hưởng'), ('tận', 'hưởng', 'những'), ('hưởng', 'những', 'phút'), ('những', 'phút', 'giây'), ('phút', 'giây', 'giải'), ('giây', 'giải', 'trí'), ('giải', 'trí', 'cùng'), ('trí', 'cùng', 'gia'), ('cùng', 'gia', 'đìnhchi'), ('gia', 'đìnhchi', 'tiết'), ('đìnhchi', 'tiết', 'tham'), ('tiết', 'tham', 'khảo'), ('tham', 'khảo', 'tại'), ('khảo', 'tại', 'website'), ('tại', 'website', 'httpbitlycoocaa_s6g_pro')]\n"
          ],
          "name": "stdout"
        }
      ]
    },
    {
      "cell_type": "code",
      "metadata": {
        "colab": {
          "base_uri": "https://localhost:8080/"
        },
        "id": "KvnGY_fw-Y_6",
        "outputId": "0b949cbb-b8bb-44c1-d2b9-6ecd42002a60"
      },
      "source": [
        "doc_hashed = []\n",
        "\n",
        "def hash_doc(shingles):\n",
        "  shingles_hashed = []\n",
        "  for shingle in shingles:\n",
        "    hash = mmh3.hash(' '.join(shingle))\n",
        "    shingles_hashed.append(hash)\n",
        "  return shingles_hashed  \n",
        "\n",
        "for document in doc_as_shingles:\n",
        "  doc_hashed.append(list(hash_doc(document)));\n",
        "print(doc_hashed[0])"
      ],
      "execution_count": null,
      "outputs": [
        {
          "output_type": "stream",
          "text": [
            "[-722364660, -1343950092, 471844217, 1801623279, 1482432412, -362830372, 1596274497, 1511091060, 1965756164, 1698391027, -1061828549, -2040762716, 989097069, -1357895415, 2023521466, -519954334, 1528694819, 1940699007, -828293076, -2116853031, 1601166066, 684307324, 63188002, 1162830436, -1027326415, -1300567827, -67381483, 1511136605, 1800761602, -185403472, 145247975, -995500379, -64199284, -1818579863, -1255928249, 1218240626, -1044735248, 464577980, 1394130347, 1955738588, -1600619982, -921939991, 2117784948, -1837716976, -28807018, -26876701, 1900278102, -1357008956, 824972299, -1575463586, -672447666, -1549496927, 2078392565, 1676353503, 468584616, -441375209, -397874287, 171482329, -105522771, 1246533378, 680572478, -1099135022, 1095685026, 474709262, 53970356, -1747224955, 1306947234, -317833863, 984816755, -1620819708, -1476003526, 1160757882, -295347504, -1723831185, 1289661019, 1034848267, -993065325, -959384532, -362830372, 1097872074, -91893570, 193594294, -1744600909, -1915164941, -1980048581, 1338750039, 1681420734, -1172976599, -2066804141, 726382621, -379712498, 779262040, -1658951259, -44087745, 1205062638, -875206170, -311119283, 173780704, 1126565390, -1401177595, 975825556, 812267903, -223027885, 4664708, 868133415, 1032326311, -1619286841, 1332810178, 1147005975, 936743692, 1640689545, -734667912, 1325125597, 146897026, 260730910, -823711591, 44037809, 1361020173, -542915779, 1355156119, -1478064759, -721991394, -144198984, -1822941373, 1527374405, 422719559, 1809261914, -1863700676, -906755734, -791680627, -207797880, 1800295484, -2092872922, -41836187, -510671642, -731821359, 975188243, 2076727040, 1339401295, -1642479402, -1823057732, -344718032, 1521482982, 1486608870, -265631533, 707161634, -1470646612, 1354873989, 1441933312, -1704511279, -573312033, -232844963, 383803556, -1741887781, -1304878540, 1208274532, -1322970435, 1884725614, 899581713, 912418179, -1337766080, -2105550346, -617425640, 1357357039, -1569076810, 44298675, 1981130832, -574317123, -390256862, 2129771407, 191282625, -1066897770, -1743691810, -426613346, 1803448749, -1933370290, 1277525375, -158214429, -1020277629, -1015737402, -892819816, 1762136027, -2001290431, 1305281682, 45606332, -1475863904, 1631236837, 110141849, -154992030, -1015956150, -1770961823, -552076836, -1465270659, 772088843, 1444743373, -454565349, -1784820193, -535606383, 1868014594, 690354148, -1278145760, -1332226201, 932205656, -404429340, 1258119596, 1370097742, -1159129012, 1071236670, -910519919, 756480168, -162424466, -390022747, -874021951, 1768473306, 1013922891, -114442402, 1881264574, -307534936, 2001282767, -880340395, 1650746973, 1545556572, -1043214610, -377083977, -1084101450, 2086549170, -173000906, -1694303535, -1132769018, 683770277, 1223735093, -737992783, -1883483689, -1172976599, -2066804141, 726382621, -1079442362, 621093280, 302331802, -885067201, -2032983397, -133017210, -1842613164, -811468384, -1864561063, -973599183, 1812787929, 424780009, -2131234872, 160068604, -2094046280, 1138440362, 173504290, -818538991, 326357940, 1322841250, -1403107237, 646205255, -1699732, 1839298142, 2056427952, -1462626915, 717581226, 1489847424, 1987833993, 1815716633, 1943921284, 1060185295, 1838246043, 1598525302, -121921341, 793631745, -821200669, -2029673360, 1191593912, -912408922, -897444267, 1199500956, -427174040, -1190996319, 960632875, 1348722692, 1307956418, -27246580, 1448062011, 1299951653, -1943081847, 1389963814, 24771405, 116751465, -2003665839, 452301011, 20359025, -454230962, 1045972559, -1949030608, 1031562382, -29868448, -472376435, -454520167, 1012946017, -1277657645, 1224518295, 1956226171, 1925230879, -1004976413, -914200147, 1516068130, 840011211, 1644213698, 288895076, 2020081981, 531047231, 850654503, -214286036, -2020536777, 1177343199, -20241888, 630471777, 1768457153, 1853424974, -1639279339, -913915110, -1285483102, -1521564868, -2049683859, -691093291, -993700440, 1551590598, 1584444060, 226020821, 1652428816, -933135009, 2039708447, -795115208, 1838246043, 978182160, -1378377786, 871999122, -1861174086, -704480523, -1108498771, 206966203, 1667918621, 365244297, 1001353679, 1563787262, -1994367063, 522710620, 1150614193, 291073782, 1467420593, -61015726, -1242618405, 190258719, -2024795843, 913904269, -1040168784, 422385048, -717188129, 857526791, 1940245361, 678250604, -772848043, 1070858373, -309482326, 1660341397, -1493626512, -1484473825, 147203066, 1438400968, 1824838613, 2108487227, 289317755, -1084146572, -403508199, 1445073207, 1426638732, -1661765233, 772088843, 2086163797, 963525015, -742170588, -1648101050, -738602593, -1024302514, 509727527, -1104735464, -507663980, -557471560, -518926687, 1981098062, -1979610217, -827938304, 1794086290, -515007564, -504433258, 617785221, 327183739, 1017655452, 481304339, 1154160682, 372564769, -1274465889, -1059486925, -864677465, 638909274, -1049546564, -154289084, -1946596452, -1174626096, 463541005, -1760766151, 510833001, -186597750, 705620753, 146329248, 1670264835, 1385800527, -1995771670, -1589660516, 2057182103, -218060565, 551975884, 239206226, 1230108486, -1423581179, 215625900, 269896744, 472653859, -34153596, 2034804514, 1985023795, -1307432118, 511129395, 2098391737, 618981710, -1042050792, -1290043511, 2094539401, 193594294, -1968580618, 25533649, 970909929, 560339796, -1144529239, -1699269118, -488070517, -282698289, -2062384459, -1398699118, -836133262, 1539389223, -684444473, 1767382022, -1331168271, -1760654668, 843365097, 1175580471, -399292072, -859384134, -489513375, 1289368177, -1286483863, -145072544, -194825182, 1363331991, -1758245132, 444378379, -1176879505, -2106591064, 875180086, -1411467010, 1555456398, 1127242040, -526774536, 322907399, -871364700, -1753839217, -523298806, -2051863641, -1859300357, -90536960, 1484408524, 84585088, -1977282778, 25466884, -836953390, -397251033, -1406861349, -2112717179, 272148466, -788233747, -292633559, 742324296, -977772027, 805296, -1110923470, 306453479, 1688708287, -510491624, -495007342, -685108081, 786912667, 1023011331, 207209789, -1104169276, -1647144628, -1835020357, 1975749329, -1061889617, 326029745, 1030836572, -1012479899, -1533920434, 1215900161, 91432847, -504051228, -1627702945, 101847160, -1148987939, 782583556, -388925700, 106098707, 1032573503, 656990738, 63662232, 1331749748, 1359620275, -1294554886, -2022947353, 117914302, 968616319, 1967531017, -1326882591, -924046658, 1463257182, 590273035, 491834479, 1042232120, 1330167105, -1949030608, 1031562382, -29868448, -472376435, -454520167, -501437569, -385813181, -1071398525, -1390229500, -1568228228, -1389778451, 979012657, 1644213698, -250552108, 315382554, -875133406, -946232642, -934492419, -1930025397, -577526125, -1043446441, 745461216, 1537543427, -599070477, 1307578993, -1277101628, -1769708327, -511426856, -1674053946, -1075488355, 941882053, -367061879, 811255361, -249154965, -94960863, -1541070788, 61194347, 1501671035, 153366436, 436776392, 1651315318, 1177295656, -1661765233, 772088843, -1543262699, 1588941586, 1732751103, -1371995564, 153252754, 1866604345, 433453408, -880688322, -1851462482, 463364083, -1841930852, 1543241945, -1319516607, 281785871, 127257949, 954858125, -1231783317, -1926227466, -16498081, -1641838589, 1501671035, -32404830, -1170606349, -630108885, -443015024, 996311416, 1061737447, -1265173933, 745461216, 1972251251, 1137706461, 1524046251, -1652761554, -2107738934, -2037713577, -1723311247, -1391243429, 662402488, 1024040516, -387887069, -2077216983, 1106487891, 1330005343, -464989098, -592005809, -451038419, 1154363213, 2030011467, -1058714007, -262565859, 1151136155, -1718493201, -307673085, 849793692, -2043821367, -1702330866, 2142405715, 2138518155, 302009768, 1810793539, 226314396, -1112859230, -1917244469, -1651416402, -1057418234, -1507316496, -965259404, 852582165, -1776959272, -1661765233, 421759253, -2131529789, 1316745250, -1661356771, 967362970, 967815933, -362314297, 1259681945, -1332969243, -262565859, -1432030537, 618943366, -1781553976, -588656143, 342916039, 1866323314, 1464263621, 2064637228, 386269025, 1753510494, 1174733759, 1440320346, 1958264001, 85271503, 845614284, 1072111201, -848071676, -932804175, -1301251735, -2009231840, -1902871551, -472663575, -162171226, -1892532533, -1673563706, -1449963160, 2009408688, -163623056, -143263908, 1566078654, -914300180, -710137764, -343352480, 2038260494, 463478242, 359857818, 1357549435, 553504213, -1914611693, 861115967, -1871498242, 489390384, -1304878540, -1047392358, 1872672645, 1080598092, -1919596549, 585541871, 1736148931, -2046254400, 1065738873, -215649635, 1295716911, 1092220212, 393941909, -1039994634, -282986766, -1993860385, 1053969881, -1594430810, 909395341, -63015846, -1024216236, 943028402, -950253699, 1663816729, -1796273583, 697708544, 916678793, 813263045, -562042666, 131387007, 2035251852, 2100183724, -113038744, -1623344697, -605884247, 721017939, -1849200150, 647866522, 543640805, -2064838862, -1629831904]\n"
          ],
          "name": "stdout"
        }
      ]
    },
    {
      "cell_type": "code",
      "metadata": {
        "colab": {
          "base_uri": "https://localhost:8080/"
        },
        "id": "z8ptS6j6Sl01",
        "outputId": "e95f7364-f033-41b0-d86f-a48845a4cae7"
      },
      "source": [
        "start = time.time()\n",
        "signatures = []\n",
        "max_shingle_id = 2 ** 32 - 1\n",
        "\n",
        "next_prime = 4294967311\n",
        "\n",
        "def pick_random_coeffs(k):\n",
        "    rand_list = []\n",
        "\n",
        "    while k > 0:\n",
        "        rand_index = random.randint(0, max_shingle_id)\n",
        "\n",
        "        while rand_index in rand_list:\n",
        "            rand_index = random.randint(0, max_shingle_id)\n",
        "\n",
        "        rand_list.append(rand_index)\n",
        "        k = k - 1\n",
        "    return rand_list\n",
        "\n",
        "coeff_a = pick_random_coeffs(10)\n",
        "coeff_b = pick_random_coeffs(10)\n",
        "\n",
        "for document in doc_hashed:\n",
        "  signature =[]\n",
        "  for i in range(0, 10):\n",
        "    min_hash_code = next_prime + 1\n",
        "    for shingle in document: \n",
        "      hash_code = (coeff_a[i] * shingle + coeff_b[i]) % next_prime\n",
        "      if hash_code < min_hash_code:\n",
        "        min_hash_code = hash_code\n",
        "    signature.append(min_hash_code)\n",
        "  signatures.append(signature)\n",
        "end = time.time()\n",
        "print(signatures[0])\n",
        "print(len(signatures),len(signatures[0]))\n",
        "print(\"Minhash completed in : {:.4f} sec\".format(end - start))"
      ],
      "execution_count": null,
      "outputs": [
        {
          "output_type": "stream",
          "text": [
            "[8978542, 9347148, 5412068, 2475911, 2875374, 2551886, 5619128, 2539775, 18144280, 3775386]\n",
            "20 10\n",
            "Minhash completed in : 0.0561 sec\n"
          ],
          "name": "stdout"
        }
      ]
    },
    {
      "cell_type": "code",
      "metadata": {
        "id": "neZ-CUwnO5Fp"
      },
      "source": [
        "def jaccardSim(d1,d2):\n",
        "    return len(d1.intersection(d2))/len(d1.union(d2))   "
      ],
      "execution_count": null,
      "outputs": []
    },
    {
      "cell_type": "code",
      "metadata": {
        "id": "pBF7eoo8QH94"
      },
      "source": [
        "# sims = jaccardSim(set(signatures[0]), set(signatures[1])) \n",
        "# sims"
      ],
      "execution_count": null,
      "outputs": []
    },
    {
      "cell_type": "code",
      "metadata": {
        "id": "p1FFcp27fd7y"
      },
      "source": [
        "def initialize_array_bucket(bands):\n",
        "    len_buckets = 101\n",
        "    array_buckets = []\n",
        "    for band in range(bands):\n",
        "        array_buckets.append([[] for i in range(len_buckets)])\n",
        "    return array_buckets"
      ],
      "execution_count": null,
      "outputs": []
    },
    {
      "cell_type": "code",
      "metadata": {
        "colab": {
          "base_uri": "https://localhost:8080/"
        },
        "id": "MJgiuk7xcFef",
        "outputId": "debeddfd-d9bc-4504-abbc-c63c7dca8875"
      },
      "source": [
        "def apply_LSH_technique(signatures,t,bands,rows):\n",
        "    if bands * rows != len(signatures):\n",
        "        print('split to bands error.')\n",
        "\n",
        "    array_buckets = initialize_array_bucket(bands)\n",
        "\n",
        "    # hash_funcs = pick_random_coeffs(10);\n",
        "\n",
        "\n",
        "    candidates = {}\n",
        "    \n",
        "    i = 0\n",
        "    for b in range(bands):\n",
        "        buckets = array_buckets[b]        \n",
        "        band = np.array(signatures)[i:i+rows,:]\n",
        "        for col in range(band.shape[1]):    \n",
        "            \n",
        "            key = int(sum(band[:,col]) % len(buckets))\n",
        "            \n",
        "            buckets[key].append(col)\n",
        "        i = i+rows\n",
        "\n",
        "        for item in buckets:\n",
        "            if len(item) > 1:\n",
        "                pair = (item[0], item[1])\n",
        "                if pair not in candidates:\n",
        "                    A = np.array(signatures)[:,item[0]]\n",
        "                    B = np.array(signatures)[:,item[1]]\n",
        "                    similarity = cosine_distance(A,B)\n",
        "                    if similarity >= t:\n",
        "                        candidates[pair] = similarity\n",
        "\n",
        "\n",
        "    sort = sorted(candidates.items(),key=itemgetter(1), reverse=True)\n",
        "\n",
        "    return candidates,sort\n",
        "\n",
        "def euclidean_distance(x,y,r=2.0):\n",
        "    try:\n",
        "        \n",
        "        return sum(((x[i] - y[i]) ** r) for i in range(len(x))) ** (1.0/r)\n",
        "    \n",
        "    except (ValueError,ZeroDivisionError):\n",
        "        print ('Please, enter only even values for \"r > 0\".')\n",
        "    except IndexError:\n",
        "        print ('Please, the sets must have the same size.')\n",
        "\n",
        "def cosine_distance(x,y):\n",
        "    prodAB = sum([x[i]*y[i] for i in range(len(x))])\n",
        "    zeros = [0 for i in range(len(x))]\n",
        "    A = euclidean_distance(x,zeros)\n",
        "    B = euclidean_distance(y,zeros)\n",
        "    return prodAB / (A*B)\n",
        "\n",
        "start = time.time()\n",
        "candidates, sort = apply_LSH_technique(signatures, 0.5, 4, 5)\n",
        "end = time.time()\n",
        "print(candidates)\n",
        "print(\"LSH completed in: {:.4f}\".format(end - start))"
      ],
      "execution_count": null,
      "outputs": [
        {
          "output_type": "stream",
          "text": [
            "{(5, 8): 0.6742290167003142, (0, 3): 0.53815939149342, (1, 7): 0.6215590277399905}\n",
            "LSH completed in: 0.0022\n"
          ],
          "name": "stdout"
        }
      ]
    },
    {
      "cell_type": "code",
      "metadata": {
        "colab": {
          "base_uri": "https://localhost:8080/"
        },
        "id": "3OYzyjUdEOiD",
        "outputId": "8503e941-295f-42f0-f87c-47b63d04dc01"
      },
      "source": [
        "print(data[5]['abstract'])\n",
        "print(data[8]['abstract'])"
      ],
      "execution_count": null,
      "outputs": [
        {
          "output_type": "stream",
          "text": [
            "TTO - Được ví như 'bộ não số' trong chính quyền điện tử, trung tâm điều hành thông minh (IOC) đang được nhiều tỉnh thành trong cả nước tập trung triển khai xây dựng.\n",
            "TTO - CEO Twitter, ông Jack Dorsey, vừa bán đấu giá được phiên bản số dòng tweet đầu tiên trên nền tảng Twitter với giá 2,9 triệu USD (gần 67 tỉ đồng).\n"
          ],
          "name": "stdout"
        }
      ]
    },
    {
      "cell_type": "code",
      "metadata": {
        "id": "owmwcN5Ut9QF"
      },
      "source": [
        "# def crawKenh14NewsData(baseUrl, url):\n",
        "#     response = requests.get(url)\n",
        "#     soup = BeautifulSoup(response.content, \"html.parser\")\n",
        "\n",
        "#     titles = soup.select('h3.knswli-title')\n",
        "    \n",
        "#     links = [link.find('a').attrs[\"href\"] for link in titles]\n",
        "    \n",
        "#     data = []\n",
        "#     for link in links:\n",
        "#         news = requests.get(link)\n",
        "#         soup = BeautifulSoup(news.content, \"html.parser\")\n",
        "#         title = soup.find(\"h1\", class_=\"kbwc-title\").text\n",
        "#         abstract = soup.find(\"h2\", class_=\"knc-sapo\").text\n",
        "#         body = soup.find(\"div\", class_=\"knc-content\")\n",
        "#         content = \"\"\n",
        "#         try:\n",
        "#             contents = body.select(\"p\", recursive=False)\n",
        "#             contents = [content.text for content in contents]\n",
        "#             content = ('').join(contents)\n",
        "#         except:\n",
        "#             content = \"\"\n",
        "#         data.append({\n",
        "#             \"title\": title,\n",
        "#             \"abstract\": abstract,\n",
        "#             \"content\": content,\n",
        "#         })\n",
        "#     return data\n",
        "\n",
        "# baseUrl = \"https://kenh14.vn/\"\n",
        "# url = \"http://search.kenh14.vn/?query=covid\"\n",
        "\n",
        "# data = crawKenh14NewsData(baseUrl, url)"
      ],
      "execution_count": null,
      "outputs": []
    },
    {
      "cell_type": "code",
      "metadata": {
        "id": "_Aq7SBWv_gH6"
      },
      "source": [
        "# print(len(data))"
      ],
      "execution_count": null,
      "outputs": []
    }
  ]
}