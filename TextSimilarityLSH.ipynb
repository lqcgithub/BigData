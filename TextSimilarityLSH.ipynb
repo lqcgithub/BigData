{
  "nbformat": 4,
  "nbformat_minor": 0,
  "metadata": {
    "colab": {
      "name": "TextSimilarityLSH.ipynb",
      "provenance": [],
      "collapsed_sections": [],
      "authorship_tag": "ABX9TyMBdOAagF31jyjUSVmHtWix",
      "include_colab_link": true
    },
    "kernelspec": {
      "name": "python3",
      "display_name": "Python 3"
    }
  },
  "cells": [
    {
      "cell_type": "markdown",
      "metadata": {
        "id": "view-in-github",
        "colab_type": "text"
      },
      "source": [
        "<a href=\"https://colab.research.google.com/github/lqcgithub/MiningofMassiveDatasets/blob/main/TextSimilarityLSH.ipynb\" target=\"_parent\"><img src=\"https://colab.research.google.com/assets/colab-badge.svg\" alt=\"Open In Colab\"/></a>"
      ]
    },
    {
      "cell_type": "markdown",
      "metadata": {
        "id": "echGsTg6uVB4"
      },
      "source": [
        ""
      ]
    },
    {
      "cell_type": "code",
      "metadata": {
        "colab": {
          "base_uri": "https://localhost:8080/"
        },
        "id": "vyRwS6eWvpPb",
        "outputId": "96713e81-8df8-47d2-9e0c-95dd3cfbc0d1"
      },
      "source": [
        "pip install beautifulsoup4"
      ],
      "execution_count": 1,
      "outputs": [
        {
          "output_type": "stream",
          "text": [
            "Requirement already satisfied: beautifulsoup4 in /usr/local/lib/python3.7/dist-packages (4.6.3)\n"
          ],
          "name": "stdout"
        }
      ]
    },
    {
      "cell_type": "code",
      "metadata": {
        "colab": {
          "base_uri": "https://localhost:8080/"
        },
        "id": "eE3j9_7tCewn",
        "outputId": "53d840d7-1625-44fd-be40-cc7f0c0c5a89"
      },
      "source": [
        "pip install pyspark"
      ],
      "execution_count": 2,
      "outputs": [
        {
          "output_type": "stream",
          "text": [
            "Requirement already satisfied: pyspark in /usr/local/lib/python3.7/dist-packages (3.1.1)\n",
            "Requirement already satisfied: py4j==0.10.9 in /usr/local/lib/python3.7/dist-packages (from pyspark) (0.10.9)\n"
          ],
          "name": "stdout"
        }
      ]
    },
    {
      "cell_type": "code",
      "metadata": {
        "colab": {
          "base_uri": "https://localhost:8080/"
        },
        "id": "5QZBWFS0BMkb",
        "outputId": "f83967a0-be4e-4fa9-a75c-a21d5798e858"
      },
      "source": [
        "pip install mmh3"
      ],
      "execution_count": 3,
      "outputs": [
        {
          "output_type": "stream",
          "text": [
            "Requirement already satisfied: mmh3 in /usr/local/lib/python3.7/dist-packages (3.0.0)\n"
          ],
          "name": "stdout"
        }
      ]
    },
    {
      "cell_type": "code",
      "metadata": {
        "id": "WhiSIN_ExYmo"
      },
      "source": [
        "import requests\n",
        "from bs4 import BeautifulSoup"
      ],
      "execution_count": 4,
      "outputs": []
    },
    {
      "cell_type": "code",
      "metadata": {
        "id": "-88_CK1hCiFv"
      },
      "source": [
        "import pyspark\n",
        "from pyspark import SparkConf, SparkContext"
      ],
      "execution_count": 5,
      "outputs": []
    },
    {
      "cell_type": "code",
      "metadata": {
        "id": "QN5tYa0RHR1r"
      },
      "source": [
        "import re\n",
        "import numpy as np\n",
        "import collections\n",
        "import random\n",
        "from operator import itemgetter"
      ],
      "execution_count": 6,
      "outputs": []
    },
    {
      "cell_type": "code",
      "metadata": {
        "id": "Q8S3lI_ctaHk"
      },
      "source": [
        "import nltk\n",
        "from nltk import ngrams\n",
        "import mmh3\n",
        "import time"
      ],
      "execution_count": 7,
      "outputs": []
    },
    {
      "cell_type": "code",
      "metadata": {
        "id": "bBiFOj80C2RM"
      },
      "source": [
        "conf = SparkConf().setMaster(\"local\").setAppName(\"Market Basket with Apriori\")\n",
        "sc = SparkContext.getOrCreate(conf=conf)"
      ],
      "execution_count": 8,
      "outputs": []
    },
    {
      "cell_type": "code",
      "metadata": {
        "id": "s6wegdagv2Fn"
      },
      "source": [
        "baseUrl = \"https://tuoitre.vn\"\n",
        "url = \"https://tuoitre.vn/tin-moi-nhat.htm\""
      ],
      "execution_count": 9,
      "outputs": []
    },
    {
      "cell_type": "code",
      "metadata": {
        "id": "QIIh3kdQzeDR"
      },
      "source": [
        "response = requests.get(url)\n",
        "soup = BeautifulSoup(response.content, \"html.parser\")\n",
        "\n",
        "titles = soup.findAll('h3', class_='title-news')\n",
        "links = [link.find('a').attrs[\"href\"] for link in titles]\n",
        "data = []\n",
        "\n",
        "for link in links:\n",
        "  news = requests.get(baseUrl + link)\n",
        "  soup = BeautifulSoup(news.content, \"html.parser\")\n",
        "  if (soup.find(\"h1\", class_=\"article-title\")is not None):\n",
        "    title = soup.find(\"h1\", class_=\"article-title\").text\n",
        "    abstract = soup.find(\"h2\", class_=\"sapo\").text\n",
        "    body = soup.find(\"div\", id=\"main-detail-body\")\n",
        "    contents = body.findAll(\"p\", recursive=False)\n",
        "    contents = [content.text for content in contents]\n",
        "    content = ('').join(contents)\n",
        "    data.append({\n",
        "        \"title\": title,\n",
        "        \"abstract\": abstract,\n",
        "        \"content\": content,\n",
        "    })"
      ],
      "execution_count": 10,
      "outputs": []
    },
    {
      "cell_type": "code",
      "metadata": {
        "colab": {
          "base_uri": "https://localhost:8080/"
        },
        "id": "Bx6-nflbBppJ",
        "outputId": "83072b6b-e8bc-40da-cf38-e672ccbe9405"
      },
      "source": [
        "print(data[0][\"content\"])"
      ],
      "execution_count": 11,
      "outputs": [
        {
          "output_type": "stream",
          "text": [
            "Ban hành mẫu thẻ BHYT nhỏ gọn, ép plasticQuyết định 1666/QĐ-BHXH về ban hành mẫu thẻ BHYT của Bảo hiểm xã hội Việt Nam sẽ có hiệu lực từ ngày 1-4-2021. Theo đó, mẫu thẻ BHYT mới sẽ có kích thước thẻ nhỏ gọn hơn, chỉ dài 85,6mm và rộng 53,98mm, nhỏ hơn nhiều so với trước đấy dài đến 98mm và rộng 66mm. Mã số thẻ sẽ chỉ còn 10 chữ số là mã số BHXH của người tham gia BHYT.  Mặt trước của thẻ in mã số thẻ, họ tên, ngày sinh, giới tính, mức hưởng BHYT, nơi đăng ký khám chữa bệnh ban đầu, giá trị sử dụng thẻ, nơi cấp đổi thẻ BHYT…  Mặt sau của thẻ có các thông tin về nơi cấp, đổi thẻ; hướng dẫn kiểm tra chi phí khám, chữa bệnh BHYT được hưởng… Thẻ sẽ được ép plastic sau khi in.  Đối với mẫu thẻ cũ, trong thời gian chờ đổi sang mẫu thẻ mới, nếu vẫn còn thời hạn sử dụng thì tiếp tục được dùng để khám, chữa bệnh. Phôi thẻ BHYT đã in theo mẫu cũ chưa sử dụng hết đến ngày 1-4-2021 vẫn được tiếp tục sử dụng cấp cho các người tham gia BHYT.  Bên cạnh đó, Nghị định 14/2021/NĐ-CP về xử phạt vi phạm hành chính về chăn nuôi, có hiệu lực từ ngày 20-4-2021 quy định mức phạt tiền từ 1 triệu đến 3 triệu đồng đối với hành vi đánh đập, hành hạ tàn nhẫn vật nuôi. Riêng với cơ sở giết mổ tập trung, nếu đánh đập vật nuôi trước khi giết mổ, không có biện pháp gây ngất vật nuôi trước khi giết mổ cũng sẽ bị phạt tiền từ 3 triệu đến 5 triệu đồng.  Sửa đổi quy chế thi tốt nghiệp THPTThông tư 05/2021/TT-BGDĐT có hiệu lực từ 27-4-2021 sửa đổi, bổ sung một số điều của quy chế thi tốt nghiệp trung học phổ thông.Theo đó, sửa đổi một số nội dung về điều kiện dự thi tốt nghiệp THPT năm 2021 như sau:  Đối với người đã học xong chương trình THPT trong năm tổ chức kỳ thi, phải bảo đảm được đánh giá ở lớp 12 đạt hạnh kiểm xếp loại từ trung bình trở lên và học lực không bị xếp loại kém. Riêng đối với người học thuộc diện không phải xếp loại hạnh kiểm và người học theo hình thức tự học có hướng dẫn thuộc chương trình Giáo dục thường xuyên thì không yêu cầu xếp loại hạnh kiểm.Trường hợp người đã học xong chương trình THPT nhưng chưa thi tốt nghiệp THPT hoặc đã thi nhưng chưa tốt nghiệp THPT ở những năm trước thì phải có bằng tốt nghiệp THCS và phải bảo đảm được đánh giá ở lớp 12 đạt hạnh kiểm xếp loại từ trung bình trở lên và học lực không bị xếp loại kém.Trường hợp không đủ điều kiện dự thi trong các năm trước do xếp loại học lực kém ở lớp 12, phải đăng ký và dự kỳ kiểm tra cuối năm học đối với một số môn học có điểm trung bình dưới 5,0 điểm (tại trường phổ thông nơi học lớp 12 hoặc trường phổ thông nơi đăng ký dự thi), bảo đảm khi lấy điểm bài kiểm tra thay cho điểm trung bình môn học để tính lại điểm trung bình cả năm thì đủ điều kiện dự thi về xếp loại học lực theo quy định.Trường hợp không đủ điều kiện dự thi trong các năm trước do bị xếp loại yếu về hạnh kiểm ở lớp 12, phải được UBND cấp xã nơi cư trú xác nhận việc chấp hành chính sách pháp luật và các quy định của địa phương để được trường phổ thông nơi học lớp 12 xác nhận đủ điều kiện dự thi về xếp loại hạnh kiểm theo quy định.Đối với người đã có bằng tốt nghiệp THPT, người đã có bằng tốt nghiệp trung cấp dự thi để lấy kết quả làm cơ sở đăng ký xét tuyển sinh thì phải bảo đảm đã học và thi đạt yêu cầu đủ khối lượng kiến thức văn hóa THPT theo quy định của Luật Giáo dục và các văn bản hướng dẫn hiện hành của Bộ GD-ĐT.\n"
          ],
          "name": "stdout"
        }
      ]
    },
    {
      "cell_type": "code",
      "metadata": {
        "id": "lh9adekZHCBc"
      },
      "source": [
        "def preprocess(document):\n",
        "    document = re.sub(r'[^\\w\\s]','',document)\n",
        "    tokens = document.lower()\n",
        "    tokens = tokens.split()\n",
        "    return tokens"
      ],
      "execution_count": 12,
      "outputs": []
    },
    {
      "cell_type": "code",
      "metadata": {
        "colab": {
          "base_uri": "https://localhost:8080/"
        },
        "id": "PmDt0vgbIqi7",
        "outputId": "36eecb1b-9dee-4567-e649-cf4107547104"
      },
      "source": [
        "document = \"Trận này, Leicester áp đảo ngay sau tiếng còi khai cuộc. Đây cũng là điều dễ hiểu, bởi đối thủ của họ - Sheffield United là đội bóng đang xếp cuối bảng và gần như cầm chắc vé xuống hạng khi kém nhóm an toàn tới 14 điểm.Phút 12, cơ hội mở tỉ số đến với Leicester sau pha dàn xếp tấn công bên cánh trái. Nhưng may mắn đã không đứng về phía đội chủ nhà khi pha đánh đầu về góc xa của Ayoze Perez lại đưa bóng trúng cột dọc khung thành.  Những phút sau đó, Leicester tiếp tục tấn công và tạo ra thêm nhiều tình huống nguy hiểm nữa. Dù áp đảo hoàn toàn, nhưng phải đến cuối hiệp 1 các học trò HLV Brendan Rodgers mới đưa được bóng vào lưới khung thành thủ môn Aaron Ramsdale.  Phút 39, từ pha lên bóng bên cánh trái, Jamie Vardy bứt tốc xâm nhập vòng cấm đón đường chọc khe của đồng đội rồi thực hiện đường căng ngang vào giữa. Trong tư thế không người kèm, Kelechi Iheanacho dễ dàng ập vào đệm bóng tung lưới thủ môn Aaron Ramsdale từ cự li gần, mở tỉ số cho Leicester.  Bị thủng lưới, Sheffield United đẩy cao đội hình tấn công trong hiệp 2 và cơ hội tiếp tục đến với Leicester khi hàng phòng ngự đội khách để lộ ra nhiều khoảng trống.  Phút 64, sau vài cơ hội bị bỏ lỡ, đội chủ nhà cũng đã có bàn thắng nhân đôi cách biệt nhờ công tiền vệ Ayoze Perez với pha dứt điểm hiểm hóc ngay mép vòng cấm sau tình huống phản công bên cánh phải.  Sau bàn thua này, các cầu thủ Sheffield United càng thi đấu thiếu tập trung, đặc biệt là trong phòng ngự.  Hệ quả, chỉ trong 11 phút từ 69 đến 80, lưới của thủ môn Aaron Ramsdale đã phải rung lên thêm 3 lần nữa sau những cú dứt điểm trong tư thế vô cùng thoải mái của Kelechi Iheanacho (phút 69 và 78) và Jamie Vardy (phút 80), giúp Leicester khép lại trận đấu với chiến thắng cách biệt 5-0.  Thắng trận này, Leicester đã tạm vượt qua Manchester United (chưa đá vòng 28) để vươn lên vị trí thứ hai trên bảng xếp hạng với 56 điểm, hơn Man Utd 2 điểm và kém đội đầu bảng Man City 15 điểm. \"\n",
        "preprocess(document)[0:5]"
      ],
      "execution_count": 13,
      "outputs": [
        {
          "output_type": "execute_result",
          "data": {
            "text/plain": [
              "['trận', 'này', 'leicester', 'áp', 'đảo']"
            ]
          },
          "metadata": {
            "tags": []
          },
          "execution_count": 13
        }
      ]
    },
    {
      "cell_type": "code",
      "metadata": {
        "colab": {
          "base_uri": "https://localhost:8080/"
        },
        "id": "JwL91yREulT3",
        "outputId": "9ec315a3-0d9d-4b1b-f550-e93982865d61"
      },
      "source": [
        "doc_as_shingles = []\n",
        "for document in data:\n",
        "  tokens = preprocess(document['content'])\n",
        "  shingles = ngrams(tokens, 3)\n",
        "  doc_as_shingles.append(list(shingles))\n",
        "print(doc_as_shingles[0])"
      ],
      "execution_count": 14,
      "outputs": [
        {
          "output_type": "stream",
          "text": [
            "[('ban', 'hành', 'mẫu'), ('hành', 'mẫu', 'thẻ'), ('mẫu', 'thẻ', 'bhyt'), ('thẻ', 'bhyt', 'nhỏ'), ('bhyt', 'nhỏ', 'gọn'), ('nhỏ', 'gọn', 'ép'), ('gọn', 'ép', 'plasticquyết'), ('ép', 'plasticquyết', 'định'), ('plasticquyết', 'định', '1666qđbhxh'), ('định', '1666qđbhxh', 'về'), ('1666qđbhxh', 'về', 'ban'), ('về', 'ban', 'hành'), ('ban', 'hành', 'mẫu'), ('hành', 'mẫu', 'thẻ'), ('mẫu', 'thẻ', 'bhyt'), ('thẻ', 'bhyt', 'của'), ('bhyt', 'của', 'bảo'), ('của', 'bảo', 'hiểm'), ('bảo', 'hiểm', 'xã'), ('hiểm', 'xã', 'hội'), ('xã', 'hội', 'việt'), ('hội', 'việt', 'nam'), ('việt', 'nam', 'sẽ'), ('nam', 'sẽ', 'có'), ('sẽ', 'có', 'hiệu'), ('có', 'hiệu', 'lực'), ('hiệu', 'lực', 'từ'), ('lực', 'từ', 'ngày'), ('từ', 'ngày', '142021'), ('ngày', '142021', 'theo'), ('142021', 'theo', 'đó'), ('theo', 'đó', 'mẫu'), ('đó', 'mẫu', 'thẻ'), ('mẫu', 'thẻ', 'bhyt'), ('thẻ', 'bhyt', 'mới'), ('bhyt', 'mới', 'sẽ'), ('mới', 'sẽ', 'có'), ('sẽ', 'có', 'kích'), ('có', 'kích', 'thước'), ('kích', 'thước', 'thẻ'), ('thước', 'thẻ', 'nhỏ'), ('thẻ', 'nhỏ', 'gọn'), ('nhỏ', 'gọn', 'hơn'), ('gọn', 'hơn', 'chỉ'), ('hơn', 'chỉ', 'dài'), ('chỉ', 'dài', '856mm'), ('dài', '856mm', 'và'), ('856mm', 'và', 'rộng'), ('và', 'rộng', '5398mm'), ('rộng', '5398mm', 'nhỏ'), ('5398mm', 'nhỏ', 'hơn'), ('nhỏ', 'hơn', 'nhiều'), ('hơn', 'nhiều', 'so'), ('nhiều', 'so', 'với'), ('so', 'với', 'trước'), ('với', 'trước', 'đấy'), ('trước', 'đấy', 'dài'), ('đấy', 'dài', 'đến'), ('dài', 'đến', '98mm'), ('đến', '98mm', 'và'), ('98mm', 'và', 'rộng'), ('và', 'rộng', '66mm'), ('rộng', '66mm', 'mã'), ('66mm', 'mã', 'số'), ('mã', 'số', 'thẻ'), ('số', 'thẻ', 'sẽ'), ('thẻ', 'sẽ', 'chỉ'), ('sẽ', 'chỉ', 'còn'), ('chỉ', 'còn', '10'), ('còn', '10', 'chữ'), ('10', 'chữ', 'số'), ('chữ', 'số', 'là'), ('số', 'là', 'mã'), ('là', 'mã', 'số'), ('mã', 'số', 'bhxh'), ('số', 'bhxh', 'của'), ('bhxh', 'của', 'người'), ('của', 'người', 'tham'), ('người', 'tham', 'gia'), ('tham', 'gia', 'bhyt'), ('gia', 'bhyt', 'mặt'), ('bhyt', 'mặt', 'trước'), ('mặt', 'trước', 'của'), ('trước', 'của', 'thẻ'), ('của', 'thẻ', 'in'), ('thẻ', 'in', 'mã'), ('in', 'mã', 'số'), ('mã', 'số', 'thẻ'), ('số', 'thẻ', 'họ'), ('thẻ', 'họ', 'tên'), ('họ', 'tên', 'ngày'), ('tên', 'ngày', 'sinh'), ('ngày', 'sinh', 'giới'), ('sinh', 'giới', 'tính'), ('giới', 'tính', 'mức'), ('tính', 'mức', 'hưởng'), ('mức', 'hưởng', 'bhyt'), ('hưởng', 'bhyt', 'nơi'), ('bhyt', 'nơi', 'đăng'), ('nơi', 'đăng', 'ký'), ('đăng', 'ký', 'khám'), ('ký', 'khám', 'chữa'), ('khám', 'chữa', 'bệnh'), ('chữa', 'bệnh', 'ban'), ('bệnh', 'ban', 'đầu'), ('ban', 'đầu', 'giá'), ('đầu', 'giá', 'trị'), ('giá', 'trị', 'sử'), ('trị', 'sử', 'dụng'), ('sử', 'dụng', 'thẻ'), ('dụng', 'thẻ', 'nơi'), ('thẻ', 'nơi', 'cấp'), ('nơi', 'cấp', 'đổi'), ('cấp', 'đổi', 'thẻ'), ('đổi', 'thẻ', 'bhyt'), ('thẻ', 'bhyt', 'mặt'), ('bhyt', 'mặt', 'sau'), ('mặt', 'sau', 'của'), ('sau', 'của', 'thẻ'), ('của', 'thẻ', 'có'), ('thẻ', 'có', 'các'), ('có', 'các', 'thông'), ('các', 'thông', 'tin'), ('thông', 'tin', 'về'), ('tin', 'về', 'nơi'), ('về', 'nơi', 'cấp'), ('nơi', 'cấp', 'đổi'), ('cấp', 'đổi', 'thẻ'), ('đổi', 'thẻ', 'hướng'), ('thẻ', 'hướng', 'dẫn'), ('hướng', 'dẫn', 'kiểm'), ('dẫn', 'kiểm', 'tra'), ('kiểm', 'tra', 'chi'), ('tra', 'chi', 'phí'), ('chi', 'phí', 'khám'), ('phí', 'khám', 'chữa'), ('khám', 'chữa', 'bệnh'), ('chữa', 'bệnh', 'bhyt'), ('bệnh', 'bhyt', 'được'), ('bhyt', 'được', 'hưởng'), ('được', 'hưởng', 'thẻ'), ('hưởng', 'thẻ', 'sẽ'), ('thẻ', 'sẽ', 'được'), ('sẽ', 'được', 'ép'), ('được', 'ép', 'plastic'), ('ép', 'plastic', 'sau'), ('plastic', 'sau', 'khi'), ('sau', 'khi', 'in'), ('khi', 'in', 'đối'), ('in', 'đối', 'với'), ('đối', 'với', 'mẫu'), ('với', 'mẫu', 'thẻ'), ('mẫu', 'thẻ', 'cũ'), ('thẻ', 'cũ', 'trong'), ('cũ', 'trong', 'thời'), ('trong', 'thời', 'gian'), ('thời', 'gian', 'chờ'), ('gian', 'chờ', 'đổi'), ('chờ', 'đổi', 'sang'), ('đổi', 'sang', 'mẫu'), ('sang', 'mẫu', 'thẻ'), ('mẫu', 'thẻ', 'mới'), ('thẻ', 'mới', 'nếu'), ('mới', 'nếu', 'vẫn'), ('nếu', 'vẫn', 'còn'), ('vẫn', 'còn', 'thời'), ('còn', 'thời', 'hạn'), ('thời', 'hạn', 'sử'), ('hạn', 'sử', 'dụng'), ('sử', 'dụng', 'thì'), ('dụng', 'thì', 'tiếp'), ('thì', 'tiếp', 'tục'), ('tiếp', 'tục', 'được'), ('tục', 'được', 'dùng'), ('được', 'dùng', 'để'), ('dùng', 'để', 'khám'), ('để', 'khám', 'chữa'), ('khám', 'chữa', 'bệnh'), ('chữa', 'bệnh', 'phôi'), ('bệnh', 'phôi', 'thẻ'), ('phôi', 'thẻ', 'bhyt'), ('thẻ', 'bhyt', 'đã'), ('bhyt', 'đã', 'in'), ('đã', 'in', 'theo'), ('in', 'theo', 'mẫu'), ('theo', 'mẫu', 'cũ'), ('mẫu', 'cũ', 'chưa'), ('cũ', 'chưa', 'sử'), ('chưa', 'sử', 'dụng'), ('sử', 'dụng', 'hết'), ('dụng', 'hết', 'đến'), ('hết', 'đến', 'ngày'), ('đến', 'ngày', '142021'), ('ngày', '142021', 'vẫn'), ('142021', 'vẫn', 'được'), ('vẫn', 'được', 'tiếp'), ('được', 'tiếp', 'tục'), ('tiếp', 'tục', 'sử'), ('tục', 'sử', 'dụng'), ('sử', 'dụng', 'cấp'), ('dụng', 'cấp', 'cho'), ('cấp', 'cho', 'các'), ('cho', 'các', 'người'), ('các', 'người', 'tham'), ('người', 'tham', 'gia'), ('tham', 'gia', 'bhyt'), ('gia', 'bhyt', 'bên'), ('bhyt', 'bên', 'cạnh'), ('bên', 'cạnh', 'đó'), ('cạnh', 'đó', 'nghị'), ('đó', 'nghị', 'định'), ('nghị', 'định', '142021nđcp'), ('định', '142021nđcp', 'về'), ('142021nđcp', 'về', 'xử'), ('về', 'xử', 'phạt'), ('xử', 'phạt', 'vi'), ('phạt', 'vi', 'phạm'), ('vi', 'phạm', 'hành'), ('phạm', 'hành', 'chính'), ('hành', 'chính', 'về'), ('chính', 'về', 'chăn'), ('về', 'chăn', 'nuôi'), ('chăn', 'nuôi', 'có'), ('nuôi', 'có', 'hiệu'), ('có', 'hiệu', 'lực'), ('hiệu', 'lực', 'từ'), ('lực', 'từ', 'ngày'), ('từ', 'ngày', '2042021'), ('ngày', '2042021', 'quy'), ('2042021', 'quy', 'định'), ('quy', 'định', 'mức'), ('định', 'mức', 'phạt'), ('mức', 'phạt', 'tiền'), ('phạt', 'tiền', 'từ'), ('tiền', 'từ', '1'), ('từ', '1', 'triệu'), ('1', 'triệu', 'đến'), ('triệu', 'đến', '3'), ('đến', '3', 'triệu'), ('3', 'triệu', 'đồng'), ('triệu', 'đồng', 'đối'), ('đồng', 'đối', 'với'), ('đối', 'với', 'hành'), ('với', 'hành', 'vi'), ('hành', 'vi', 'đánh'), ('vi', 'đánh', 'đập'), ('đánh', 'đập', 'hành'), ('đập', 'hành', 'hạ'), ('hành', 'hạ', 'tàn'), ('hạ', 'tàn', 'nhẫn'), ('tàn', 'nhẫn', 'vật'), ('nhẫn', 'vật', 'nuôi'), ('vật', 'nuôi', 'riêng'), ('nuôi', 'riêng', 'với'), ('riêng', 'với', 'cơ'), ('với', 'cơ', 'sở'), ('cơ', 'sở', 'giết'), ('sở', 'giết', 'mổ'), ('giết', 'mổ', 'tập'), ('mổ', 'tập', 'trung'), ('tập', 'trung', 'nếu'), ('trung', 'nếu', 'đánh'), ('nếu', 'đánh', 'đập'), ('đánh', 'đập', 'vật'), ('đập', 'vật', 'nuôi'), ('vật', 'nuôi', 'trước'), ('nuôi', 'trước', 'khi'), ('trước', 'khi', 'giết'), ('khi', 'giết', 'mổ'), ('giết', 'mổ', 'không'), ('mổ', 'không', 'có'), ('không', 'có', 'biện'), ('có', 'biện', 'pháp'), ('biện', 'pháp', 'gây'), ('pháp', 'gây', 'ngất'), ('gây', 'ngất', 'vật'), ('ngất', 'vật', 'nuôi'), ('vật', 'nuôi', 'trước'), ('nuôi', 'trước', 'khi'), ('trước', 'khi', 'giết'), ('khi', 'giết', 'mổ'), ('giết', 'mổ', 'cũng'), ('mổ', 'cũng', 'sẽ'), ('cũng', 'sẽ', 'bị'), ('sẽ', 'bị', 'phạt'), ('bị', 'phạt', 'tiền'), ('phạt', 'tiền', 'từ'), ('tiền', 'từ', '3'), ('từ', '3', 'triệu'), ('3', 'triệu', 'đến'), ('triệu', 'đến', '5'), ('đến', '5', 'triệu'), ('5', 'triệu', 'đồng'), ('triệu', 'đồng', 'sửa'), ('đồng', 'sửa', 'đổi'), ('sửa', 'đổi', 'quy'), ('đổi', 'quy', 'chế'), ('quy', 'chế', 'thi'), ('chế', 'thi', 'tốt'), ('thi', 'tốt', 'nghiệp'), ('tốt', 'nghiệp', 'thptthông'), ('nghiệp', 'thptthông', 'tư'), ('thptthông', 'tư', '052021ttbgdđt'), ('tư', '052021ttbgdđt', 'có'), ('052021ttbgdđt', 'có', 'hiệu'), ('có', 'hiệu', 'lực'), ('hiệu', 'lực', 'từ'), ('lực', 'từ', '2742021'), ('từ', '2742021', 'sửa'), ('2742021', 'sửa', 'đổi'), ('sửa', 'đổi', 'bổ'), ('đổi', 'bổ', 'sung'), ('bổ', 'sung', 'một'), ('sung', 'một', 'số'), ('một', 'số', 'điều'), ('số', 'điều', 'của'), ('điều', 'của', 'quy'), ('của', 'quy', 'chế'), ('quy', 'chế', 'thi'), ('chế', 'thi', 'tốt'), ('thi', 'tốt', 'nghiệp'), ('tốt', 'nghiệp', 'trung'), ('nghiệp', 'trung', 'học'), ('trung', 'học', 'phổ'), ('học', 'phổ', 'thôngtheo'), ('phổ', 'thôngtheo', 'đó'), ('thôngtheo', 'đó', 'sửa'), ('đó', 'sửa', 'đổi'), ('sửa', 'đổi', 'một'), ('đổi', 'một', 'số'), ('một', 'số', 'nội'), ('số', 'nội', 'dung'), ('nội', 'dung', 'về'), ('dung', 'về', 'điều'), ('về', 'điều', 'kiện'), ('điều', 'kiện', 'dự'), ('kiện', 'dự', 'thi'), ('dự', 'thi', 'tốt'), ('thi', 'tốt', 'nghiệp'), ('tốt', 'nghiệp', 'thpt'), ('nghiệp', 'thpt', 'năm'), ('thpt', 'năm', '2021'), ('năm', '2021', 'như'), ('2021', 'như', 'sau'), ('như', 'sau', 'đối'), ('sau', 'đối', 'với'), ('đối', 'với', 'người'), ('với', 'người', 'đã'), ('người', 'đã', 'học'), ('đã', 'học', 'xong'), ('học', 'xong', 'chương'), ('xong', 'chương', 'trình'), ('chương', 'trình', 'thpt'), ('trình', 'thpt', 'trong'), ('thpt', 'trong', 'năm'), ('trong', 'năm', 'tổ'), ('năm', 'tổ', 'chức'), ('tổ', 'chức', 'kỳ'), ('chức', 'kỳ', 'thi'), ('kỳ', 'thi', 'phải'), ('thi', 'phải', 'bảo'), ('phải', 'bảo', 'đảm'), ('bảo', 'đảm', 'được'), ('đảm', 'được', 'đánh'), ('được', 'đánh', 'giá'), ('đánh', 'giá', 'ở'), ('giá', 'ở', 'lớp'), ('ở', 'lớp', '12'), ('lớp', '12', 'đạt'), ('12', 'đạt', 'hạnh'), ('đạt', 'hạnh', 'kiểm'), ('hạnh', 'kiểm', 'xếp'), ('kiểm', 'xếp', 'loại'), ('xếp', 'loại', 'từ'), ('loại', 'từ', 'trung'), ('từ', 'trung', 'bình'), ('trung', 'bình', 'trở'), ('bình', 'trở', 'lên'), ('trở', 'lên', 'và'), ('lên', 'và', 'học'), ('và', 'học', 'lực'), ('học', 'lực', 'không'), ('lực', 'không', 'bị'), ('không', 'bị', 'xếp'), ('bị', 'xếp', 'loại'), ('xếp', 'loại', 'kém'), ('loại', 'kém', 'riêng'), ('kém', 'riêng', 'đối'), ('riêng', 'đối', 'với'), ('đối', 'với', 'người'), ('với', 'người', 'học'), ('người', 'học', 'thuộc'), ('học', 'thuộc', 'diện'), ('thuộc', 'diện', 'không'), ('diện', 'không', 'phải'), ('không', 'phải', 'xếp'), ('phải', 'xếp', 'loại'), ('xếp', 'loại', 'hạnh'), ('loại', 'hạnh', 'kiểm'), ('hạnh', 'kiểm', 'và'), ('kiểm', 'và', 'người'), ('và', 'người', 'học'), ('người', 'học', 'theo'), ('học', 'theo', 'hình'), ('theo', 'hình', 'thức'), ('hình', 'thức', 'tự'), ('thức', 'tự', 'học'), ('tự', 'học', 'có'), ('học', 'có', 'hướng'), ('có', 'hướng', 'dẫn'), ('hướng', 'dẫn', 'thuộc'), ('dẫn', 'thuộc', 'chương'), ('thuộc', 'chương', 'trình'), ('chương', 'trình', 'giáo'), ('trình', 'giáo', 'dục'), ('giáo', 'dục', 'thường'), ('dục', 'thường', 'xuyên'), ('thường', 'xuyên', 'thì'), ('xuyên', 'thì', 'không'), ('thì', 'không', 'yêu'), ('không', 'yêu', 'cầu'), ('yêu', 'cầu', 'xếp'), ('cầu', 'xếp', 'loại'), ('xếp', 'loại', 'hạnh'), ('loại', 'hạnh', 'kiểmtrường'), ('hạnh', 'kiểmtrường', 'hợp'), ('kiểmtrường', 'hợp', 'người'), ('hợp', 'người', 'đã'), ('người', 'đã', 'học'), ('đã', 'học', 'xong'), ('học', 'xong', 'chương'), ('xong', 'chương', 'trình'), ('chương', 'trình', 'thpt'), ('trình', 'thpt', 'nhưng'), ('thpt', 'nhưng', 'chưa'), ('nhưng', 'chưa', 'thi'), ('chưa', 'thi', 'tốt'), ('thi', 'tốt', 'nghiệp'), ('tốt', 'nghiệp', 'thpt'), ('nghiệp', 'thpt', 'hoặc'), ('thpt', 'hoặc', 'đã'), ('hoặc', 'đã', 'thi'), ('đã', 'thi', 'nhưng'), ('thi', 'nhưng', 'chưa'), ('nhưng', 'chưa', 'tốt'), ('chưa', 'tốt', 'nghiệp'), ('tốt', 'nghiệp', 'thpt'), ('nghiệp', 'thpt', 'ở'), ('thpt', 'ở', 'những'), ('ở', 'những', 'năm'), ('những', 'năm', 'trước'), ('năm', 'trước', 'thì'), ('trước', 'thì', 'phải'), ('thì', 'phải', 'có'), ('phải', 'có', 'bằng'), ('có', 'bằng', 'tốt'), ('bằng', 'tốt', 'nghiệp'), ('tốt', 'nghiệp', 'thcs'), ('nghiệp', 'thcs', 'và'), ('thcs', 'và', 'phải'), ('và', 'phải', 'bảo'), ('phải', 'bảo', 'đảm'), ('bảo', 'đảm', 'được'), ('đảm', 'được', 'đánh'), ('được', 'đánh', 'giá'), ('đánh', 'giá', 'ở'), ('giá', 'ở', 'lớp'), ('ở', 'lớp', '12'), ('lớp', '12', 'đạt'), ('12', 'đạt', 'hạnh'), ('đạt', 'hạnh', 'kiểm'), ('hạnh', 'kiểm', 'xếp'), ('kiểm', 'xếp', 'loại'), ('xếp', 'loại', 'từ'), ('loại', 'từ', 'trung'), ('từ', 'trung', 'bình'), ('trung', 'bình', 'trở'), ('bình', 'trở', 'lên'), ('trở', 'lên', 'và'), ('lên', 'và', 'học'), ('và', 'học', 'lực'), ('học', 'lực', 'không'), ('lực', 'không', 'bị'), ('không', 'bị', 'xếp'), ('bị', 'xếp', 'loại'), ('xếp', 'loại', 'kémtrường'), ('loại', 'kémtrường', 'hợp'), ('kémtrường', 'hợp', 'không'), ('hợp', 'không', 'đủ'), ('không', 'đủ', 'điều'), ('đủ', 'điều', 'kiện'), ('điều', 'kiện', 'dự'), ('kiện', 'dự', 'thi'), ('dự', 'thi', 'trong'), ('thi', 'trong', 'các'), ('trong', 'các', 'năm'), ('các', 'năm', 'trước'), ('năm', 'trước', 'do'), ('trước', 'do', 'xếp'), ('do', 'xếp', 'loại'), ('xếp', 'loại', 'học'), ('loại', 'học', 'lực'), ('học', 'lực', 'kém'), ('lực', 'kém', 'ở'), ('kém', 'ở', 'lớp'), ('ở', 'lớp', '12'), ('lớp', '12', 'phải'), ('12', 'phải', 'đăng'), ('phải', 'đăng', 'ký'), ('đăng', 'ký', 'và'), ('ký', 'và', 'dự'), ('và', 'dự', 'kỳ'), ('dự', 'kỳ', 'kiểm'), ('kỳ', 'kiểm', 'tra'), ('kiểm', 'tra', 'cuối'), ('tra', 'cuối', 'năm'), ('cuối', 'năm', 'học'), ('năm', 'học', 'đối'), ('học', 'đối', 'với'), ('đối', 'với', 'một'), ('với', 'một', 'số'), ('một', 'số', 'môn'), ('số', 'môn', 'học'), ('môn', 'học', 'có'), ('học', 'có', 'điểm'), ('có', 'điểm', 'trung'), ('điểm', 'trung', 'bình'), ('trung', 'bình', 'dưới'), ('bình', 'dưới', '50'), ('dưới', '50', 'điểm'), ('50', 'điểm', 'tại'), ('điểm', 'tại', 'trường'), ('tại', 'trường', 'phổ'), ('trường', 'phổ', 'thông'), ('phổ', 'thông', 'nơi'), ('thông', 'nơi', 'học'), ('nơi', 'học', 'lớp'), ('học', 'lớp', '12'), ('lớp', '12', 'hoặc'), ('12', 'hoặc', 'trường'), ('hoặc', 'trường', 'phổ'), ('trường', 'phổ', 'thông'), ('phổ', 'thông', 'nơi'), ('thông', 'nơi', 'đăng'), ('nơi', 'đăng', 'ký'), ('đăng', 'ký', 'dự'), ('ký', 'dự', 'thi'), ('dự', 'thi', 'bảo'), ('thi', 'bảo', 'đảm'), ('bảo', 'đảm', 'khi'), ('đảm', 'khi', 'lấy'), ('khi', 'lấy', 'điểm'), ('lấy', 'điểm', 'bài'), ('điểm', 'bài', 'kiểm'), ('bài', 'kiểm', 'tra'), ('kiểm', 'tra', 'thay'), ('tra', 'thay', 'cho'), ('thay', 'cho', 'điểm'), ('cho', 'điểm', 'trung'), ('điểm', 'trung', 'bình'), ('trung', 'bình', 'môn'), ('bình', 'môn', 'học'), ('môn', 'học', 'để'), ('học', 'để', 'tính'), ('để', 'tính', 'lại'), ('tính', 'lại', 'điểm'), ('lại', 'điểm', 'trung'), ('điểm', 'trung', 'bình'), ('trung', 'bình', 'cả'), ('bình', 'cả', 'năm'), ('cả', 'năm', 'thì'), ('năm', 'thì', 'đủ'), ('thì', 'đủ', 'điều'), ('đủ', 'điều', 'kiện'), ('điều', 'kiện', 'dự'), ('kiện', 'dự', 'thi'), ('dự', 'thi', 'về'), ('thi', 'về', 'xếp'), ('về', 'xếp', 'loại'), ('xếp', 'loại', 'học'), ('loại', 'học', 'lực'), ('học', 'lực', 'theo'), ('lực', 'theo', 'quy'), ('theo', 'quy', 'địnhtrường'), ('quy', 'địnhtrường', 'hợp'), ('địnhtrường', 'hợp', 'không'), ('hợp', 'không', 'đủ'), ('không', 'đủ', 'điều'), ('đủ', 'điều', 'kiện'), ('điều', 'kiện', 'dự'), ('kiện', 'dự', 'thi'), ('dự', 'thi', 'trong'), ('thi', 'trong', 'các'), ('trong', 'các', 'năm'), ('các', 'năm', 'trước'), ('năm', 'trước', 'do'), ('trước', 'do', 'bị'), ('do', 'bị', 'xếp'), ('bị', 'xếp', 'loại'), ('xếp', 'loại', 'yếu'), ('loại', 'yếu', 'về'), ('yếu', 'về', 'hạnh'), ('về', 'hạnh', 'kiểm'), ('hạnh', 'kiểm', 'ở'), ('kiểm', 'ở', 'lớp'), ('ở', 'lớp', '12'), ('lớp', '12', 'phải'), ('12', 'phải', 'được'), ('phải', 'được', 'ubnd'), ('được', 'ubnd', 'cấp'), ('ubnd', 'cấp', 'xã'), ('cấp', 'xã', 'nơi'), ('xã', 'nơi', 'cư'), ('nơi', 'cư', 'trú'), ('cư', 'trú', 'xác'), ('trú', 'xác', 'nhận'), ('xác', 'nhận', 'việc'), ('nhận', 'việc', 'chấp'), ('việc', 'chấp', 'hành'), ('chấp', 'hành', 'chính'), ('hành', 'chính', 'sách'), ('chính', 'sách', 'pháp'), ('sách', 'pháp', 'luật'), ('pháp', 'luật', 'và'), ('luật', 'và', 'các'), ('và', 'các', 'quy'), ('các', 'quy', 'định'), ('quy', 'định', 'của'), ('định', 'của', 'địa'), ('của', 'địa', 'phương'), ('địa', 'phương', 'để'), ('phương', 'để', 'được'), ('để', 'được', 'trường'), ('được', 'trường', 'phổ'), ('trường', 'phổ', 'thông'), ('phổ', 'thông', 'nơi'), ('thông', 'nơi', 'học'), ('nơi', 'học', 'lớp'), ('học', 'lớp', '12'), ('lớp', '12', 'xác'), ('12', 'xác', 'nhận'), ('xác', 'nhận', 'đủ'), ('nhận', 'đủ', 'điều'), ('đủ', 'điều', 'kiện'), ('điều', 'kiện', 'dự'), ('kiện', 'dự', 'thi'), ('dự', 'thi', 'về'), ('thi', 'về', 'xếp'), ('về', 'xếp', 'loại'), ('xếp', 'loại', 'hạnh'), ('loại', 'hạnh', 'kiểm'), ('hạnh', 'kiểm', 'theo'), ('kiểm', 'theo', 'quy'), ('theo', 'quy', 'địnhđối'), ('quy', 'địnhđối', 'với'), ('địnhđối', 'với', 'người'), ('với', 'người', 'đã'), ('người', 'đã', 'có'), ('đã', 'có', 'bằng'), ('có', 'bằng', 'tốt'), ('bằng', 'tốt', 'nghiệp'), ('tốt', 'nghiệp', 'thpt'), ('nghiệp', 'thpt', 'người'), ('thpt', 'người', 'đã'), ('người', 'đã', 'có'), ('đã', 'có', 'bằng'), ('có', 'bằng', 'tốt'), ('bằng', 'tốt', 'nghiệp'), ('tốt', 'nghiệp', 'trung'), ('nghiệp', 'trung', 'cấp'), ('trung', 'cấp', 'dự'), ('cấp', 'dự', 'thi'), ('dự', 'thi', 'để'), ('thi', 'để', 'lấy'), ('để', 'lấy', 'kết'), ('lấy', 'kết', 'quả'), ('kết', 'quả', 'làm'), ('quả', 'làm', 'cơ'), ('làm', 'cơ', 'sở'), ('cơ', 'sở', 'đăng'), ('sở', 'đăng', 'ký'), ('đăng', 'ký', 'xét'), ('ký', 'xét', 'tuyển'), ('xét', 'tuyển', 'sinh'), ('tuyển', 'sinh', 'thì'), ('sinh', 'thì', 'phải'), ('thì', 'phải', 'bảo'), ('phải', 'bảo', 'đảm'), ('bảo', 'đảm', 'đã'), ('đảm', 'đã', 'học'), ('đã', 'học', 'và'), ('học', 'và', 'thi'), ('và', 'thi', 'đạt'), ('thi', 'đạt', 'yêu'), ('đạt', 'yêu', 'cầu'), ('yêu', 'cầu', 'đủ'), ('cầu', 'đủ', 'khối'), ('đủ', 'khối', 'lượng'), ('khối', 'lượng', 'kiến'), ('lượng', 'kiến', 'thức'), ('kiến', 'thức', 'văn'), ('thức', 'văn', 'hóa'), ('văn', 'hóa', 'thpt'), ('hóa', 'thpt', 'theo'), ('thpt', 'theo', 'quy'), ('theo', 'quy', 'định'), ('quy', 'định', 'của'), ('định', 'của', 'luật'), ('của', 'luật', 'giáo'), ('luật', 'giáo', 'dục'), ('giáo', 'dục', 'và'), ('dục', 'và', 'các'), ('và', 'các', 'văn'), ('các', 'văn', 'bản'), ('văn', 'bản', 'hướng'), ('bản', 'hướng', 'dẫn'), ('hướng', 'dẫn', 'hiện'), ('dẫn', 'hiện', 'hành'), ('hiện', 'hành', 'của'), ('hành', 'của', 'bộ'), ('của', 'bộ', 'gdđt')]\n"
          ],
          "name": "stdout"
        }
      ]
    },
    {
      "cell_type": "code",
      "metadata": {
        "colab": {
          "base_uri": "https://localhost:8080/"
        },
        "id": "KvnGY_fw-Y_6",
        "outputId": "102955db-4e47-4665-f73a-16e43a2e3ba2"
      },
      "source": [
        "doc_hashed = []\n",
        "\n",
        "def hash_doc(shingles):\n",
        "  shingles_hashed = []\n",
        "  for shingle in shingles:\n",
        "    hash = mmh3.hash(' '.join(shingle))\n",
        "    shingles_hashed.append(hash)\n",
        "  return shingles_hashed  \n",
        "\n",
        "for document in doc_as_shingles:\n",
        "  doc_hashed.append(list(hash_doc(document)));\n",
        "print(doc_hashed[0])"
      ],
      "execution_count": 15,
      "outputs": [
        {
          "output_type": "stream",
          "text": [
            "[-1314682866, 1512495620, 1578336557, -384030479, -2138173164, -1168925846, 425156207, 1569914609, -899319234, -1269462426, -805677406, -397072196, -1314682866, 1512495620, 1578336557, 1585270207, 2015479985, 472767293, 1272563501, 483912037, -849105124, 1002279553, -657020686, -2003373570, 1525635398, -2030590563, 867337155, -2006360871, -523701685, 1910167492, 1362817987, 684637163, 305526748, 1578336557, -2012215997, -295843005, 452866670, 1860812968, -1891276353, 201845201, 1617150284, 1277729913, 2029304753, 23716078, -1210645992, -1292589500, -1869315016, 2033190856, -1953391756, 242945401, -64155033, 490632146, 1614301564, -1317676369, 889842505, -427800478, 484521937, -1747687117, 1898139630, -136465933, 1487578398, -765437064, -2140218179, -1393809125, 1323855485, -905453402, -877346617, 1052107940, -322762229, -441700280, -311405049, -1797002169, 1605544145, -2051495460, 741922168, 1990923481, -715391983, -1294328713, 356987367, -1912109305, -122311478, -932875868, -344316020, -1740608076, -1326657634, 928873514, 1816282279, 1323855485, 1818656185, 255821983, 442126766, 2039131934, 1512756595, -123524289, -359094303, 697031275, 1490115448, -899302218, 327070435, -511341000, 1736960385, 141768466, 1344799462, 62433793, 951659934, 522349686, 59826775, -390140559, 1734810169, 1702943841, -1923920552, -1712597361, -875498872, -1153623233, 311963683, 1606398204, 1404236490, 472766628, -1548558679, -763962889, 773546156, -1234204070, -409412640, -1867349003, 423691609, 401330374, -875498872, -1153623233, -108134350, 1370948202, 1631758151, -1425504648, 1065792275, -15566711, 1583152502, -1188086567, 1344799462, -879610124, -1007509639, -870847723, 1730621130, -685043114, 1462607890, 264208767, -1316584102, -1580166274, -1930556786, 133987661, -1479243335, 1710355428, 1130493231, 631439130, -1316557061, 1348028175, 1248680669, -1350421163, 401469984, -347994534, 1788035446, 456245015, 209980138, 1025873468, 650549779, -2080352496, 310572589, -1939061345, 854723604, -1304463914, 1292284427, -375534241, -1391085502, 46111041, -1766525386, -1470080768, -281796642, -848817939, -1689380299, 1344799462, -997072300, 512713590, 571066575, 581722450, 354419672, -1103345391, -1221947934, 1294744638, 666003979, 641079029, 1088767322, -1960018306, 1313465517, 1647603694, 660220311, 965367629, -1067603841, -2062897097, 1653078041, 1499488118, -2139472964, -1150129097, -949463319, 357565761, -1296699389, 1917842314, 356987367, -1912109305, -1480296339, 469472819, -1351216590, -759524056, -1246968853, 1623714797, 2009487763, -1222766291, 2086945118, 1657539150, -596167244, -220050054, -2124912220, -1334886590, 1421844748, 401074092, 746936823, -1445553978, -2030590563, 867337155, -2006360871, -1363025353, 1956021448, 1528209028, 191652863, 205307919, -265106584, 260324901, 1655389393, 2786059, -1509127685, 2114727206, -2027555463, -1044723132, 74360924, -553930817, 2080961699, -1270924573, -254979842, -339671140, 1143567640, 1028635829, -2047437901, 1896354010, 704174643, -1671648452, -79738312, 898092993, 500306632, 618996275, 922291726, 1078155549, 219097751, -1060410690, 184841329, -796885129, 154177456, 41831351, 414173860, -317106326, -982383984, -225524729, -576003180, 962743556, 1453618929, 1638746566, -1571904195, 1510030861, 841899250, -1807502004, -551939939, -317106326, -982383984, -225524729, -576003180, -2114541236, 1793636986, 1231643742, -1947270822, -1557806290, 260324901, -707465267, 1059242365, 1771489518, -1375655983, 889323526, -289443564, -2003831247, -283478810, -1119526618, 753630669, 1547997733, 1358958541, 1932044879, -372944301, -1159542729, 605371112, 996575427, -1877696345, -2030590563, 867337155, 1227409689, 723747400, 1294995121, -1969532531, -177482282, 867837509, 843681399, 223172074, 2113696048, -609829636, 1913720583, 1547997733, 1358958541, 1932044879, -1927693493, 1885838481, -1369775715, -1219713489, -1984222275, -1623516557, 663858787, -1624107586, -1970524961, 1618857181, -25619603, -1278992433, -555151412, -424452466, -1412197014, 234741768, -2116355719, 1932044879, 1708643620, -1753537117, -753574335, -557935252, -178816631, 884213172, 2033186298, -1905084628, 1828873908, -824580689, -1599759105, -242132758, -190027291, -444833750, 420837938, 1222593404, -1417060147, 2018927137, -2067707913, 1321279356, -1954305916, -768793770, -470558593, 2064182529, -1316748073, -568688222, -1861442906, -1558222041, 1339610603, 340449943, -1260278446, 599641018, 162874487, -1635902950, 812777025, -646237180, -55520842, -1535876075, 1499443618, 827656278, 64193731, -954678653, 470223850, -1190681365, 1480050740, -1451027010, -386373498, 1932037094, 764187910, 1794242422, -1905084628, 912092316, -2000499109, 819647783, 1863201823, -295684854, 345889480, 277577526, 1914444851, 929604419, 413504285, -1113660701, -1414789232, 712793073, -634561720, -29694200, 82164292, 629166306, -377562621, -788577376, 2088115478, 2118362626, 1775943600, -1458282745, 1485641414, 1101731046, 572805626, -1885441273, 104038909, -1955707680, 1418279903, -1526087186, -347281682, 508996678, 1914444851, 1314824970, 1915965408, 16980651, -234298167, -824580689, -1599759105, -242132758, -190027291, -444833750, 1206955569, -2105384514, -1759186586, 1802984505, 1932044879, 1708643620, -138603881, 121808117, 1214188921, -1676167215, 357193670, -1525692159, -583135013, 1708643620, -109530636, 1739394778, -325644127, 1304700524, -757428901, -1681172178, -1486337682, 616573541, 2017200019, 1336420430, 1291568418, 357412575, 781420984, -356483401, -470558593, 2064182529, -1316748073, -568688222, -1861442906, -1558222041, 1339610603, 340449943, -1260278446, 599641018, 162874487, -1635902950, 812777025, -646237180, -55520842, -1535876075, 1499443618, 827656278, 64193731, -954678653, 470223850, -1190681365, 1480050740, -1451027010, -1384501542, 421765230, -1976185903, -1218034283, -412247815, -1889754872, -1412197014, 234741768, -537625219, -2008116730, -1420106242, -1050403971, 1716026451, 459021379, 464153313, -1997510500, 49153571, 1690087649, -1710074189, 279204835, 1339610603, -1870739563, -952132425, 2033532319, -10334304, -204878354, -1870550289, -1624769363, -596169491, 402841464, 1345977099, 2029622028, -684279204, -1640720429, -1277812334, 888908910, -15585383, 1908972558, 283924864, -1580364059, 1194912049, 1291910514, 1408850597, 259672283, 2069094772, 1801248742, -927935218, -1127649619, -1540477776, -1279623911, -855114809, 384817976, 105163157, -163166325, 366540267, 1511751024, -1540477776, -1279623911, 822876907, -511341000, 133682405, 1886620658, 1689312203, -1240913409, 123933023, -2069155902, 434233457, 1078165820, 1773003201, -1663121290, -585091669, 1522844180, -1023483101, 729553165, 1291910514, -173798060, -783094720, -1019264108, -1119137313, 66073286, 1797178388, 1100800835, 1291910514, -2012739094, 2065865093, -1648924748, -1881716645, -1704394249, -1889754872, -1412197014, 234741768, 1341849766, -514523983, -1198449603, -1997510500, 49153571, -575998960, -600661529, 2093999395, -1970729040, -909389145, -1218034283, -412247815, -1889754872, -1412197014, 234741768, -537625219, -2008116730, -1420106242, -1050403971, 1716026451, 1597693653, -1415672694, -1451027010, -1776962958, 724549955, 1487753493, 1288975076, 421707554, -468355945, 1339610603, -1870739563, -822930518, 1316870074, -153751068, 1219654183, 1374851538, 581328656, -1142411681, -277022705, 2099707358, 418804256, -2116265008, -2005527664, 724774966, -1459894289, -750859215, -1515511400, -700171554, -2019455113, 2006353056, -410124049, 834017371, 1556629097, 124971066, 1636498628, 493224886, 104701069, 584996173, -1540477776, -1279623911, -855114809, 384817976, 105163157, -1337212915, -823606739, 1923145466, 2007846943, -1889754872, -1412197014, 234741768, 1341849766, -514523983, -1198449603, 1914444851, 929604419, 1752460673, -1040217771, 1785427519, 1800578200, 565326649, 1828873908, -1260434555, -455580583, 2017200019, 1336420430, 1708643620, -1344103364, -1753485265, -1260434555, -455580583, 2017200019, 1336420430, -1927693493, 840597401, 372058418, 915744992, 779154405, 1044383395, 103433541, -356976238, -1050682318, 2112435868, -1855287594, -1109290851, -2039361541, 862954346, 1798395173, 1767521838, 216604406, 886483282, 1154490631, -470558593, 1895728335, 1350113872, 1265775334, -756699288, 1782529052, -265961812, 431783395, -786234496, -1023775220, 399256895, -1814742340, 1769907607, -1119294141, -616390764, -1827029039, 455820683, -518602821, -1813114990, 834017371, 2048143097, 1169406026, -422155306, -962322070, -67344985, 1524540457, -168714679, -923991344, -1669265014, 774129182, 1634477531, -1344075050, -2065365951, 1015981579]\n"
          ],
          "name": "stdout"
        }
      ]
    },
    {
      "cell_type": "code",
      "metadata": {
        "colab": {
          "base_uri": "https://localhost:8080/"
        },
        "id": "z8ptS6j6Sl01",
        "outputId": "4d3539ae-9469-4c31-bcc4-2ce38825cf76"
      },
      "source": [
        "start = time.time()\n",
        "signatures = []\n",
        "max_shingle_id = 2 ** 32 - 1\n",
        "\n",
        "next_prime = 4294967311\n",
        "\n",
        "def pick_random_coeffs(k):\n",
        "    rand_list = []\n",
        "\n",
        "    while k > 0:\n",
        "        rand_index = random.randint(0, max_shingle_id)\n",
        "\n",
        "        while rand_index in rand_list:\n",
        "            rand_index = random.randint(0, max_shingle_id)\n",
        "\n",
        "        rand_list.append(rand_index)\n",
        "        k = k - 1\n",
        "    return rand_list\n",
        "\n",
        "coeff_a = pick_random_coeffs(10)\n",
        "coeff_b = pick_random_coeffs(10)\n",
        "\n",
        "for document in doc_hashed:\n",
        "  signature =[]\n",
        "  for i in range(0, 10):\n",
        "    min_hash_code = next_prime + 1\n",
        "    for shingle in document: \n",
        "      hash_code = (coeff_a[i] * shingle + coeff_b[i]) % next_prime\n",
        "      if hash_code < min_hash_code:\n",
        "        min_hash_code = hash_code\n",
        "    signature.append(min_hash_code)\n",
        "  signatures.append(signature)\n",
        "end = time.time()\n",
        "print(signatures[0])\n",
        "print(len(signatures),len(signatures[0]))\n",
        "print(\"Minhash completed in : {:.4f} sec\".format(end - start))"
      ],
      "execution_count": 16,
      "outputs": [
        {
          "output_type": "stream",
          "text": [
            "[3800170, 9964899, 4306758, 6029996, 290362, 19139444, 2422899, 3704649, 7208066, 10448618]\n",
            "20 10\n",
            "Minhash completed in : 0.0933 sec\n"
          ],
          "name": "stdout"
        }
      ]
    },
    {
      "cell_type": "code",
      "metadata": {
        "id": "neZ-CUwnO5Fp"
      },
      "source": [
        "def jaccardSim(d1,d2):\n",
        "    return len(d1.intersection(d2))/len(d1.union(d2))   "
      ],
      "execution_count": 17,
      "outputs": []
    },
    {
      "cell_type": "code",
      "metadata": {
        "colab": {
          "base_uri": "https://localhost:8080/"
        },
        "id": "pBF7eoo8QH94",
        "outputId": "8d26d7b6-dcb0-4a1c-d58d-6f391ec79e2f"
      },
      "source": [
        "sims = jaccardSim(set(signatures[0]), set(signatures[1])) \n",
        "sims"
      ],
      "execution_count": 18,
      "outputs": [
        {
          "output_type": "execute_result",
          "data": {
            "text/plain": [
              "0.0"
            ]
          },
          "metadata": {
            "tags": []
          },
          "execution_count": 18
        }
      ]
    },
    {
      "cell_type": "code",
      "metadata": {
        "id": "p1FFcp27fd7y"
      },
      "source": [
        "def initialize_array_bucket(bands):\n",
        "    len_buckets = 101\n",
        "    array_buckets = []\n",
        "    for band in range(bands):\n",
        "        array_buckets.append([[] for i in range(len_buckets)])\n",
        "    return array_buckets"
      ],
      "execution_count": 19,
      "outputs": []
    },
    {
      "cell_type": "code",
      "metadata": {
        "colab": {
          "base_uri": "https://localhost:8080/"
        },
        "id": "MJgiuk7xcFef",
        "outputId": "60103a44-2079-4a55-b7fe-b681af90ae11"
      },
      "source": [
        "def apply_LSH_technique(signatures,t,bands,rows):\n",
        "    if bands * rows != len(signatures):\n",
        "        print('split to bands error.')\n",
        "\n",
        "    array_buckets = initialize_array_bucket(bands)\n",
        "\n",
        "    # hash_funcs = pick_random_coeffs(10);\n",
        "\n",
        "\n",
        "    candidates = {}\n",
        "    \n",
        "    i = 0\n",
        "    for b in range(bands):\n",
        "        buckets = array_buckets[b]        \n",
        "        band = np.array(signatures)[i:i+rows,:]\n",
        "        for col in range(band.shape[1]):    \n",
        "            \n",
        "            key = int(sum(band[:,col]) % len(buckets))\n",
        "            \n",
        "            buckets[key].append(col)\n",
        "        i = i+rows\n",
        "\n",
        "        for item in buckets:\n",
        "            if len(item) > 1:\n",
        "                pair = (item[0], item[1])\n",
        "                if pair not in candidates:\n",
        "                    A = np.array(signatures)[:,item[0]]\n",
        "                    B = np.array(signatures)[:,item[1]]\n",
        "                    similarity = cosine_distance(A,B)\n",
        "                    if similarity >= t:\n",
        "                        candidates[pair] = similarity\n",
        "\n",
        "\n",
        "    sort = sorted(candidates.items(),key=itemgetter(1), reverse=True)\n",
        "\n",
        "    return candidates,sort\n",
        "\n",
        "def euclidean_distance(x,y,r=2.0):\n",
        "    try:\n",
        "        \n",
        "        return sum(((x[i] - y[i]) ** r) for i in range(len(x))) ** (1.0/r)\n",
        "    \n",
        "    except (ValueError,ZeroDivisionError):\n",
        "        print ('Please, enter only even values for \"r > 0\".')\n",
        "    except IndexError:\n",
        "        print ('Please, the sets must have the same size.')\n",
        "\n",
        "def cosine_distance(x,y):\n",
        "    prodAB = sum([x[i]*y[i] for i in range(len(x))])\n",
        "    zeros = [0 for i in range(len(x))]\n",
        "    A = euclidean_distance(x,zeros)\n",
        "    B = euclidean_distance(y,zeros)\n",
        "    return prodAB / (A*B)\n",
        "\n",
        "start = time.time()\n",
        "candidates, sort = apply_LSH_technique(signatures, 0.3, 4, 5)\n",
        "end = time.time()\n",
        "print(candidates)\n",
        "print(\"LSH completed in: {:.4f}\".format(end - start))"
      ],
      "execution_count": 24,
      "outputs": [
        {
          "output_type": "stream",
          "text": [
            "{(4, 7): 0.33585297927870256}\n",
            "LSH completed in: 0.0012\n"
          ],
          "name": "stdout"
        }
      ]
    },
    {
      "cell_type": "code",
      "metadata": {
        "id": "7sxxH_o1veKb"
      },
      "source": [
        ""
      ],
      "execution_count": 20,
      "outputs": []
    },
    {
      "cell_type": "code",
      "metadata": {
        "id": "owmwcN5Ut9QF"
      },
      "source": [
        "# def crawNewsData(baseUrl, url):\n",
        "#     response = requests.get(url)\n",
        "#     soup = BeautifulSoup(response.content, \"html.parser\")\n",
        "\n",
        "#     titles = soup.findAll('h3', class_='title-news')\n",
        "#     links = [link.find('a').attrs[\"href\"] for link in titles]\n",
        "#     data = []\n",
        "#     for link in links:\n",
        "#         news = requests.get(baseUrl + link)\n",
        "#         soup = BeautifulSoup(news.content, \"html.parser\")\n",
        "#         title = soup.find(\"h1\", class_=\"article-title\").text\n",
        "#         abstract = soup.find(\"h2\", class_=\"sapo\").text\n",
        "#         body = soup.find(\"div\", id=\"main-detail-body\")\n",
        "#         content = \"\"\n",
        "#         try:\n",
        "#             contents = body.findAll(\"p\", recursive=False)\n",
        "#             contents = [content.text for content in contents]\n",
        "#             content = ('').join(contents)\n",
        "#         except:\n",
        "#             content = \"\"\n",
        "#         data.append({\n",
        "#             \"title\": title,\n",
        "#             \"abstract\": abstract,\n",
        "#             \"content\": content,\n",
        "#         })\n",
        "#     return data"
      ],
      "execution_count": 21,
      "outputs": []
    }
  ]
}