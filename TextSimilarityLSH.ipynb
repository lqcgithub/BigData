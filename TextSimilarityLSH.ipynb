{
  "nbformat": 4,
  "nbformat_minor": 0,
  "metadata": {
    "colab": {
      "name": "TextSimilarityLSH.ipynb",
      "provenance": [],
      "collapsed_sections": [],
      "authorship_tag": "ABX9TyN9A2q/g9T1CDX41rP+c9t+",
      "include_colab_link": true
    },
    "kernelspec": {
      "name": "python3",
      "display_name": "Python 3"
    }
  },
  "cells": [
    {
      "cell_type": "markdown",
      "metadata": {
        "id": "view-in-github",
        "colab_type": "text"
      },
      "source": [
        "<a href=\"https://colab.research.google.com/github/lqcgithub/MiningofMassiveDatasets/blob/main/TextSimilarityLSH.ipynb\" target=\"_parent\"><img src=\"https://colab.research.google.com/assets/colab-badge.svg\" alt=\"Open In Colab\"/></a>"
      ]
    },
    {
      "cell_type": "markdown",
      "metadata": {
        "id": "echGsTg6uVB4"
      },
      "source": [
        ""
      ]
    },
    {
      "cell_type": "code",
      "metadata": {
        "colab": {
          "base_uri": "https://localhost:8080/"
        },
        "id": "vyRwS6eWvpPb",
        "outputId": "1371ba60-df1d-4c5f-be55-bd18582ab69e"
      },
      "source": [
        "pip install beautifulsoup4"
      ],
      "execution_count": 25,
      "outputs": [
        {
          "output_type": "stream",
          "text": [
            "Requirement already satisfied: beautifulsoup4 in /usr/local/lib/python3.7/dist-packages (4.6.3)\n"
          ],
          "name": "stdout"
        }
      ]
    },
    {
      "cell_type": "code",
      "metadata": {
        "colab": {
          "base_uri": "https://localhost:8080/"
        },
        "id": "eE3j9_7tCewn",
        "outputId": "52065220-5e81-4f66-8ef8-ed9a208e8171"
      },
      "source": [
        "pip install pyspark"
      ],
      "execution_count": 26,
      "outputs": [
        {
          "output_type": "stream",
          "text": [
            "Requirement already satisfied: pyspark in /usr/local/lib/python3.7/dist-packages (3.1.1)\n",
            "Requirement already satisfied: py4j==0.10.9 in /usr/local/lib/python3.7/dist-packages (from pyspark) (0.10.9)\n"
          ],
          "name": "stdout"
        }
      ]
    },
    {
      "cell_type": "code",
      "metadata": {
        "colab": {
          "base_uri": "https://localhost:8080/"
        },
        "id": "5QZBWFS0BMkb",
        "outputId": "3b8dd39f-545b-410c-92a0-a246e64224b4"
      },
      "source": [
        "pip install mmh3"
      ],
      "execution_count": 27,
      "outputs": [
        {
          "output_type": "stream",
          "text": [
            "Requirement already satisfied: mmh3 in /usr/local/lib/python3.7/dist-packages (3.0.0)\n"
          ],
          "name": "stdout"
        }
      ]
    },
    {
      "cell_type": "code",
      "metadata": {
        "id": "WhiSIN_ExYmo"
      },
      "source": [
        "import requests\n",
        "from bs4 import BeautifulSoup"
      ],
      "execution_count": 28,
      "outputs": []
    },
    {
      "cell_type": "code",
      "metadata": {
        "id": "-88_CK1hCiFv"
      },
      "source": [
        "import pyspark\n",
        "from pyspark import SparkConf, SparkContext"
      ],
      "execution_count": 29,
      "outputs": []
    },
    {
      "cell_type": "code",
      "metadata": {
        "id": "QN5tYa0RHR1r"
      },
      "source": [
        "import re\n",
        "import numpy as np\n",
        "import collections\n",
        "import random\n",
        "from operator import itemgetter"
      ],
      "execution_count": 30,
      "outputs": []
    },
    {
      "cell_type": "code",
      "metadata": {
        "id": "Q8S3lI_ctaHk"
      },
      "source": [
        "import nltk\n",
        "from nltk import ngrams\n",
        "import mmh3\n",
        "import time"
      ],
      "execution_count": 31,
      "outputs": []
    },
    {
      "cell_type": "code",
      "metadata": {
        "id": "bBiFOj80C2RM"
      },
      "source": [
        "conf = SparkConf().setMaster(\"local\").setAppName(\"Market Basket with Apriori\")\n",
        "sc = SparkContext.getOrCreate(conf=conf)"
      ],
      "execution_count": 32,
      "outputs": []
    },
    {
      "cell_type": "code",
      "metadata": {
        "id": "s6wegdagv2Fn"
      },
      "source": [
        "baseUrl = \"https://tuoitre.vn\"\n",
        "url = \"https://tuoitre.vn/tin-moi-nhat.htm\""
      ],
      "execution_count": 33,
      "outputs": []
    },
    {
      "cell_type": "code",
      "metadata": {
        "id": "QIIh3kdQzeDR"
      },
      "source": [
        "response = requests.get(url)\n",
        "soup = BeautifulSoup(response.content, \"html.parser\")\n",
        "\n",
        "titles = soup.findAll('h3', class_='title-news')\n",
        "links = [link.find('a').attrs[\"href\"] for link in titles]\n",
        "data = []\n",
        "\n",
        "for link in links:\n",
        "  news = requests.get(baseUrl + link)\n",
        "  soup = BeautifulSoup(news.content, \"html.parser\")\n",
        "  if (soup.find(\"h1\", class_=\"article-title\")is not None):\n",
        "    title = soup.find(\"h1\", class_=\"article-title\").text\n",
        "    abstract = soup.find(\"h2\", class_=\"sapo\").text\n",
        "    body = soup.find(\"div\", id=\"main-detail-body\")\n",
        "    contents = body.findAll(\"p\", recursive=False)\n",
        "    contents = [content.text for content in contents]\n",
        "    content = ('').join(contents)\n",
        "    data.append({\n",
        "        \"title\": title,\n",
        "        \"abstract\": abstract,\n",
        "        \"content\": content,\n",
        "    })"
      ],
      "execution_count": 34,
      "outputs": []
    },
    {
      "cell_type": "code",
      "metadata": {
        "colab": {
          "base_uri": "https://localhost:8080/"
        },
        "id": "Bx6-nflbBppJ",
        "outputId": "700cfee5-f788-45eb-b885-08f0badfcdd5"
      },
      "source": [
        "print(data[0][\"content\"])"
      ],
      "execution_count": 35,
      "outputs": [
        {
          "output_type": "stream",
          "text": [
            "Tùy vào trình độ bịp, các thiết bị này được người bán ra giá từ vài triệu đến hàng chục triệu đồng với cam kết \"hàng\" rất \"an toàn\", không gây hại đến sức khỏe người sử dụng! Tuy nhiên, người mua các thiết bị cờ bạc bịp này cũng có thể \"ăn quả lừa\" của người bán, chưa kể nguy cơ khi tiếp xúc các thiết bị này có thể chứa chất phóng xạ.Rao bán tràn lan trên mạngĐầu tháng 3, sau khi liên hệ với ông T., người đăng video trên mạng chào bán đồ chơi \"xóc đĩa bịp - máy chụp X-quang nhìn xuyên đĩa\", chúng tôi được hẹn đến cổng bến xe Miền Đông (TP.HCM) để đưa đi xem hàng. Tại điểm hẹn, chúng tôi được một nam thanh niên đi xe máy ra đón, dẫn về một chung cư trên đường Nguyễn Xí (quận Bình Thạnh).Sau khi ngồi đợi tại quán cà phê ở tầng trệt chung cư như yêu cầu, chúng tôi được một thanh niên khác dẫn lên căn hộ ở tầng 21. Một thanh niên lấy ra thiết bị màu đen nhỏ bằng ngón tay và giới thiệu đây là máy chơi cờ bạc bịp mới nhất, giá 7 triệu đồng, có thể báo (rung) cho người chơi kết quả chính xác ở khoảng cách 4m.Theo đó, chỉ cần bật khởi động máy trước khi chơi, máy nháy đèn đỏ thì quét mặt quân vị (quân bài) mà sòng sẽ chơi, khi nào máy quét được quân vị trên sẽ báo rung. Máy rung hai lần, kết quả là chẵn và rung một lần là lẻ. Riêng máy bạc bịp X-quang soi xuyên đĩa (giá 20 triệu đồng/máy) không có hàng. \"Khách muốn mua phải đặt cọc trước 5 triệu đồng, khoảng 3 ngày sau sẽ có hàng\" - người này nói.Chúng tôi cũng được một người tên V. giới thiệu thiết bị chơi xóc đĩa bịp sử dụng công nghệ laser tia hồng ngoại nhập từ nước ngoài. Người chơi chỉ cần mang thiết bị nhỏ gọn vào sòng, không cần \"luồn\" bát, đĩa hoặc quân vị. \"Khách muốn mua hàng có thể đến bến xe Miền Đông, sau đó sẽ có nhân viên của tui ra đón. Hàng ít tiền sẽ có sai lệch, hàng nhiều tiền mới chuẩn 100% nhé\" - ông V. bảo.Nhiều nguy cơ với sức khỏeTheo TS Đặng Thanh Lương (nguyên phó cục trưởng Cục An toàn bức xạ và hạt nhân, Bộ Khoa học và công nghệ), thời gian qua cơ quan chức năng tại một số quốc gia đã phát hiện và ghi nhận thiết bị cờ bạc bịp có sử dụng nguồn phóng xạ như Strontium-90 hoặc sử dụng nguồn Iốt-125. Tại Việt Nam, Cục An toàn bức xạ và hạt nhân từng phát hiện việc sử dụng chất phóng xạ trong thiết bị cờ bạc bịp.Nguồn phóng xạ này được xếp vào nhóm có mức độ nguy hiểm, dễ gây nhiễm bẩn môi trường và gây hại cho người khi tiếp xúc trực tiếp. Việc mua bán trái phép chất phóng xạ là hành vi nghiêm cấm. Cơ quan chức năng cũng đã xử lý hình sự người mua bán dụng cụ cờ bạc bịp về hành vi mua bán trái phép chất phóng xạ. Tháng 10-2020, tại TP.HCM từng ghi nhận một số bệnh nhân bị viêm loét đùi khi tiếp xúc nguồn phóng xạ.Theo PGS.TS Nguyễn Hữu Đức (nguyên giảng viên chính khoa dược Trường ĐH Y dược TP.HCM), người tiếp xúc với chất phóng xạ có thể bị thay đổi cấu trúc tế bào, tác động đến chức năng sinh sản... thậm chí có thể bị ảnh hưởng đến tính mạng. \"Để bảo vệ sức khỏe cho mình và cho cộng đồng, người dân nên tránh xa các chất phóng xạ cũng như những gì liên quan đến phóng xạ\", ông Đức nói.Luật sư Nguyễn Hồng Lĩnh (Đoàn luật sư TP.HCM) cảnh báo nếu thiết bị cờ bạc bịp có chứa chất phóng xạ, người mua bán, tàng trữ trái phép sẽ bị xử lý theo điều 309 Bộ luật hình sự 2015 (đã sửa đổi, bổ sung) quy định về tội sản xuất, tàng trữ, vận chuyển, sử dụng, phát tán, mua bán trái phép hoặc chiếm đoạt chất phóng xạ, vật liệu hạt nhân.\n"
          ],
          "name": "stdout"
        }
      ]
    },
    {
      "cell_type": "code",
      "metadata": {
        "id": "lh9adekZHCBc"
      },
      "source": [
        "def preprocess(document):\n",
        "    document = re.sub(r'[^\\w\\s]','',document)\n",
        "    tokens = document.lower()\n",
        "    tokens = tokens.split()\n",
        "    return tokens"
      ],
      "execution_count": 36,
      "outputs": []
    },
    {
      "cell_type": "code",
      "metadata": {
        "colab": {
          "base_uri": "https://localhost:8080/"
        },
        "id": "PmDt0vgbIqi7",
        "outputId": "67ede923-2c8b-4262-e1a4-378beb783ba9"
      },
      "source": [
        "document = \"Trận này, Leicester áp đảo ngay sau tiếng còi khai cuộc. Đây cũng là điều dễ hiểu, bởi đối thủ của họ - Sheffield United là đội bóng đang xếp cuối bảng và gần như cầm chắc vé xuống hạng khi kém nhóm an toàn tới 14 điểm.Phút 12, cơ hội mở tỉ số đến với Leicester sau pha dàn xếp tấn công bên cánh trái. Nhưng may mắn đã không đứng về phía đội chủ nhà khi pha đánh đầu về góc xa của Ayoze Perez lại đưa bóng trúng cột dọc khung thành.  Những phút sau đó, Leicester tiếp tục tấn công và tạo ra thêm nhiều tình huống nguy hiểm nữa. Dù áp đảo hoàn toàn, nhưng phải đến cuối hiệp 1 các học trò HLV Brendan Rodgers mới đưa được bóng vào lưới khung thành thủ môn Aaron Ramsdale.  Phút 39, từ pha lên bóng bên cánh trái, Jamie Vardy bứt tốc xâm nhập vòng cấm đón đường chọc khe của đồng đội rồi thực hiện đường căng ngang vào giữa. Trong tư thế không người kèm, Kelechi Iheanacho dễ dàng ập vào đệm bóng tung lưới thủ môn Aaron Ramsdale từ cự li gần, mở tỉ số cho Leicester.  Bị thủng lưới, Sheffield United đẩy cao đội hình tấn công trong hiệp 2 và cơ hội tiếp tục đến với Leicester khi hàng phòng ngự đội khách để lộ ra nhiều khoảng trống.  Phút 64, sau vài cơ hội bị bỏ lỡ, đội chủ nhà cũng đã có bàn thắng nhân đôi cách biệt nhờ công tiền vệ Ayoze Perez với pha dứt điểm hiểm hóc ngay mép vòng cấm sau tình huống phản công bên cánh phải.  Sau bàn thua này, các cầu thủ Sheffield United càng thi đấu thiếu tập trung, đặc biệt là trong phòng ngự.  Hệ quả, chỉ trong 11 phút từ 69 đến 80, lưới của thủ môn Aaron Ramsdale đã phải rung lên thêm 3 lần nữa sau những cú dứt điểm trong tư thế vô cùng thoải mái của Kelechi Iheanacho (phút 69 và 78) và Jamie Vardy (phút 80), giúp Leicester khép lại trận đấu với chiến thắng cách biệt 5-0.  Thắng trận này, Leicester đã tạm vượt qua Manchester United (chưa đá vòng 28) để vươn lên vị trí thứ hai trên bảng xếp hạng với 56 điểm, hơn Man Utd 2 điểm và kém đội đầu bảng Man City 15 điểm. \"\n",
        "preprocess(document)[0:5]"
      ],
      "execution_count": 37,
      "outputs": [
        {
          "output_type": "execute_result",
          "data": {
            "text/plain": [
              "['trận', 'này', 'leicester', 'áp', 'đảo']"
            ]
          },
          "metadata": {
            "tags": []
          },
          "execution_count": 37
        }
      ]
    },
    {
      "cell_type": "code",
      "metadata": {
        "colab": {
          "base_uri": "https://localhost:8080/"
        },
        "id": "JwL91yREulT3",
        "outputId": "0070852f-628e-42c5-d56f-966040609bbd"
      },
      "source": [
        "doc_as_shingles = []\n",
        "for document in data:\n",
        "  tokens = preprocess(document['content'])\n",
        "  shingles = ngrams(tokens, 3)\n",
        "  doc_as_shingles.append(list(shingles))\n",
        "print(doc_as_shingles[0])"
      ],
      "execution_count": 38,
      "outputs": [
        {
          "output_type": "stream",
          "text": [
            "[('tùy', 'vào', 'trình'), ('vào', 'trình', 'độ'), ('trình', 'độ', 'bịp'), ('độ', 'bịp', 'các'), ('bịp', 'các', 'thiết'), ('các', 'thiết', 'bị'), ('thiết', 'bị', 'này'), ('bị', 'này', 'được'), ('này', 'được', 'người'), ('được', 'người', 'bán'), ('người', 'bán', 'ra'), ('bán', 'ra', 'giá'), ('ra', 'giá', 'từ'), ('giá', 'từ', 'vài'), ('từ', 'vài', 'triệu'), ('vài', 'triệu', 'đến'), ('triệu', 'đến', 'hàng'), ('đến', 'hàng', 'chục'), ('hàng', 'chục', 'triệu'), ('chục', 'triệu', 'đồng'), ('triệu', 'đồng', 'với'), ('đồng', 'với', 'cam'), ('với', 'cam', 'kết'), ('cam', 'kết', 'hàng'), ('kết', 'hàng', 'rất'), ('hàng', 'rất', 'an'), ('rất', 'an', 'toàn'), ('an', 'toàn', 'không'), ('toàn', 'không', 'gây'), ('không', 'gây', 'hại'), ('gây', 'hại', 'đến'), ('hại', 'đến', 'sức'), ('đến', 'sức', 'khỏe'), ('sức', 'khỏe', 'người'), ('khỏe', 'người', 'sử'), ('người', 'sử', 'dụng'), ('sử', 'dụng', 'tuy'), ('dụng', 'tuy', 'nhiên'), ('tuy', 'nhiên', 'người'), ('nhiên', 'người', 'mua'), ('người', 'mua', 'các'), ('mua', 'các', 'thiết'), ('các', 'thiết', 'bị'), ('thiết', 'bị', 'cờ'), ('bị', 'cờ', 'bạc'), ('cờ', 'bạc', 'bịp'), ('bạc', 'bịp', 'này'), ('bịp', 'này', 'cũng'), ('này', 'cũng', 'có'), ('cũng', 'có', 'thể'), ('có', 'thể', 'ăn'), ('thể', 'ăn', 'quả'), ('ăn', 'quả', 'lừa'), ('quả', 'lừa', 'của'), ('lừa', 'của', 'người'), ('của', 'người', 'bán'), ('người', 'bán', 'chưa'), ('bán', 'chưa', 'kể'), ('chưa', 'kể', 'nguy'), ('kể', 'nguy', 'cơ'), ('nguy', 'cơ', 'khi'), ('cơ', 'khi', 'tiếp'), ('khi', 'tiếp', 'xúc'), ('tiếp', 'xúc', 'các'), ('xúc', 'các', 'thiết'), ('các', 'thiết', 'bị'), ('thiết', 'bị', 'này'), ('bị', 'này', 'có'), ('này', 'có', 'thể'), ('có', 'thể', 'chứa'), ('thể', 'chứa', 'chất'), ('chứa', 'chất', 'phóng'), ('chất', 'phóng', 'xạrao'), ('phóng', 'xạrao', 'bán'), ('xạrao', 'bán', 'tràn'), ('bán', 'tràn', 'lan'), ('tràn', 'lan', 'trên'), ('lan', 'trên', 'mạngđầu'), ('trên', 'mạngđầu', 'tháng'), ('mạngđầu', 'tháng', '3'), ('tháng', '3', 'sau'), ('3', 'sau', 'khi'), ('sau', 'khi', 'liên'), ('khi', 'liên', 'hệ'), ('liên', 'hệ', 'với'), ('hệ', 'với', 'ông'), ('với', 'ông', 't'), ('ông', 't', 'người'), ('t', 'người', 'đăng'), ('người', 'đăng', 'video'), ('đăng', 'video', 'trên'), ('video', 'trên', 'mạng'), ('trên', 'mạng', 'chào'), ('mạng', 'chào', 'bán'), ('chào', 'bán', 'đồ'), ('bán', 'đồ', 'chơi'), ('đồ', 'chơi', 'xóc'), ('chơi', 'xóc', 'đĩa'), ('xóc', 'đĩa', 'bịp'), ('đĩa', 'bịp', 'máy'), ('bịp', 'máy', 'chụp'), ('máy', 'chụp', 'xquang'), ('chụp', 'xquang', 'nhìn'), ('xquang', 'nhìn', 'xuyên'), ('nhìn', 'xuyên', 'đĩa'), ('xuyên', 'đĩa', 'chúng'), ('đĩa', 'chúng', 'tôi'), ('chúng', 'tôi', 'được'), ('tôi', 'được', 'hẹn'), ('được', 'hẹn', 'đến'), ('hẹn', 'đến', 'cổng'), ('đến', 'cổng', 'bến'), ('cổng', 'bến', 'xe'), ('bến', 'xe', 'miền'), ('xe', 'miền', 'đông'), ('miền', 'đông', 'tphcm'), ('đông', 'tphcm', 'để'), ('tphcm', 'để', 'đưa'), ('để', 'đưa', 'đi'), ('đưa', 'đi', 'xem'), ('đi', 'xem', 'hàng'), ('xem', 'hàng', 'tại'), ('hàng', 'tại', 'điểm'), ('tại', 'điểm', 'hẹn'), ('điểm', 'hẹn', 'chúng'), ('hẹn', 'chúng', 'tôi'), ('chúng', 'tôi', 'được'), ('tôi', 'được', 'một'), ('được', 'một', 'nam'), ('một', 'nam', 'thanh'), ('nam', 'thanh', 'niên'), ('thanh', 'niên', 'đi'), ('niên', 'đi', 'xe'), ('đi', 'xe', 'máy'), ('xe', 'máy', 'ra'), ('máy', 'ra', 'đón'), ('ra', 'đón', 'dẫn'), ('đón', 'dẫn', 'về'), ('dẫn', 'về', 'một'), ('về', 'một', 'chung'), ('một', 'chung', 'cư'), ('chung', 'cư', 'trên'), ('cư', 'trên', 'đường'), ('trên', 'đường', 'nguyễn'), ('đường', 'nguyễn', 'xí'), ('nguyễn', 'xí', 'quận'), ('xí', 'quận', 'bình'), ('quận', 'bình', 'thạnhsau'), ('bình', 'thạnhsau', 'khi'), ('thạnhsau', 'khi', 'ngồi'), ('khi', 'ngồi', 'đợi'), ('ngồi', 'đợi', 'tại'), ('đợi', 'tại', 'quán'), ('tại', 'quán', 'cà'), ('quán', 'cà', 'phê'), ('cà', 'phê', 'ở'), ('phê', 'ở', 'tầng'), ('ở', 'tầng', 'trệt'), ('tầng', 'trệt', 'chung'), ('trệt', 'chung', 'cư'), ('chung', 'cư', 'như'), ('cư', 'như', 'yêu'), ('như', 'yêu', 'cầu'), ('yêu', 'cầu', 'chúng'), ('cầu', 'chúng', 'tôi'), ('chúng', 'tôi', 'được'), ('tôi', 'được', 'một'), ('được', 'một', 'thanh'), ('một', 'thanh', 'niên'), ('thanh', 'niên', 'khác'), ('niên', 'khác', 'dẫn'), ('khác', 'dẫn', 'lên'), ('dẫn', 'lên', 'căn'), ('lên', 'căn', 'hộ'), ('căn', 'hộ', 'ở'), ('hộ', 'ở', 'tầng'), ('ở', 'tầng', '21'), ('tầng', '21', 'một'), ('21', 'một', 'thanh'), ('một', 'thanh', 'niên'), ('thanh', 'niên', 'lấy'), ('niên', 'lấy', 'ra'), ('lấy', 'ra', 'thiết'), ('ra', 'thiết', 'bị'), ('thiết', 'bị', 'màu'), ('bị', 'màu', 'đen'), ('màu', 'đen', 'nhỏ'), ('đen', 'nhỏ', 'bằng'), ('nhỏ', 'bằng', 'ngón'), ('bằng', 'ngón', 'tay'), ('ngón', 'tay', 'và'), ('tay', 'và', 'giới'), ('và', 'giới', 'thiệu'), ('giới', 'thiệu', 'đây'), ('thiệu', 'đây', 'là'), ('đây', 'là', 'máy'), ('là', 'máy', 'chơi'), ('máy', 'chơi', 'cờ'), ('chơi', 'cờ', 'bạc'), ('cờ', 'bạc', 'bịp'), ('bạc', 'bịp', 'mới'), ('bịp', 'mới', 'nhất'), ('mới', 'nhất', 'giá'), ('nhất', 'giá', '7'), ('giá', '7', 'triệu'), ('7', 'triệu', 'đồng'), ('triệu', 'đồng', 'có'), ('đồng', 'có', 'thể'), ('có', 'thể', 'báo'), ('thể', 'báo', 'rung'), ('báo', 'rung', 'cho'), ('rung', 'cho', 'người'), ('cho', 'người', 'chơi'), ('người', 'chơi', 'kết'), ('chơi', 'kết', 'quả'), ('kết', 'quả', 'chính'), ('quả', 'chính', 'xác'), ('chính', 'xác', 'ở'), ('xác', 'ở', 'khoảng'), ('ở', 'khoảng', 'cách'), ('khoảng', 'cách', '4mtheo'), ('cách', '4mtheo', 'đó'), ('4mtheo', 'đó', 'chỉ'), ('đó', 'chỉ', 'cần'), ('chỉ', 'cần', 'bật'), ('cần', 'bật', 'khởi'), ('bật', 'khởi', 'động'), ('khởi', 'động', 'máy'), ('động', 'máy', 'trước'), ('máy', 'trước', 'khi'), ('trước', 'khi', 'chơi'), ('khi', 'chơi', 'máy'), ('chơi', 'máy', 'nháy'), ('máy', 'nháy', 'đèn'), ('nháy', 'đèn', 'đỏ'), ('đèn', 'đỏ', 'thì'), ('đỏ', 'thì', 'quét'), ('thì', 'quét', 'mặt'), ('quét', 'mặt', 'quân'), ('mặt', 'quân', 'vị'), ('quân', 'vị', 'quân'), ('vị', 'quân', 'bài'), ('quân', 'bài', 'mà'), ('bài', 'mà', 'sòng'), ('mà', 'sòng', 'sẽ'), ('sòng', 'sẽ', 'chơi'), ('sẽ', 'chơi', 'khi'), ('chơi', 'khi', 'nào'), ('khi', 'nào', 'máy'), ('nào', 'máy', 'quét'), ('máy', 'quét', 'được'), ('quét', 'được', 'quân'), ('được', 'quân', 'vị'), ('quân', 'vị', 'trên'), ('vị', 'trên', 'sẽ'), ('trên', 'sẽ', 'báo'), ('sẽ', 'báo', 'rung'), ('báo', 'rung', 'máy'), ('rung', 'máy', 'rung'), ('máy', 'rung', 'hai'), ('rung', 'hai', 'lần'), ('hai', 'lần', 'kết'), ('lần', 'kết', 'quả'), ('kết', 'quả', 'là'), ('quả', 'là', 'chẵn'), ('là', 'chẵn', 'và'), ('chẵn', 'và', 'rung'), ('và', 'rung', 'một'), ('rung', 'một', 'lần'), ('một', 'lần', 'là'), ('lần', 'là', 'lẻ'), ('là', 'lẻ', 'riêng'), ('lẻ', 'riêng', 'máy'), ('riêng', 'máy', 'bạc'), ('máy', 'bạc', 'bịp'), ('bạc', 'bịp', 'xquang'), ('bịp', 'xquang', 'soi'), ('xquang', 'soi', 'xuyên'), ('soi', 'xuyên', 'đĩa'), ('xuyên', 'đĩa', 'giá'), ('đĩa', 'giá', '20'), ('giá', '20', 'triệu'), ('20', 'triệu', 'đồngmáy'), ('triệu', 'đồngmáy', 'không'), ('đồngmáy', 'không', 'có'), ('không', 'có', 'hàng'), ('có', 'hàng', 'khách'), ('hàng', 'khách', 'muốn'), ('khách', 'muốn', 'mua'), ('muốn', 'mua', 'phải'), ('mua', 'phải', 'đặt'), ('phải', 'đặt', 'cọc'), ('đặt', 'cọc', 'trước'), ('cọc', 'trước', '5'), ('trước', '5', 'triệu'), ('5', 'triệu', 'đồng'), ('triệu', 'đồng', 'khoảng'), ('đồng', 'khoảng', '3'), ('khoảng', '3', 'ngày'), ('3', 'ngày', 'sau'), ('ngày', 'sau', 'sẽ'), ('sau', 'sẽ', 'có'), ('sẽ', 'có', 'hàng'), ('có', 'hàng', 'người'), ('hàng', 'người', 'này'), ('người', 'này', 'nóichúng'), ('này', 'nóichúng', 'tôi'), ('nóichúng', 'tôi', 'cũng'), ('tôi', 'cũng', 'được'), ('cũng', 'được', 'một'), ('được', 'một', 'người'), ('một', 'người', 'tên'), ('người', 'tên', 'v'), ('tên', 'v', 'giới'), ('v', 'giới', 'thiệu'), ('giới', 'thiệu', 'thiết'), ('thiệu', 'thiết', 'bị'), ('thiết', 'bị', 'chơi'), ('bị', 'chơi', 'xóc'), ('chơi', 'xóc', 'đĩa'), ('xóc', 'đĩa', 'bịp'), ('đĩa', 'bịp', 'sử'), ('bịp', 'sử', 'dụng'), ('sử', 'dụng', 'công'), ('dụng', 'công', 'nghệ'), ('công', 'nghệ', 'laser'), ('nghệ', 'laser', 'tia'), ('laser', 'tia', 'hồng'), ('tia', 'hồng', 'ngoại'), ('hồng', 'ngoại', 'nhập'), ('ngoại', 'nhập', 'từ'), ('nhập', 'từ', 'nước'), ('từ', 'nước', 'ngoài'), ('nước', 'ngoài', 'người'), ('ngoài', 'người', 'chơi'), ('người', 'chơi', 'chỉ'), ('chơi', 'chỉ', 'cần'), ('chỉ', 'cần', 'mang'), ('cần', 'mang', 'thiết'), ('mang', 'thiết', 'bị'), ('thiết', 'bị', 'nhỏ'), ('bị', 'nhỏ', 'gọn'), ('nhỏ', 'gọn', 'vào'), ('gọn', 'vào', 'sòng'), ('vào', 'sòng', 'không'), ('sòng', 'không', 'cần'), ('không', 'cần', 'luồn'), ('cần', 'luồn', 'bát'), ('luồn', 'bát', 'đĩa'), ('bát', 'đĩa', 'hoặc'), ('đĩa', 'hoặc', 'quân'), ('hoặc', 'quân', 'vị'), ('quân', 'vị', 'khách'), ('vị', 'khách', 'muốn'), ('khách', 'muốn', 'mua'), ('muốn', 'mua', 'hàng'), ('mua', 'hàng', 'có'), ('hàng', 'có', 'thể'), ('có', 'thể', 'đến'), ('thể', 'đến', 'bến'), ('đến', 'bến', 'xe'), ('bến', 'xe', 'miền'), ('xe', 'miền', 'đông'), ('miền', 'đông', 'sau'), ('đông', 'sau', 'đó'), ('sau', 'đó', 'sẽ'), ('đó', 'sẽ', 'có'), ('sẽ', 'có', 'nhân'), ('có', 'nhân', 'viên'), ('nhân', 'viên', 'của'), ('viên', 'của', 'tui'), ('của', 'tui', 'ra'), ('tui', 'ra', 'đón'), ('ra', 'đón', 'hàng'), ('đón', 'hàng', 'ít'), ('hàng', 'ít', 'tiền'), ('ít', 'tiền', 'sẽ'), ('tiền', 'sẽ', 'có'), ('sẽ', 'có', 'sai'), ('có', 'sai', 'lệch'), ('sai', 'lệch', 'hàng'), ('lệch', 'hàng', 'nhiều'), ('hàng', 'nhiều', 'tiền'), ('nhiều', 'tiền', 'mới'), ('tiền', 'mới', 'chuẩn'), ('mới', 'chuẩn', '100'), ('chuẩn', '100', 'nhé'), ('100', 'nhé', 'ông'), ('nhé', 'ông', 'v'), ('ông', 'v', 'bảonhiều'), ('v', 'bảonhiều', 'nguy'), ('bảonhiều', 'nguy', 'cơ'), ('nguy', 'cơ', 'với'), ('cơ', 'với', 'sức'), ('với', 'sức', 'khỏetheo'), ('sức', 'khỏetheo', 'ts'), ('khỏetheo', 'ts', 'đặng'), ('ts', 'đặng', 'thanh'), ('đặng', 'thanh', 'lương'), ('thanh', 'lương', 'nguyên'), ('lương', 'nguyên', 'phó'), ('nguyên', 'phó', 'cục'), ('phó', 'cục', 'trưởng'), ('cục', 'trưởng', 'cục'), ('trưởng', 'cục', 'an'), ('cục', 'an', 'toàn'), ('an', 'toàn', 'bức'), ('toàn', 'bức', 'xạ'), ('bức', 'xạ', 'và'), ('xạ', 'và', 'hạt'), ('và', 'hạt', 'nhân'), ('hạt', 'nhân', 'bộ'), ('nhân', 'bộ', 'khoa'), ('bộ', 'khoa', 'học'), ('khoa', 'học', 'và'), ('học', 'và', 'công'), ('và', 'công', 'nghệ'), ('công', 'nghệ', 'thời'), ('nghệ', 'thời', 'gian'), ('thời', 'gian', 'qua'), ('gian', 'qua', 'cơ'), ('qua', 'cơ', 'quan'), ('cơ', 'quan', 'chức'), ('quan', 'chức', 'năng'), ('chức', 'năng', 'tại'), ('năng', 'tại', 'một'), ('tại', 'một', 'số'), ('một', 'số', 'quốc'), ('số', 'quốc', 'gia'), ('quốc', 'gia', 'đã'), ('gia', 'đã', 'phát'), ('đã', 'phát', 'hiện'), ('phát', 'hiện', 'và'), ('hiện', 'và', 'ghi'), ('và', 'ghi', 'nhận'), ('ghi', 'nhận', 'thiết'), ('nhận', 'thiết', 'bị'), ('thiết', 'bị', 'cờ'), ('bị', 'cờ', 'bạc'), ('cờ', 'bạc', 'bịp'), ('bạc', 'bịp', 'có'), ('bịp', 'có', 'sử'), ('có', 'sử', 'dụng'), ('sử', 'dụng', 'nguồn'), ('dụng', 'nguồn', 'phóng'), ('nguồn', 'phóng', 'xạ'), ('phóng', 'xạ', 'như'), ('xạ', 'như', 'strontium90'), ('như', 'strontium90', 'hoặc'), ('strontium90', 'hoặc', 'sử'), ('hoặc', 'sử', 'dụng'), ('sử', 'dụng', 'nguồn'), ('dụng', 'nguồn', 'iốt125'), ('nguồn', 'iốt125', 'tại'), ('iốt125', 'tại', 'việt'), ('tại', 'việt', 'nam'), ('việt', 'nam', 'cục'), ('nam', 'cục', 'an'), ('cục', 'an', 'toàn'), ('an', 'toàn', 'bức'), ('toàn', 'bức', 'xạ'), ('bức', 'xạ', 'và'), ('xạ', 'và', 'hạt'), ('và', 'hạt', 'nhân'), ('hạt', 'nhân', 'từng'), ('nhân', 'từng', 'phát'), ('từng', 'phát', 'hiện'), ('phát', 'hiện', 'việc'), ('hiện', 'việc', 'sử'), ('việc', 'sử', 'dụng'), ('sử', 'dụng', 'chất'), ('dụng', 'chất', 'phóng'), ('chất', 'phóng', 'xạ'), ('phóng', 'xạ', 'trong'), ('xạ', 'trong', 'thiết'), ('trong', 'thiết', 'bị'), ('thiết', 'bị', 'cờ'), ('bị', 'cờ', 'bạc'), ('cờ', 'bạc', 'bịpnguồn'), ('bạc', 'bịpnguồn', 'phóng'), ('bịpnguồn', 'phóng', 'xạ'), ('phóng', 'xạ', 'này'), ('xạ', 'này', 'được'), ('này', 'được', 'xếp'), ('được', 'xếp', 'vào'), ('xếp', 'vào', 'nhóm'), ('vào', 'nhóm', 'có'), ('nhóm', 'có', 'mức'), ('có', 'mức', 'độ'), ('mức', 'độ', 'nguy'), ('độ', 'nguy', 'hiểm'), ('nguy', 'hiểm', 'dễ'), ('hiểm', 'dễ', 'gây'), ('dễ', 'gây', 'nhiễm'), ('gây', 'nhiễm', 'bẩn'), ('nhiễm', 'bẩn', 'môi'), ('bẩn', 'môi', 'trường'), ('môi', 'trường', 'và'), ('trường', 'và', 'gây'), ('và', 'gây', 'hại'), ('gây', 'hại', 'cho'), ('hại', 'cho', 'người'), ('cho', 'người', 'khi'), ('người', 'khi', 'tiếp'), ('khi', 'tiếp', 'xúc'), ('tiếp', 'xúc', 'trực'), ('xúc', 'trực', 'tiếp'), ('trực', 'tiếp', 'việc'), ('tiếp', 'việc', 'mua'), ('việc', 'mua', 'bán'), ('mua', 'bán', 'trái'), ('bán', 'trái', 'phép'), ('trái', 'phép', 'chất'), ('phép', 'chất', 'phóng'), ('chất', 'phóng', 'xạ'), ('phóng', 'xạ', 'là'), ('xạ', 'là', 'hành'), ('là', 'hành', 'vi'), ('hành', 'vi', 'nghiêm'), ('vi', 'nghiêm', 'cấm'), ('nghiêm', 'cấm', 'cơ'), ('cấm', 'cơ', 'quan'), ('cơ', 'quan', 'chức'), ('quan', 'chức', 'năng'), ('chức', 'năng', 'cũng'), ('năng', 'cũng', 'đã'), ('cũng', 'đã', 'xử'), ('đã', 'xử', 'lý'), ('xử', 'lý', 'hình'), ('lý', 'hình', 'sự'), ('hình', 'sự', 'người'), ('sự', 'người', 'mua'), ('người', 'mua', 'bán'), ('mua', 'bán', 'dụng'), ('bán', 'dụng', 'cụ'), ('dụng', 'cụ', 'cờ'), ('cụ', 'cờ', 'bạc'), ('cờ', 'bạc', 'bịp'), ('bạc', 'bịp', 'về'), ('bịp', 'về', 'hành'), ('về', 'hành', 'vi'), ('hành', 'vi', 'mua'), ('vi', 'mua', 'bán'), ('mua', 'bán', 'trái'), ('bán', 'trái', 'phép'), ('trái', 'phép', 'chất'), ('phép', 'chất', 'phóng'), ('chất', 'phóng', 'xạ'), ('phóng', 'xạ', 'tháng'), ('xạ', 'tháng', '102020'), ('tháng', '102020', 'tại'), ('102020', 'tại', 'tphcm'), ('tại', 'tphcm', 'từng'), ('tphcm', 'từng', 'ghi'), ('từng', 'ghi', 'nhận'), ('ghi', 'nhận', 'một'), ('nhận', 'một', 'số'), ('một', 'số', 'bệnh'), ('số', 'bệnh', 'nhân'), ('bệnh', 'nhân', 'bị'), ('nhân', 'bị', 'viêm'), ('bị', 'viêm', 'loét'), ('viêm', 'loét', 'đùi'), ('loét', 'đùi', 'khi'), ('đùi', 'khi', 'tiếp'), ('khi', 'tiếp', 'xúc'), ('tiếp', 'xúc', 'nguồn'), ('xúc', 'nguồn', 'phóng'), ('nguồn', 'phóng', 'xạtheo'), ('phóng', 'xạtheo', 'pgsts'), ('xạtheo', 'pgsts', 'nguyễn'), ('pgsts', 'nguyễn', 'hữu'), ('nguyễn', 'hữu', 'đức'), ('hữu', 'đức', 'nguyên'), ('đức', 'nguyên', 'giảng'), ('nguyên', 'giảng', 'viên'), ('giảng', 'viên', 'chính'), ('viên', 'chính', 'khoa'), ('chính', 'khoa', 'dược'), ('khoa', 'dược', 'trường'), ('dược', 'trường', 'đh'), ('trường', 'đh', 'y'), ('đh', 'y', 'dược'), ('y', 'dược', 'tphcm'), ('dược', 'tphcm', 'người'), ('tphcm', 'người', 'tiếp'), ('người', 'tiếp', 'xúc'), ('tiếp', 'xúc', 'với'), ('xúc', 'với', 'chất'), ('với', 'chất', 'phóng'), ('chất', 'phóng', 'xạ'), ('phóng', 'xạ', 'có'), ('xạ', 'có', 'thể'), ('có', 'thể', 'bị'), ('thể', 'bị', 'thay'), ('bị', 'thay', 'đổi'), ('thay', 'đổi', 'cấu'), ('đổi', 'cấu', 'trúc'), ('cấu', 'trúc', 'tế'), ('trúc', 'tế', 'bào'), ('tế', 'bào', 'tác'), ('bào', 'tác', 'động'), ('tác', 'động', 'đến'), ('động', 'đến', 'chức'), ('đến', 'chức', 'năng'), ('chức', 'năng', 'sinh'), ('năng', 'sinh', 'sản'), ('sinh', 'sản', 'thậm'), ('sản', 'thậm', 'chí'), ('thậm', 'chí', 'có'), ('chí', 'có', 'thể'), ('có', 'thể', 'bị'), ('thể', 'bị', 'ảnh'), ('bị', 'ảnh', 'hưởng'), ('ảnh', 'hưởng', 'đến'), ('hưởng', 'đến', 'tính'), ('đến', 'tính', 'mạng'), ('tính', 'mạng', 'để'), ('mạng', 'để', 'bảo'), ('để', 'bảo', 'vệ'), ('bảo', 'vệ', 'sức'), ('vệ', 'sức', 'khỏe'), ('sức', 'khỏe', 'cho'), ('khỏe', 'cho', 'mình'), ('cho', 'mình', 'và'), ('mình', 'và', 'cho'), ('và', 'cho', 'cộng'), ('cho', 'cộng', 'đồng'), ('cộng', 'đồng', 'người'), ('đồng', 'người', 'dân'), ('người', 'dân', 'nên'), ('dân', 'nên', 'tránh'), ('nên', 'tránh', 'xa'), ('tránh', 'xa', 'các'), ('xa', 'các', 'chất'), ('các', 'chất', 'phóng'), ('chất', 'phóng', 'xạ'), ('phóng', 'xạ', 'cũng'), ('xạ', 'cũng', 'như'), ('cũng', 'như', 'những'), ('như', 'những', 'gì'), ('những', 'gì', 'liên'), ('gì', 'liên', 'quan'), ('liên', 'quan', 'đến'), ('quan', 'đến', 'phóng'), ('đến', 'phóng', 'xạ'), ('phóng', 'xạ', 'ông'), ('xạ', 'ông', 'đức'), ('ông', 'đức', 'nóiluật'), ('đức', 'nóiluật', 'sư'), ('nóiluật', 'sư', 'nguyễn'), ('sư', 'nguyễn', 'hồng'), ('nguyễn', 'hồng', 'lĩnh'), ('hồng', 'lĩnh', 'đoàn'), ('lĩnh', 'đoàn', 'luật'), ('đoàn', 'luật', 'sư'), ('luật', 'sư', 'tphcm'), ('sư', 'tphcm', 'cảnh'), ('tphcm', 'cảnh', 'báo'), ('cảnh', 'báo', 'nếu'), ('báo', 'nếu', 'thiết'), ('nếu', 'thiết', 'bị'), ('thiết', 'bị', 'cờ'), ('bị', 'cờ', 'bạc'), ('cờ', 'bạc', 'bịp'), ('bạc', 'bịp', 'có'), ('bịp', 'có', 'chứa'), ('có', 'chứa', 'chất'), ('chứa', 'chất', 'phóng'), ('chất', 'phóng', 'xạ'), ('phóng', 'xạ', 'người'), ('xạ', 'người', 'mua'), ('người', 'mua', 'bán'), ('mua', 'bán', 'tàng'), ('bán', 'tàng', 'trữ'), ('tàng', 'trữ', 'trái'), ('trữ', 'trái', 'phép'), ('trái', 'phép', 'sẽ'), ('phép', 'sẽ', 'bị'), ('sẽ', 'bị', 'xử'), ('bị', 'xử', 'lý'), ('xử', 'lý', 'theo'), ('lý', 'theo', 'điều'), ('theo', 'điều', '309'), ('điều', '309', 'bộ'), ('309', 'bộ', 'luật'), ('bộ', 'luật', 'hình'), ('luật', 'hình', 'sự'), ('hình', 'sự', '2015'), ('sự', '2015', 'đã'), ('2015', 'đã', 'sửa'), ('đã', 'sửa', 'đổi'), ('sửa', 'đổi', 'bổ'), ('đổi', 'bổ', 'sung'), ('bổ', 'sung', 'quy'), ('sung', 'quy', 'định'), ('quy', 'định', 'về'), ('định', 'về', 'tội'), ('về', 'tội', 'sản'), ('tội', 'sản', 'xuất'), ('sản', 'xuất', 'tàng'), ('xuất', 'tàng', 'trữ'), ('tàng', 'trữ', 'vận'), ('trữ', 'vận', 'chuyển'), ('vận', 'chuyển', 'sử'), ('chuyển', 'sử', 'dụng'), ('sử', 'dụng', 'phát'), ('dụng', 'phát', 'tán'), ('phát', 'tán', 'mua'), ('tán', 'mua', 'bán'), ('mua', 'bán', 'trái'), ('bán', 'trái', 'phép'), ('trái', 'phép', 'hoặc'), ('phép', 'hoặc', 'chiếm'), ('hoặc', 'chiếm', 'đoạt'), ('chiếm', 'đoạt', 'chất'), ('đoạt', 'chất', 'phóng'), ('chất', 'phóng', 'xạ'), ('phóng', 'xạ', 'vật'), ('xạ', 'vật', 'liệu'), ('vật', 'liệu', 'hạt'), ('liệu', 'hạt', 'nhân')]\n"
          ],
          "name": "stdout"
        }
      ]
    },
    {
      "cell_type": "code",
      "metadata": {
        "colab": {
          "base_uri": "https://localhost:8080/"
        },
        "id": "KvnGY_fw-Y_6",
        "outputId": "c1009386-27e4-4241-8f86-455a3d1808ce"
      },
      "source": [
        "doc_hashed = []\n",
        "\n",
        "def hash_doc(shingles):\n",
        "  shingles_hashed = []\n",
        "  for shingle in shingles:\n",
        "    hash = mmh3.hash(' '.join(shingle))\n",
        "    shingles_hashed.append(hash)\n",
        "  return shingles_hashed  \n",
        "\n",
        "for document in doc_as_shingles:\n",
        "  doc_hashed.append(list(hash_doc(document)));\n",
        "print(doc_hashed[0])"
      ],
      "execution_count": 39,
      "outputs": [
        {
          "output_type": "stream",
          "text": [
            "[518581185, 456688079, 275791069, -422903667, 584949940, -519954334, 1481381068, -655941761, 1568172651, 1088287363, -848649469, 145809575, -214779842, 1573778994, -897480541, -1575088200, -834580802, 1043844664, -1537029789, -39106991, 135752693, -1331088568, 65492383, 161069262, 651135317, 560162720, -1704458593, 1968178039, 803440172, 1659701131, -318850459, 29543772, -1280394785, 469529709, -1791196905, -116086071, 1616351483, -887850927, 1226251224, -218342886, -1354060775, 446203753, -519954334, 465329231, 514223004, 1394147596, 2118211547, 1155839214, 25771153, -7102387, -914859816, 1907181265, 310568618, -858553368, -1812562404, -61516475, 97729598, 184881738, 1257103788, -1612397406, -1321222764, 24232248, -1715364537, -340235686, -1246277415, -519954334, 1481381068, -1540664259, 492286502, -1745507127, 622450652, -912027018, 1506110984, -838536566, -1388808785, -609253119, -412337517, -1323853938, 1131894107, 1270965241, -344591680, -1871512705, -765467060, -856604693, 2027514879, 1354894126, -180643139, 1554817519, 279664690, -1027360836, -115169109, -731355054, -1140721391, -862529606, 1629207587, -57385156, -481667201, -881506086, 665285728, 1782440647, -773830902, 766592748, -436354637, 1242324696, -1911654130, 284168699, 1371845928, -1908913122, 2136782407, 1770705061, 194801425, 1717212253, -869535469, -217951811, 752214690, -701445088, -891249580, -1714219044, 1610203084, 445262041, -785028966, 964926770, -534805768, 1344452699, 906514136, -418649159, -1908913122, 1330405770, 583312676, -330998871, -407546740, -118754082, -2115277672, -645832818, 322642404, -715699512, 135328595, -663049709, -1350061802, 1089484517, 79620588, 478778731, 179139596, -969889452, -1772463236, -749872204, -723217245, 930322295, -1308792121, -2097598074, -1923461237, -895047333, -2003260959, 1830535554, 2016476513, 1267796007, -1559875637, 1204684952, 512840539, 395221376, 1860721004, 1998892243, 829784824, -168628037, -2082711073, -1908913122, 1330405770, 204705693, -1294781385, -1713295716, 17678882, 1814956064, -1275719143, -632190451, -1707700185, -1862897275, 372057011, 80681246, -1508150881, -1294781385, -250463402, -1278623739, -174171231, 259588900, 470223274, 275715619, 329301800, -1445008356, 1582403022, -1214058284, 3224656, -786364116, -837093344, 1916108350, -1173716504, 1999728629, -1848792801, 785353335, -1532195202, 1394147596, -846752924, -1488926995, -871881102, -1431124166, 1134913286, -1452057148, 145833098, -874784875, 1321570316, 1276552974, 721569670, 641917510, -693439902, 375309278, -411567793, 1849939438, -1025964084, 1108653934, 820674915, 2092048730, 1455604130, 473283796, -670273987, 1436731790, 2073818558, 269676632, -883730451, 577994820, -1187006888, 149214102, 943447823, -1170440781, -965658143, 95036878, 1070814209, -1641642992, 20205994, 1700281572, -371807723, 655725218, 806570963, 104391846, -680065405, -655099522, 254016226, 1125152089, 1023511848, 1187796730, -2112096590, -173926684, -385518338, 246440641, 424376662, -200094335, 465431982, 426481593, 2020418604, -753773362, 1479186849, -1707740548, -1349891448, -1143931055, 5324036, 1291071799, -312785661, -956037627, 1372490583, 1670887288, 326656400, 527174797, 402347670, 130500792, -708297618, 2105273610, 1485153025, 764695112, 1324217996, -2023966538, -728479916, -248130239, 2092973526, 1260143932, -309786040, 168743128, 1616871222, 1738704738, 176592458, -212009154, 96306881, -939843065, -555520825, 1963588874, 1318709139, -941986176, -580212933, -289443564, -1709533108, -411484597, -1928052815, -1508878473, -323377932, 465142791, -1390998617, 2000053667, 1203574477, 1569077208, -763005317, 955071133, 1287147136, -1900412796, 1496479744, -906735045, -1491288674, -246172266, -1687083180, 1239718438, 420068678, -203264743, -224927857, -881506086, 665285728, 1108923420, -1190798600, -1183640528, -1815346614, -280651283, 1721559972, 1171542443, 1927285337, -1460810379, -1469463316, -1319391160, 149889099, -387982705, 1758706259, 1401491559, 726455614, 1080093987, -994580515, -744079334, 767540835, 1656247850, 132510274, 147018667, 314663580, 1653196166, 506816206, 285636611, -127412695, -1985687229, -845825927, -2105122694, 1054919205, 69528023, 96306881, 1742354173, 1357003352, 1221547500, -59079063, 1773651191, -231412798, -217951811, 752214690, -1376689927, 794951123, 1455925580, 492158459, 1661537034, -1330852246, 1035391855, 1751413192, -1194278156, -923927014, -1996719458, 1372217645, 21199929, 259813598, 814524777, -326494999, 410505072, 1925064334, -1681412735, 222607011, 1432666076, 1603147466, 1500100756, 1991691150, -638115361, -1672870847, 1415528161, 694177994, -570723823, 430092853, -1681138579, -1363704453, 31777043, 100872503, -1324665295, 1035977731, -1894555441, 628217370, -149266404, -859499961, -908217284, -1110716710, 46661191, -647935189, 664698139, -531395719, 63379135, 699800968, 1563395885, 1146079257, 627017556, 2037926077, 25322232, -1939064410, -1554587128, 896979285, -1243848402, -314389114, -1813405412, 488995769, -1766273609, 1401922127, -1318859169, 1875397052, 719458903, 240107360, -1310511772, 1079405173, 859076250, 669690988, 1897473995, -43515140, 1374381287, 1450026589, 465329231, 514223004, 1394147596, -1022970793, -822705791, 237909312, 42040295, -30517723, -118599093, -2137822479, 446070146, -439473614, -1850395178, -1930028384, 42040295, 1373036967, 1523849317, 1305168871, -1842129029, -44154756, 1078976500, 46661191, -647935189, 664698139, -531395719, 63379135, 699800968, -1572051182, -975599582, 3919727, 1173127309, -398482270, -1206549787, -1066557612, -1589010054, -85544907, 679537032, -1234177821, 1299553332, 465329231, 514223004, -1683523679, -771170057, -1704885488, 668507253, 1601261753, 1317415349, -120642996, 1795822815, 2006365088, -144954221, -965172577, -1836968770, -1028585942, 264384287, -1274920715, 218155354, -1433275324, 319802997, -1010534367, 1972539924, 1076758055, 1661954891, 1030522316, 921500012, -1001255256, -150187989, -1715364537, -2012164336, -1575950084, -1003090765, -533972565, 338181613, 98430308, -1346302740, 1212445903, -61215200, -85544907, 627997005, -1980160171, -1026398714, -1909267682, -204219153, -1962044185, -878658348, 488995769, -1766273609, -1904815643, -296692419, 362375928, -254180761, 1208189349, 909221266, -307589518, -1900314944, -945698991, -754743401, -2021250537, 647141607, 1902013157, 1394147596, -344648068, -2067202475, 1537339653, 1738300703, -1758501202, 98430308, -1346302740, 1212445903, -61215200, -85544907, -70958894, 1527050698, 1817934226, 1790592354, -165622767, -1069338547, -1719201436, -2004884517, 617687116, -429609992, 180224311, 629089623, -1045100825, -1234508124, 201066784, 1145505117, 596454542, -1715364537, -58772615, -1632376761, 1080370604, 1310584163, 229874869, 1298413085, -588456412, -1435290906, 208331332, -1790590991, -829391442, 1100492819, -678954946, -1358216230, 34497599, -2000922095, 323610818, 852148227, 1696159796, -2033987159, 743580256, -1283255594, -2047704624, -1162134026, -85544907, 423287429, -1605410844, 1832725163, -1809936919, -1274867295, -1257921003, 1926214889, -545180845, -1954631310, -460767208, 1539370490, 132943257, -1474351530, 370454277, -805862916, 86070822, 192488613, -649925654, 843731830, -483354652, 1832725163, 605814928, 1568729110, -1618241557, -2140572735, 1524466507, -139001252, -1184655964, -1203578055, 419855101, -1570184788, -647111010, 315843292, 295996323, 840511678, -2142325802, 1999129313, -850612863, 2051459192, 1645573982, -1587145191, -2004302650, -1708284405, -69353359, -1005388693, -85544907, -932179009, -1034039502, 1945533370, 1060793144, -697062941, -599079587, -507225906, 1524832555, 1212552011, -1846319996, 1737627507, -1982368734, -368036220, -1440749711, -1863449296, -784512635, 2127757268, -1478358538, -98393550, 1171205277, 243764422, 1291714011, -1775890826, -1540490485, 1944704765, 465329231, 514223004, 1394147596, -1022970793, -1912967754, 1826154842, -912027018, -85544907, 1219167339, -528016658, -945698991, -1384667090, -1563711288, 2040258877, 1026816402, -2096328838, -509228981, -212013750, -1150198718, -1666606411, -426180900, -1910277074, -202055531, 991207939, 1064905644, 61859814, 378751709, 769512660, -2025113112, -2121579438, -1969532531, -177482282, -288561664, -2026313742, -992747064, -1620672375, -955284480, 1154180499, 357525711, -582593638, 1695594991, 1103944972, -631090495, -1806448177, 1616595336, 910633118, 906567335, -758123182, 98430308, -1346302740, -562441826, 1947759925, -1094669598, -1569373214, 65876422, -85544907, 2085102327, -1194284811, 1353714058, -1679222251]\n"
          ],
          "name": "stdout"
        }
      ]
    },
    {
      "cell_type": "code",
      "metadata": {
        "colab": {
          "base_uri": "https://localhost:8080/"
        },
        "id": "z8ptS6j6Sl01",
        "outputId": "31967094-fb64-4c22-a053-3ed87de44b3f"
      },
      "source": [
        "start = time.time()\n",
        "signatures = []\n",
        "max_shingle_id = 2 ** 32 - 1\n",
        "\n",
        "next_prime = 4294967311\n",
        "\n",
        "def pick_random_coeffs(k):\n",
        "    rand_list = []\n",
        "\n",
        "    while k > 0:\n",
        "        rand_index = random.randint(0, max_shingle_id)\n",
        "\n",
        "        while rand_index in rand_list:\n",
        "            rand_index = random.randint(0, max_shingle_id)\n",
        "\n",
        "        rand_list.append(rand_index)\n",
        "        k = k - 1\n",
        "    return rand_list\n",
        "\n",
        "coeff_a = pick_random_coeffs(10)\n",
        "coeff_b = pick_random_coeffs(10)\n",
        "\n",
        "for document in doc_hashed:\n",
        "  signature =[]\n",
        "  for i in range(0, 10):\n",
        "    min_hash_code = next_prime + 1\n",
        "    for shingle in document: \n",
        "      hash_code = (coeff_a[i] * shingle + coeff_b[i]) % next_prime\n",
        "      if hash_code < min_hash_code:\n",
        "        min_hash_code = hash_code\n",
        "    signature.append(min_hash_code)\n",
        "  signatures.append(signature)\n",
        "end = time.time()\n",
        "print(signatures[0])\n",
        "print(len(signatures),len(signatures[0]))\n",
        "print(\"Minhash completed in : {:.4f} sec\".format(end - start))"
      ],
      "execution_count": 40,
      "outputs": [
        {
          "output_type": "stream",
          "text": [
            "[6672529, 4902159, 29695954, 1408885, 7256176, 22676914, 2159337, 36078635, 236852, 953213]\n",
            "20 10\n",
            "Minhash completed in : 0.0861 sec\n"
          ],
          "name": "stdout"
        }
      ]
    },
    {
      "cell_type": "code",
      "metadata": {
        "id": "neZ-CUwnO5Fp"
      },
      "source": [
        "def jaccardSim(d1,d2):\n",
        "    return len(d1.intersection(d2))/len(d1.union(d2))   "
      ],
      "execution_count": 41,
      "outputs": []
    },
    {
      "cell_type": "code",
      "metadata": {
        "colab": {
          "base_uri": "https://localhost:8080/"
        },
        "id": "pBF7eoo8QH94",
        "outputId": "5feb4da2-c60a-426c-e12a-f0267709ed3f"
      },
      "source": [
        "sims = jaccardSim(set(signatures[0]), set(signatures[1])) \n",
        "sims"
      ],
      "execution_count": 42,
      "outputs": [
        {
          "output_type": "execute_result",
          "data": {
            "text/plain": [
              "0.0"
            ]
          },
          "metadata": {
            "tags": []
          },
          "execution_count": 42
        }
      ]
    },
    {
      "cell_type": "code",
      "metadata": {
        "id": "p1FFcp27fd7y"
      },
      "source": [
        "def initialize_array_bucket(bands):\n",
        "    len_buckets = 101\n",
        "    array_buckets = []\n",
        "    for band in range(bands):\n",
        "        array_buckets.append([[] for i in range(len_buckets)])\n",
        "    return array_buckets"
      ],
      "execution_count": 43,
      "outputs": []
    },
    {
      "cell_type": "code",
      "metadata": {
        "colab": {
          "base_uri": "https://localhost:8080/"
        },
        "id": "MJgiuk7xcFef",
        "outputId": "a59ae76e-9047-4cc2-a803-def3cccf3714"
      },
      "source": [
        "def apply_LSH_technique(signatures,t,bands,rows):\n",
        "    if bands * rows != len(signatures):\n",
        "        print('split to bands error.')\n",
        "\n",
        "    array_buckets = initialize_array_bucket(bands)\n",
        "\n",
        "    # hash_funcs = pick_random_coeffs(10);\n",
        "\n",
        "\n",
        "    candidates = {}\n",
        "    \n",
        "    i = 0\n",
        "    for b in range(bands):\n",
        "        buckets = array_buckets[b]        \n",
        "        band = np.array(signatures)[i:i+rows,:]\n",
        "        for col in range(band.shape[1]):    \n",
        "            \n",
        "            key = int(sum(band[:,col]) % len(buckets))\n",
        "            \n",
        "            buckets[key].append(col)\n",
        "        i = i+rows\n",
        "\n",
        "        for item in buckets:\n",
        "            if len(item) > 1:\n",
        "                pair = (item[0], item[1])\n",
        "                if pair not in candidates:\n",
        "                    A = np.array(signatures)[:,item[0]]\n",
        "                    B = np.array(signatures)[:,item[1]]\n",
        "                    similarity = cosine_distance(A,B)\n",
        "                    if similarity >= t:\n",
        "                        candidates[pair] = similarity\n",
        "\n",
        "\n",
        "    sort = sorted(candidates.items(),key=itemgetter(1), reverse=True)\n",
        "\n",
        "    return candidates,sort\n",
        "\n",
        "def euclidean_distance(x,y,r=2.0):\n",
        "    try:\n",
        "        \n",
        "        return sum(((x[i] - y[i]) ** r) for i in range(len(x))) ** (1.0/r)\n",
        "    \n",
        "    except (ValueError,ZeroDivisionError):\n",
        "        print ('Please, enter only even values for \"r > 0\".')\n",
        "    except IndexError:\n",
        "        print ('Please, the sets must have the same size.')\n",
        "\n",
        "def cosine_distance(x,y):\n",
        "    prodAB = sum([x[i]*y[i] for i in range(len(x))])\n",
        "    zeros = [0 for i in range(len(x))]\n",
        "    A = euclidean_distance(x,zeros)\n",
        "    B = euclidean_distance(y,zeros)\n",
        "    return prodAB / (A*B)\n",
        "\n",
        "start = time.time()\n",
        "candidates, sort = apply_LSH_technique(signatures, 0.7, 4, 5)\n",
        "end = time.time()\n",
        "print(candidates)\n",
        "print(\"LSH completed in: {:.4f}\".format(end - start))"
      ],
      "execution_count": 47,
      "outputs": [
        {
          "output_type": "stream",
          "text": [
            "{}\n",
            "LSH completed in: 0.0013\n"
          ],
          "name": "stdout"
        }
      ]
    },
    {
      "cell_type": "code",
      "metadata": {
        "id": "7sxxH_o1veKb"
      },
      "source": [
        ""
      ],
      "execution_count": 44,
      "outputs": []
    },
    {
      "cell_type": "code",
      "metadata": {
        "id": "owmwcN5Ut9QF",
        "colab": {
          "base_uri": "https://localhost:8080/",
          "height": 128
        },
        "outputId": "78fd1ee4-99e0-4440-9bdf-10501ce3ccd9"
      },
      "source": [
        "# baseUrl = \"https://kenh14.vn/\"\n",
        "# url = \"https://kenh14.vn/musik.chn\"\n",
        "# def crawNewsData(baseUrl, url):\n",
        "#     response = requests.get(url)\n",
        "#     soup = BeautifulSoup(response.content, \"html.parser\")\n",
        "#     regex = re.compile(\"*-title\")\n",
        "#     titles = soup.findAll('h3', class_=lamda x : re.match(regex, x))\n",
        "#     print(titles)\n",
        "\n",
        "#     links = [link.find('a').attrs[\"href\"] for link in titles]\n",
        "#     data = []\n",
        "#     for link in links:\n",
        "#         news = requests.get(baseUrl + link)\n",
        "#         soup = BeautifulSoup(news.content, \"html.parser\")\n",
        "        \n",
        "#         # title =soup.find(\"div\", class_=[\"*-title\"]}, partial=True)\n",
        "#         print(title)\n",
        "#         # abstract = soup.find(\"div\", \"class\"_=\"sapo\").text\n",
        "#         # body = soup.find(\"div\", {\"class\": \"-content\"})\n",
        "#         content = \"\"\n",
        "#         try:\n",
        "#             contents = body.findAll(\"p\", recursive=False)\n",
        "#             contents = [content.text for content in contents]\n",
        "#             content = ('').join(contents)\n",
        "#         except:\n",
        "#             content = \"\"\n",
        "#         data.append({\n",
        "#             \"title\": title,\n",
        "#             \"abstract\": abstract,\n",
        "#             \"content\": content,\n",
        "#         })\n",
        "#     return data\n",
        "# data = crawNewsData(baseUrl, url)\n"
      ],
      "execution_count": 77,
      "outputs": [
        {
          "output_type": "error",
          "ename": "SyntaxError",
          "evalue": "ignored",
          "traceback": [
            "\u001b[0;36m  File \u001b[0;32m\"<ipython-input-77-7ce416af3df9>\"\u001b[0;36m, line \u001b[0;32m7\u001b[0m\n\u001b[0;31m    titles = soup.findAll('h3', class_=lamda x : re.match(regex, x))\u001b[0m\n\u001b[0m                                             ^\u001b[0m\n\u001b[0;31mSyntaxError\u001b[0m\u001b[0;31m:\u001b[0m invalid syntax\n"
          ]
        }
      ]
    }
  ]
}