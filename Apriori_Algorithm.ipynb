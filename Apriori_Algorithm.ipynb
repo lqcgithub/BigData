{
  "nbformat": 4,
  "nbformat_minor": 0,
  "metadata": {
    "colab": {
      "name": "Apriori-Algorithm.ipynb",
      "provenance": [],
      "collapsed_sections": [],
      "mount_file_id": "1stBVH7UonHa_uUvXqT2o7ynPDGUdvLZX",
      "authorship_tag": "ABX9TyNp6qeAcfOVOKJa9KFzfDXr",
      "include_colab_link": true
    },
    "kernelspec": {
      "name": "python3",
      "display_name": "Python 3"
    }
  },
  "cells": [
    {
      "cell_type": "markdown",
      "metadata": {
        "id": "view-in-github",
        "colab_type": "text"
      },
      "source": [
        "<a href=\"https://colab.research.google.com/github/lqcgithub/MiningofMassiveDatasets/blob/main/Apriori_Algorithm.ipynb\" target=\"_parent\"><img src=\"https://colab.research.google.com/assets/colab-badge.svg\" alt=\"Open In Colab\"/></a>"
      ]
    },
    {
      "cell_type": "code",
      "metadata": {
        "colab": {
          "base_uri": "https://localhost:8080/"
        },
        "id": "4LVNCBIroPVO",
        "outputId": "86161e57-341a-4eef-b330-20f57fb4a737"
      },
      "source": [
        "pip install pyspark"
      ],
      "execution_count": 1,
      "outputs": [
        {
          "output_type": "stream",
          "text": [
            "Requirement already satisfied: pyspark in /usr/local/lib/python3.7/dist-packages (3.0.2)\n",
            "Requirement already satisfied: py4j==0.10.9 in /usr/local/lib/python3.7/dist-packages (from pyspark) (0.10.9)\n"
          ],
          "name": "stdout"
        }
      ]
    },
    {
      "cell_type": "code",
      "metadata": {
        "colab": {
          "base_uri": "https://localhost:8080/"
        },
        "id": "dt3W19tnt68U",
        "outputId": "0e30921e-df57-409c-b474-1ded1be21f79"
      },
      "source": [
        "pip install apyori"
      ],
      "execution_count": 2,
      "outputs": [
        {
          "output_type": "stream",
          "text": [
            "Requirement already satisfied: apyori in /usr/local/lib/python3.7/dist-packages (1.1.2)\n"
          ],
          "name": "stdout"
        }
      ]
    },
    {
      "cell_type": "code",
      "metadata": {
        "id": "BBN-ZLZJQVq-"
      },
      "source": [
        "import numpy as np\r\n",
        "import matplotlib.pyplot as plt\r\n",
        "import pandas as pd\r\n",
        "from apyori import apriori\r\n",
        "from pyspark import SparkConf, SparkContext"
      ],
      "execution_count": 3,
      "outputs": []
    },
    {
      "cell_type": "code",
      "metadata": {
        "id": "5N27He1Urid0"
      },
      "source": [
        "conf = SparkConf().setMaster(\"local\").setAppName(\"Market Basket with Apriori\")\r\n",
        "sc = SparkContext.getOrCreate(conf=conf)"
      ],
      "execution_count": 4,
      "outputs": []
    },
    {
      "cell_type": "code",
      "metadata": {
        "id": "hsndKZLKoaEK"
      },
      "source": [
        "file = sc.textFile('/content/drive/MyDrive/sample-datasets/store_data.csv')\r\n"
      ],
      "execution_count": 5,
      "outputs": []
    },
    {
      "cell_type": "code",
      "metadata": {
        "colab": {
          "base_uri": "https://localhost:8080/"
        },
        "id": "OhrTdtqlqX3d",
        "outputId": "5cf1164b-d70b-4f08-c7f4-d73baad2d58c"
      },
      "source": [
        "lblitems = file.map(lambda line: line.split(','))\r\n",
        "lblitems.count()\r\n"
      ],
      "execution_count": 27,
      "outputs": [
        {
          "output_type": "execute_result",
          "data": {
            "text/plain": [
              "7501"
            ]
          },
          "metadata": {
            "tags": []
          },
          "execution_count": 27
        }
      ]
    },
    {
      "cell_type": "code",
      "metadata": {
        "colab": {
          "base_uri": "https://localhost:8080/"
        },
        "id": "yGQiDtO6wnEQ",
        "outputId": "85460c39-abf5-4b1b-92a6-7ff9103232c3"
      },
      "source": [
        "wlitems = file.flatMap(lambda line: line.split(','))"
      ],
      "execution_count": 7,
      "outputs": [
        {
          "output_type": "execute_result",
          "data": {
            "text/plain": [
              "29363"
            ]
          },
          "metadata": {
            "tags": []
          },
          "execution_count": 7
        }
      ]
    },
    {
      "cell_type": "code",
      "metadata": {
        "colab": {
          "base_uri": "https://localhost:8080/"
        },
        "id": "kMvDDCQu07U0",
        "outputId": "3f5377f2-9b0f-4f81-ba08-56f9a81f3c10"
      },
      "source": [
        "uniqueItems = wlitems.distinct()\r\n",
        "uniqueItems.count()"
      ],
      "execution_count": 30,
      "outputs": [
        {
          "output_type": "execute_result",
          "data": {
            "text/plain": [
              "120"
            ]
          },
          "metadata": {
            "tags": []
          },
          "execution_count": 30
        }
      ]
    },
    {
      "cell_type": "code",
      "metadata": {
        "id": "lgXh93KU1b9M"
      },
      "source": [
        "supportRdd = wlitems.map(lambda item: (item , 1))"
      ],
      "execution_count": 20,
      "outputs": []
    },
    {
      "cell_type": "code",
      "metadata": {
        "id": "geTElXvi1m1N"
      },
      "source": [
        "supportRdd = supportRdd.reduceByKey(lambda x,y: (x+y))\r\n"
      ],
      "execution_count": 21,
      "outputs": []
    },
    {
      "cell_type": "code",
      "metadata": {
        "id": "FZ4mM7af2Y-z"
      },
      "source": [
        "supports = supportRdd.map(lambda item: item[1])\r\n",
        "minSupport = supports.min()"
      ],
      "execution_count": 22,
      "outputs": []
    },
    {
      "cell_type": "code",
      "metadata": {
        "id": "4Z5qVU8T3GP2"
      },
      "source": [
        "supportRdd = supportRdd.filter(lambda item: item[1] >= minSupport)"
      ],
      "execution_count": 23,
      "outputs": []
    },
    {
      "cell_type": "code",
      "metadata": {
        "colab": {
          "base_uri": "https://localhost:8080/"
        },
        "id": "wU2WOMNY3xkC",
        "outputId": "119aa86c-24de-45dd-edca-4e1bb8ec5418"
      },
      "source": [
        "baseRdd = supportRdd.map(lambda item: ([item[0]] , item[1]))\r\n",
        "baseRdd.collect()"
      ],
      "execution_count": 25,
      "outputs": [
        {
          "output_type": "execute_result",
          "data": {
            "text/plain": [
              "[(['shrimp'], 536),\n",
              " (['almonds'], 153),\n",
              " (['avocado'], 250),\n",
              " (['vegetables mix'], 193),\n",
              " (['green grapes'], 68),\n",
              " (['whole weat flour'], 70),\n",
              " (['yams'], 86),\n",
              " (['cottage cheese'], 239),\n",
              " (['energy drink'], 200),\n",
              " (['tomato juice'], 228),\n",
              " (['low fat yogurt'], 574),\n",
              " (['green tea'], 991),\n",
              " (['honey'], 356),\n",
              " (['salad'], 37),\n",
              " (['mineral water'], 1788),\n",
              " (['salmon'], 319),\n",
              " (['antioxydant juice'], 67),\n",
              " (['frozen smoothie'], 475),\n",
              " (['spinach'], 53),\n",
              " (['olive oil'], 494),\n",
              " (['burgers'], 654),\n",
              " (['meatballs'], 157),\n",
              " (['eggs'], 1348),\n",
              " (['chutney'], 31),\n",
              " (['turkey'], 469),\n",
              " (['milk'], 972),\n",
              " (['energy bar'], 203),\n",
              " (['whole wheat rice'], 439),\n",
              " (['whole wheat pasta'], 221),\n",
              " (['french fries'], 1282),\n",
              " (['soup'], 379),\n",
              " (['light cream'], 117),\n",
              " (['shallot'], 58),\n",
              " (['frozen vegetables'], 715),\n",
              " (['spaghetti'], 1306),\n",
              " (['pet food'], 49),\n",
              " (['cookies'], 603),\n",
              " (['cooking oil'], 383),\n",
              " (['champagne'], 351),\n",
              " (['chocolate'], 1230),\n",
              " (['chicken'], 450),\n",
              " (['oil'], 173),\n",
              " (['fresh tuna'], 167),\n",
              " (['tomatoes'], 513),\n",
              " (['black tea'], 107),\n",
              " (['extra dark chocolate'], 90),\n",
              " (['protein bar'], 139),\n",
              " (['red wine'], 211),\n",
              " (['pasta'], 118),\n",
              " (['pepper'], 199),\n",
              " (['shampoo'], 37),\n",
              " (['rice'], 141),\n",
              " (['sparkling water'], 47),\n",
              " (['ham'], 203),\n",
              " (['body spray'], 86),\n",
              " (['pancakes'], 713),\n",
              " (['grated cheese'], 393),\n",
              " (['white wine'], 124),\n",
              " (['toothpaste'], 61),\n",
              " (['parmesan cheese'], 149),\n",
              " (['fresh bread'], 323),\n",
              " (['ground beef'], 737),\n",
              " (['escalope'], 595),\n",
              " (['herb & pepper'], 371),\n",
              " (['tomato sauce'], 106),\n",
              " (['magazines'], 82),\n",
              " (['strawberries'], 160),\n",
              " (['strong cheese'], 58),\n",
              " (['pickles'], 45),\n",
              " (['cake'], 608),\n",
              " (['hot dogs'], 243),\n",
              " (['brownies'], 253),\n",
              " (['cereals'], 193),\n",
              " (['clothes accessories'], 63),\n",
              " (['bug spray'], 65),\n",
              " (['muffins'], 181),\n",
              " (['light mayo'], 204),\n",
              " (['gums'], 101),\n",
              " (['soda'], 47),\n",
              " (['cider'], 79),\n",
              " (['corn'], 36),\n",
              " (['yogurt cake'], 205),\n",
              " (['mint'], 131),\n",
              " (['butter'], 226),\n",
              " (['asparagus'], 35),\n",
              " (['french wine'], 169),\n",
              " (['salt'], 69),\n",
              " (['tea'], 29),\n",
              " (['barbecue sauce'], 81),\n",
              " (['mayonnaise'], 46),\n",
              " (['zucchini'], 71),\n",
              " (['carrots'], 115),\n",
              " (['mushroom cream sauce'], 143),\n",
              " (['candy bars'], 73),\n",
              " (['chili'], 46),\n",
              " (['mashed potato'], 31),\n",
              " (['nonfat milk'], 78),\n",
              " (['water spray'], 3),\n",
              " (['chocolate bread'], 32),\n",
              " (['mint green tea'], 42),\n",
              " (['eggplant'], 99),\n",
              " (['blueberries'], 69),\n",
              " (['bacon'], 65),\n",
              " (['fromage blanc'], 102),\n",
              " (['gluten free bar'], 52),\n",
              " (['dessert wine'], 33),\n",
              " (['flax seed'], 68),\n",
              " (['hand protein bar'], 39),\n",
              " (['sandwich'], 34),\n",
              " (['babies food'], 34),\n",
              " (['melons'], 90),\n",
              " (['cauliflower'], 36),\n",
              " (['green beans'], 65),\n",
              " (['ketchup'], 33),\n",
              " (['bramble'], 14),\n",
              " (['burger sauce'], 44),\n",
              " (['oatmeal'], 33),\n",
              " ([' asparagus'], 1),\n",
              " (['cream'], 7),\n",
              " (['napkins'], 5)]"
            ]
          },
          "metadata": {
            "tags": []
          },
          "execution_count": 25
        }
      ]
    },
    {
      "cell_type": "code",
      "metadata": {
        "id": "Sz4e04DquaeT"
      },
      "source": [
        "# data = sc.parallelize(records)\r\n",
        "# print(data.collect())"
      ],
      "execution_count": 15,
      "outputs": []
    }
  ]
}