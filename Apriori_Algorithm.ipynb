{
  "nbformat": 4,
  "nbformat_minor": 0,
  "metadata": {
    "colab": {
      "name": "Apriori-Algorithm.ipynb",
      "provenance": [],
      "collapsed_sections": [],
      "mount_file_id": "1stBVH7UonHa_uUvXqT2o7ynPDGUdvLZX",
      "authorship_tag": "ABX9TyPCSaX5XYnQiaX+Si+xQEYZ",
      "include_colab_link": true
    },
    "kernelspec": {
      "name": "python3",
      "display_name": "Python 3"
    }
  },
  "cells": [
    {
      "cell_type": "markdown",
      "metadata": {
        "id": "view-in-github",
        "colab_type": "text"
      },
      "source": [
        "<a href=\"https://colab.research.google.com/github/lqcgithub/MiningofMassiveDatasets/blob/main/Apriori_Algorithm.ipynb\" target=\"_parent\"><img src=\"https://colab.research.google.com/assets/colab-badge.svg\" alt=\"Open In Colab\"/></a>"
      ]
    },
    {
      "cell_type": "code",
      "metadata": {
        "colab": {
          "base_uri": "https://localhost:8080/"
        },
        "id": "4LVNCBIroPVO",
        "outputId": "b5ae00a3-7b20-4b27-c087-981385a42b78"
      },
      "source": [
        "pip install pyspark"
      ],
      "execution_count": 1,
      "outputs": [
        {
          "output_type": "stream",
          "text": [
            "Requirement already satisfied: pyspark in /usr/local/lib/python3.7/dist-packages (3.1.1)\n",
            "Requirement already satisfied: py4j==0.10.9 in /usr/local/lib/python3.7/dist-packages (from pyspark) (0.10.9)\n"
          ],
          "name": "stdout"
        }
      ]
    },
    {
      "cell_type": "code",
      "metadata": {
        "colab": {
          "base_uri": "https://localhost:8080/"
        },
        "id": "dt3W19tnt68U",
        "outputId": "6c68e2b4-ccd3-417d-bd1b-1b13574a873e"
      },
      "source": [
        "pip install apyori"
      ],
      "execution_count": 2,
      "outputs": [
        {
          "output_type": "stream",
          "text": [
            "Requirement already satisfied: apyori in /usr/local/lib/python3.7/dist-packages (1.1.2)\n"
          ],
          "name": "stdout"
        }
      ]
    },
    {
      "cell_type": "code",
      "metadata": {
        "id": "BBN-ZLZJQVq-"
      },
      "source": [
        "import numpy as np\r\n",
        "import matplotlib.pyplot as plt\r\n",
        "import pandas as pd\r\n",
        "from apyori import apriori\r\n",
        "from pyspark import SparkConf, SparkContext"
      ],
      "execution_count": 3,
      "outputs": []
    },
    {
      "cell_type": "code",
      "metadata": {
        "id": "5N27He1Urid0"
      },
      "source": [
        "conf = SparkConf().setMaster(\"local\").setAppName(\"Market Basket with Apriori\")\r\n",
        "sc = SparkContext.getOrCreate(conf=conf)"
      ],
      "execution_count": 4,
      "outputs": []
    },
    {
      "cell_type": "code",
      "metadata": {
        "id": "hsndKZLKoaEK"
      },
      "source": [
        "file = sc.textFile('/content/drive/MyDrive/sample-datasets/store_data.csv')\r\n"
      ],
      "execution_count": 5,
      "outputs": []
    },
    {
      "cell_type": "code",
      "metadata": {
        "colab": {
          "base_uri": "https://localhost:8080/"
        },
        "id": "OhrTdtqlqX3d",
        "outputId": "44a3a77a-9895-4a70-b75e-5437784849ff"
      },
      "source": [
        "lblitems = file.map(lambda line: line.split(','))\r\n",
        "lblitems.count()\r\n"
      ],
      "execution_count": 6,
      "outputs": [
        {
          "output_type": "execute_result",
          "data": {
            "text/plain": [
              "7501"
            ]
          },
          "metadata": {
            "tags": []
          },
          "execution_count": 6
        }
      ]
    },
    {
      "cell_type": "code",
      "metadata": {
        "id": "yGQiDtO6wnEQ"
      },
      "source": [
        "wlitems = file.flatMap(lambda line: line.split(','))"
      ],
      "execution_count": 7,
      "outputs": []
    },
    {
      "cell_type": "code",
      "metadata": {
        "colab": {
          "base_uri": "https://localhost:8080/"
        },
        "id": "kMvDDCQu07U0",
        "outputId": "e2899f11-2284-4b78-d9e4-5beeecd12f12"
      },
      "source": [
        "uniqueItems = wlitems.distinct()\r\n",
        "uniqueItems.count()"
      ],
      "execution_count": 8,
      "outputs": [
        {
          "output_type": "execute_result",
          "data": {
            "text/plain": [
              "120"
            ]
          },
          "metadata": {
            "tags": []
          },
          "execution_count": 8
        }
      ]
    },
    {
      "cell_type": "code",
      "metadata": {
        "id": "lgXh93KU1b9M"
      },
      "source": [
        "supportRdd = wlitems.map(lambda item: (item , 1))"
      ],
      "execution_count": 9,
      "outputs": []
    },
    {
      "cell_type": "code",
      "metadata": {
        "id": "geTElXvi1m1N"
      },
      "source": [
        "supportRdd = supportRdd.reduceByKey(lambda x,y: (x+y))\r\n"
      ],
      "execution_count": 10,
      "outputs": []
    },
    {
      "cell_type": "code",
      "metadata": {
        "id": "FZ4mM7af2Y-z"
      },
      "source": [
        "supports = supportRdd.map(lambda item: item[1])\r\n",
        "minSupport = supports.min()"
      ],
      "execution_count": 11,
      "outputs": []
    },
    {
      "cell_type": "code",
      "metadata": {
        "id": "4Z5qVU8T3GP2"
      },
      "source": [
        "supportRdd = supportRdd.filter(lambda item: item[1] >= minSupport)"
      ],
      "execution_count": 12,
      "outputs": []
    },
    {
      "cell_type": "code",
      "metadata": {
        "colab": {
          "base_uri": "https://localhost:8080/"
        },
        "id": "wU2WOMNY3xkC",
        "outputId": "67fd12b5-380a-4f9d-b08c-cd3ceb3cf422"
      },
      "source": [
        "baseRdd = supportRdd.map(lambda item: ([item[0]] , item[1]))\r\n",
        "baseRdd.take(20)"
      ],
      "execution_count": 13,
      "outputs": [
        {
          "output_type": "execute_result",
          "data": {
            "text/plain": [
              "[(['shrimp'], 536),\n",
              " (['almonds'], 153),\n",
              " (['avocado'], 250),\n",
              " (['vegetables mix'], 193),\n",
              " (['green grapes'], 68),\n",
              " (['whole weat flour'], 70),\n",
              " (['yams'], 86),\n",
              " (['cottage cheese'], 239),\n",
              " (['energy drink'], 200),\n",
              " (['tomato juice'], 228),\n",
              " (['low fat yogurt'], 574),\n",
              " (['green tea'], 991),\n",
              " (['honey'], 356),\n",
              " (['salad'], 37),\n",
              " (['mineral water'], 1788),\n",
              " (['salmon'], 319),\n",
              " (['antioxydant juice'], 67),\n",
              " (['frozen smoothie'], 475),\n",
              " (['spinach'], 53),\n",
              " (['olive oil'], 494)]"
            ]
          },
          "metadata": {
            "tags": []
          },
          "execution_count": 13
        }
      ]
    },
    {
      "cell_type": "code",
      "metadata": {
        "id": "Sz4e04DquaeT",
        "colab": {
          "base_uri": "https://localhost:8080/"
        },
        "outputId": "0eb80982-214c-43a3-ec45-a20dcae7ed3f"
      },
      "source": [
        "supportRdd = supportRdd.map(lambda item: item[0])\r\n",
        "c2 = supportRdd.cartesian(uniqueItems)\r\n",
        "c2 = c2.filter(lambda item: len(item) == 2)\r\n",
        "c2.take(5)"
      ],
      "execution_count": 14,
      "outputs": [
        {
          "output_type": "execute_result",
          "data": {
            "text/plain": [
              "[('shrimp', 'shrimp'),\n",
              " ('shrimp', 'almonds'),\n",
              " ('shrimp', 'avocado'),\n",
              " ('shrimp', 'vegetables mix'),\n",
              " ('shrimp', 'green grapes')]"
            ]
          },
          "metadata": {
            "tags": []
          },
          "execution_count": 14
        }
      ]
    },
    {
      "cell_type": "code",
      "metadata": {
        "colab": {
          "base_uri": "https://localhost:8080/"
        },
        "id": "5FjYVdfEMfWP",
        "outputId": "3c8681f3-8409-4c65-fb33-8b699bb743de"
      },
      "source": [
        "l2 = c2.cartesian(lblitems)\r\n",
        "l2 = l2.filter(lambda item: all(x in item[1] for x in item[0]))\r\n",
        "l2.take(2)"
      ],
      "execution_count": 15,
      "outputs": [
        {
          "output_type": "execute_result",
          "data": {
            "text/plain": [
              "[(('shrimp', 'shrimp'),\n",
              "  ['shrimp',\n",
              "   'almonds',\n",
              "   'avocado',\n",
              "   'vegetables mix',\n",
              "   'green grapes',\n",
              "   'whole weat flour',\n",
              "   'yams',\n",
              "   'cottage cheese',\n",
              "   'energy drink',\n",
              "   'tomato juice',\n",
              "   'low fat yogurt',\n",
              "   'green tea',\n",
              "   'honey',\n",
              "   'salad',\n",
              "   'mineral water',\n",
              "   'salmon',\n",
              "   'antioxydant juice',\n",
              "   'frozen smoothie',\n",
              "   'spinach',\n",
              "   'olive oil']),\n",
              " (('shrimp', 'shrimp'),\n",
              "  ['shrimp',\n",
              "   'chocolate',\n",
              "   'chicken',\n",
              "   'honey',\n",
              "   'oil',\n",
              "   'cooking oil',\n",
              "   'low fat yogurt'])]"
            ]
          },
          "metadata": {
            "tags": []
          },
          "execution_count": 15
        }
      ]
    },
    {
      "cell_type": "code",
      "metadata": {
        "colab": {
          "base_uri": "https://localhost:8080/"
        },
        "id": "pAK28SiUMtV6",
        "outputId": "3d2bb457-8888-412b-cf18-446d23396252"
      },
      "source": [
        "l2 = l2.map(lambda item: item[0])\r\n",
        "l2 = l2.map(lambda item: (item , 1))\r\n",
        "l2 = l2.reduceByKey(lambda x,y: (x+y))\r\n",
        "l2 = l2.filter(lambda item: item[1] >= minSupport)\r\n",
        "l2.take(5)"
      ],
      "execution_count": 16,
      "outputs": [
        {
          "output_type": "execute_result",
          "data": {
            "text/plain": [
              "[(('shrimp', 'shrimp'), 536),\n",
              " (('shrimp', 'almonds'), 17),\n",
              " (('shrimp', 'avocado'), 23),\n",
              " (('shrimp', 'vegetables mix'), 20),\n",
              " (('shrimp', 'green grapes'), 8)]"
            ]
          },
          "metadata": {
            "tags": []
          },
          "execution_count": 16
        }
      ]
    },
    {
      "cell_type": "code",
      "metadata": {
        "colab": {
          "base_uri": "https://localhost:8080/"
        },
        "id": "mnjDjQzaNOiS",
        "outputId": "39e8563e-c263-4813-9e65-81e405f61707"
      },
      "source": [
        "supportRddL2 = baseRdd.union(l2)\r\n",
        "supportRddL2.take(20)"
      ],
      "execution_count": 17,
      "outputs": [
        {
          "output_type": "execute_result",
          "data": {
            "text/plain": [
              "[(['shrimp'], 536),\n",
              " (['almonds'], 153),\n",
              " (['avocado'], 250),\n",
              " (['vegetables mix'], 193),\n",
              " (['green grapes'], 68),\n",
              " (['whole weat flour'], 70),\n",
              " (['yams'], 86),\n",
              " (['cottage cheese'], 239),\n",
              " (['energy drink'], 200),\n",
              " (['tomato juice'], 228),\n",
              " (['low fat yogurt'], 574),\n",
              " (['green tea'], 991),\n",
              " (['honey'], 356),\n",
              " (['salad'], 37),\n",
              " (['mineral water'], 1788),\n",
              " (['salmon'], 319),\n",
              " (['antioxydant juice'], 67),\n",
              " (['frozen smoothie'], 475),\n",
              " (['spinach'], 53),\n",
              " (['olive oil'], 494)]"
            ]
          },
          "metadata": {
            "tags": []
          },
          "execution_count": 17
        }
      ]
    },
    {
      "cell_type": "code",
      "metadata": {
        "colab": {
          "base_uri": "https://localhost:8080/"
        },
        "id": "tZwnBFmkNU6l",
        "outputId": "f25c1d99-5d3f-41b0-8103-964923f7d79f"
      },
      "source": [
        "l2 = l2.map(lambda item: item[0])\r\n",
        "supportRdd = l2\r\n",
        "supportRdd.take(5)"
      ],
      "execution_count": 18,
      "outputs": [
        {
          "output_type": "execute_result",
          "data": {
            "text/plain": [
              "[('shrimp', 'shrimp'),\n",
              " ('shrimp', 'almonds'),\n",
              " ('shrimp', 'avocado'),\n",
              " ('shrimp', 'vegetables mix'),\n",
              " ('shrimp', 'green grapes')]"
            ]
          },
          "metadata": {
            "tags": []
          },
          "execution_count": 18
        }
      ]
    },
    {
      "cell_type": "code",
      "metadata": {
        "id": "XQ_S9oo3O1nK"
      },
      "source": [
        "#c3"
      ],
      "execution_count": 19,
      "outputs": []
    }
  ]
}