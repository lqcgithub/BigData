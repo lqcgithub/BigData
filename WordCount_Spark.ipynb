{
  "nbformat": 4,
  "nbformat_minor": 0,
  "metadata": {
    "colab": {
      "name": "WordCount_Spark.ipynb",
      "provenance": [],
      "collapsed_sections": [],
      "authorship_tag": "ABX9TyM1IO+bD5ZhWs32UpHepjTb",
      "include_colab_link": true
    },
    "kernelspec": {
      "name": "python3",
      "display_name": "Python 3"
    }
  },
  "cells": [
    {
      "cell_type": "markdown",
      "metadata": {
        "id": "view-in-github",
        "colab_type": "text"
      },
      "source": [
        "<a href=\"https://colab.research.google.com/github/lqcgithub/BigData/blob/main/WordCount_Spark.ipynb\" target=\"_parent\"><img src=\"https://colab.research.google.com/assets/colab-badge.svg\" alt=\"Open In Colab\"/></a>"
      ]
    },
    {
      "cell_type": "code",
      "metadata": {
        "colab": {
          "base_uri": "https://localhost:8080/"
        },
        "id": "CshGCC2l_LKc",
        "outputId": "208ca10a-e87e-452a-bb04-4b3031b0dcd5"
      },
      "source": [
        "!pip3 install pyspark"
      ],
      "execution_count": null,
      "outputs": [
        {
          "output_type": "stream",
          "text": [
            "Requirement already satisfied: pyspark in /usr/local/lib/python3.6/dist-packages (3.0.1)\n",
            "Requirement already satisfied: py4j==0.10.9 in /usr/local/lib/python3.6/dist-packages (from pyspark) (0.10.9)\n"
          ],
          "name": "stdout"
        }
      ]
    },
    {
      "cell_type": "code",
      "metadata": {
        "id": "Y2OdpjzHAhtS"
      },
      "source": [
        "import pyspark\r\n",
        "from pyspark import SparkConf, SparkContext\r\n",
        "import collections\r\n"
      ],
      "execution_count": null,
      "outputs": []
    },
    {
      "cell_type": "code",
      "metadata": {
        "id": "pZ_y6hhmAjrg"
      },
      "source": [
        "conf = SparkConf().setMaster(\"local\").setAppName(\"word counting\")\r\n",
        "sc = SparkContext.getOrCreate(conf=conf)"
      ],
      "execution_count": null,
      "outputs": []
    },
    {
      "cell_type": "code",
      "metadata": {
        "colab": {
          "base_uri": "https://localhost:8080/"
        },
        "id": "kQt41WHJA2BG",
        "outputId": "98f1e540-f8e7-4cc1-b27c-912584813c3c"
      },
      "source": [
        "f = sc.textFile(\"sample_data/sample.txt\")\r\n",
        "words = f.flatMap(lambda line: line.split(\" \"))\r\n",
        "data = words.map(lambda word: (word, 1))\r\n",
        "# data.take(1)\r\n",
        "count = data.reduceByKey(lambda x, y: x+y)\r\n",
        "ls = list(count.collect())\r\n",
        "ls.sort()\r\n",
        "ls.reverse()\r\n",
        "print(ls[0:5])"
      ],
      "execution_count": null,
      "outputs": [
        {
          "output_type": "stream",
          "text": [
            "[('will', 2), ('very', 2), ('tools', 1), ('the', 1), ('that', 1)]\n"
          ],
          "name": "stdout"
        }
      ]
    }
  ]
}